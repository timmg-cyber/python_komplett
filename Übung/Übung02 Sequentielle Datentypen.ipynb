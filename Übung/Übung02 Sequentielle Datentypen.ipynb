{
 "cells": [
  {
   "cell_type": "markdown",
   "id": "81ec84bd",
   "metadata": {},
   "source": [
    "Im folgenden finden Sie zwei Aufgaben zu Sequentiellen Datentypen dargestellt. Achten Sie bei der Bearbeitung besonders auf folgende Punkte:\n",
    "- Verwenden Sie sequentielle Datentypen wie Listen und Tupel.\n",
    "- Zeige Sie, wie man Elemente hinzufügt und entfernt.\n",
    "- Zeigen Sie die Verwendung von Indizes zur Manipulation der Listen."
   ]
  },
  {
   "cell_type": "markdown",
   "id": "2083b5be",
   "metadata": {},
   "source": [
    "## Aufgabe 1"
   ]
  },
  {
   "cell_type": "markdown",
   "id": "ba44881f",
   "metadata": {},
   "source": [
    "Du arbeitest als Entwickler für einen Veranstaltungsplaner. Deine Aufgabe ist es, ein kleines Programm in Python zu schreiben, das grundlegende Funktionen zur Verwaltung einer Liste von Gästen und einer Liste von Veranstaltungen bietet. Die Gäste und Veranstaltungen werden als Tupel und Strings dargestellt."
   ]
  },
  {
   "cell_type": "markdown",
   "id": "5f6337ad",
   "metadata": {},
   "source": [
    "1. Gästeliste verwalten"
   ]
  },
  {
   "cell_type": "markdown",
   "id": "e55f99fe",
   "metadata": {},
   "source": [
    "- Erstelle eine leere Liste namens gaeste.\n",
    "- Füge drei Gäste zur Liste hinzu. Jeder Gast wird durch ein Tupel dargestellt, das den Namen und die E-Mail-Adresse des Gastes enthält. Beispiel: (\"Max Mustermann\", \"max@beispiel.de\").\n",
    "- Entferne einen Gast aus der Liste.\n",
    "- Zeige die aktuelle Liste der Gäste an."
   ]
  },
  {
   "cell_type": "code",
   "execution_count": null,
   "id": "c5b4b5c5",
   "metadata": {},
   "outputs": [],
   "source": [
    "## Ihr Code"
   ]
  },
  {
   "cell_type": "markdown",
   "id": "74716102",
   "metadata": {},
   "source": [
    "2. Veranstaltungsliste verwalten"
   ]
  },
  {
   "cell_type": "markdown",
   "id": "8927af40",
   "metadata": {},
   "source": [
    "- Erstelle eine Liste namens 'veranstaltungen' mit drei Veranstaltungen. Jede Veranstaltung wird als String dargestellt.- \n",
    "- Füge eine neue Veranstaltung zur Liste hinzu.\n",
    "- Entferne eine Veranstaltung aus der Liste.\n",
    "- Zeige die aktuelle Liste der Veranstaltungen an."
   ]
  },
  {
   "cell_type": "code",
   "execution_count": null,
   "id": "197d8e33",
   "metadata": {},
   "outputs": [],
   "source": [
    "## Ihr Code"
   ]
  },
  {
   "cell_type": "markdown",
   "id": "69a821a9",
   "metadata": {},
   "source": [
    "3. Gästeliste und Veranstaltungsliste kombinieren:\n",
    "- Erstelle eine Liste namens 'einladungen', die für jede Veranstaltung eine Liste von eingeladenen Gästen enthält.\n",
    "- Weise für jede Veranstaltung zwei Gäste zu und füge die entsprechenden Tupel zur Liste einladungen hinzu.\n",
    "- Zeige die Liste der Einladungen an."
   ]
  },
  {
   "cell_type": "code",
   "execution_count": null,
   "id": "eb96403c",
   "metadata": {},
   "outputs": [],
   "source": [
    "## Ihr Code\n",
    "\n",
    "## Ausgabe"
   ]
  },
  {
   "cell_type": "markdown",
   "id": "6bb1d73a",
   "metadata": {},
   "source": [
    "4. Gästeliste verwalten:\n",
    "- Entfernen Sie den letzten Gast aus der Gästeliste mit pop und geben diesen und die aktualisierte Gästeliste mit print() aus\n",
    "- Fügen Sie einen neuen Gast an der zweiten Position ein. Geben Sie ebenfalls die neue Gästeliste aus.\n",
    "- Erweitern Sie die Veranstaltungsliste durch ein 'Frühlingsfest' und einen 'Herbstmarkt' mit extend. Geben Sie die aktualisierte Veranstaltungsliste aus"
   ]
  },
  {
   "cell_type": "code",
   "execution_count": null,
   "id": "7fc90369",
   "metadata": {},
   "outputs": [],
   "source": [
    "## Ihr Code"
   ]
  }
 ],
 "metadata": {
  "kernelspec": {
   "display_name": "Python 3 (ipykernel)",
   "language": "python",
   "name": "python3"
  },
  "language_info": {
   "codemirror_mode": {
    "name": "ipython",
    "version": 3
   },
   "file_extension": ".py",
   "mimetype": "text/x-python",
   "name": "python",
   "nbconvert_exporter": "python",
   "pygments_lexer": "ipython3",
   "version": "3.11.5"
  }
 },
 "nbformat": 4,
 "nbformat_minor": 5
}
