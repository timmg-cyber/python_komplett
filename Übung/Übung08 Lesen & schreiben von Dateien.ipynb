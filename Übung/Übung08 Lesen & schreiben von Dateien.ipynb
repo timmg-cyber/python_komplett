{
 "cells": [
  {
   "cell_type": "markdown",
   "id": "a38d30b1-c32b-4a0b-a57c-f85e393ff2dd",
   "metadata": {},
   "source": [
    "## Aufgabe 1"
   ]
  },
  {
   "cell_type": "markdown",
   "id": "8766f1f4-0aae-49ad-82ea-7f5e04df8f9b",
   "metadata": {},
   "source": [
    "- Erstellen Sie eine Liste mit dem Namen \"schulungsteilnehmer\" und fügen Sie der Liste mindestens 3 fiktive Schulungsteilnehmer hinzu.\n",
    "- Schreiben Sie die Namen jeweils in eine eigene Zeile in einem Textfile namens \"schulungsteilnehmer.txt\"\n",
    "- Lesen Sie die Liste ein und schreiben Sie die Daten in eine weitere Liste\n"
   ]
  },
  {
   "cell_type": "code",
   "execution_count": null,
   "id": "97b88fc6-fe92-420d-980b-1f93a2822960",
   "metadata": {},
   "outputs": [],
   "source": [
    "## Ihr Code"
   ]
  },
  {
   "cell_type": "markdown",
   "id": "d113d068-84d5-4d06-85ae-e25b8fb75943",
   "metadata": {},
   "source": [
    "## Aufgabe 2"
   ]
  },
  {
   "cell_type": "markdown",
   "id": "c1c87fb4-f9a8-4ec3-84bb-62633be93138",
   "metadata": {},
   "source": [
    "- Erstellen Sie ein Dictionary mit verschiedenen Städtenamen als Keys und zufälligen Personennamen als Values\n",
    "- schreiben Sie das Dictionary in einen pickle-file namens \"city_persons.pkl\"\n",
    "- Lesen Sie die pickle-Datei wieder ein und weisen Sie den Inhalt einer neuen Variable zu"
   ]
  },
  {
   "cell_type": "code",
   "execution_count": null,
   "id": "c321ae05-32cc-45f4-a8af-a9b257a5acb8",
   "metadata": {},
   "outputs": [],
   "source": [
    "## Ihr Code"
   ]
  },
  {
   "cell_type": "markdown",
   "id": "11165dd7-0d7b-48f0-a6bb-5a9e7fdcdb82",
   "metadata": {},
   "source": [
    "## Aufgabe 3"
   ]
  },
  {
   "cell_type": "markdown",
   "id": "f9ee76d3-7200-4cc2-a6bc-322aec57fcff",
   "metadata": {},
   "source": [
    "- Nehmen Sie das Dictionary aus der vorherigen Übung und überführen diese in eine shelf-Datei namens \"city_persons\"\n",
    "- Starten Sie das Notebook neu und lesen Sie das Dictionary über das shelf-Modul erneut ein\n",
    "- Lassen Sie sich die keys und values ausgeben"
   ]
  },
  {
   "cell_type": "code",
   "execution_count": null,
   "id": "c545d250-a0bb-4e42-b96c-826e313e1874",
   "metadata": {},
   "outputs": [],
   "source": [
    "## Ihr Code"
   ]
  }
 ],
 "metadata": {
  "kernelspec": {
   "display_name": "Python 3 (ipykernel)",
   "language": "python",
   "name": "python3"
  },
  "language_info": {
   "codemirror_mode": {
    "name": "ipython",
    "version": 3
   },
   "file_extension": ".py",
   "mimetype": "text/x-python",
   "name": "python",
   "nbconvert_exporter": "python",
   "pygments_lexer": "ipython3",
   "version": "3.11.5"
  }
 },
 "nbformat": 4,
 "nbformat_minor": 5
}
