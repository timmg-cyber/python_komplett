{
 "cells": [
  {
   "cell_type": "markdown",
   "id": "e5c00ff8",
   "metadata": {},
   "source": [
    "Bitte bearbeiten Sie folgende Übungen zum Thema Schleifen. Sie dürfen gerne alle gelernten Inhalte aus den vorherigen Übungen mit einfließen lassen"
   ]
  },
  {
   "cell_type": "markdown",
   "id": "09b6c8da",
   "metadata": {},
   "source": [
    "## Aufgabe 1"
   ]
  },
  {
   "cell_type": "markdown",
   "id": "ccee467f",
   "metadata": {},
   "source": [
    "Sie haben eine Einkaufsliste und möchten sicherstellen, dass alle benötigten Artikel im Einkaufswagen sind. Schreiben Sie ein Python-Programm, das die Artikel auf der Einkaufsliste mit den Artikeln im Einkaufswagen vergleicht und anzeigt, welche Artikel noch fehlen und welche zusätzlich im Einkaufswagen sind.\n",
    "\n",
    "Vorgaben:\n",
    "- Sie haben zwei Listen: eine Einkaufsliste (einkaufsliste) und eine Liste der Artikel im Einkaufswagen (einkaufswagen).\n",
    "- Das Programm soll durch die Listen iterieren und die Artikel vergleichen.\n",
    "\n",
    "Am Ende soll das Programm zwei Listen ausgeben:\n",
    "- Eine Liste mit Artikeln, die auf der Einkaufsliste stehen, aber nicht im Einkaufswagen sind.\n",
    "- Eine Liste mit Artikeln, die im Einkaufswagen sind, aber nicht auf der Einkaufsliste stehen."
   ]
  },
  {
   "cell_type": "code",
   "execution_count": null,
   "id": "9197cca8",
   "metadata": {},
   "outputs": [],
   "source": [
    "# Gegebene Listen\n",
    "einkaufsliste = [\"Brot\", \"Milch\", \"Eier\", \"Butter\", \"Apfel\"]\n",
    "einkaufswagen = [\"Milch\", \"Eier\", \"Butter\", \"Banane\", \"Saft\"]\n",
    "\n",
    "# Listen für fehlende und zusätzliche Artikel initialisieren\n",
    "##Ihr Code\n",
    "\n",
    "\n",
    "\n",
    "# Überprüfen, welche Artikel auf der Einkaufsliste fehlen\n",
    "##Ihr Code\n",
    "\n",
    "\n",
    "\n",
    "# Überprüfen, welche Artikel zusätzlich im Einkaufswagen sind\n",
    "##Ihr Code\n",
    "\n",
    "\n",
    "\n",
    "# Ergebnisse ausgeben\n",
    "##Ihr Code"
   ]
  },
  {
   "cell_type": "markdown",
   "id": "432c02ff",
   "metadata": {},
   "source": [
    "## Aufgabe 2"
   ]
  },
  {
   "cell_type": "markdown",
   "id": "56c6497a",
   "metadata": {},
   "source": [
    "Sie arbeiten in einem Lager und möchten den Bestand der Artikel überprüfen. Sie haben eine Liste der aktuellen Bestände und eine Liste der verkauften Artikel. Schreiben Sie ein Python-Programm, das den aktuellen Bestand nach dem Verkauf der Artikel berechnet und anzeigt, welche Artikel nachbestellt werden müssen, falls ihr Bestand unter einen bestimmten Schwellenwert fällt.\n",
    "\n",
    "Vorgaben:\n",
    "- Sie haben zwei Listen: eine Liste der aktuellen Bestände (bestände) und eine Liste der verkauften Artikel (verkäufe).\n",
    "- Jedes Element in der Liste bestände ist ein Tupel bestehend aus dem Artikelnamen und der Anzahl der verfügbaren Artikel.\n",
    "- Jedes Element in der Liste verkäufe ist ein Tupel bestehend aus dem Artikelnamen und der Anzahl der verkauften Artikel.\n",
    "- Der Schwellenwert, unter dem Artikel nachbestellt werden müssen, beträgt 5 Stück.\n",
    "- Das Programm soll durch die Listen iterieren und den neuen Bestand berechnen.\n",
    "- Am Ende soll das Programm eine Liste der Artikel ausgeben, die nachbestellt werden müssen."
   ]
  },
  {
   "cell_type": "code",
   "execution_count": null,
   "id": "249c1956",
   "metadata": {},
   "outputs": [],
   "source": [
    "## Listen\n",
    "bestände = [(\"Brot\", 10), (\"Milch\", 20), (\"Eier\", 30), (\"Butter\", 5), (\"Apfel\", 15)]\n",
    "verkäufe = [(\"Milch\", 5), (\"Eier\", 25), (\"Butter\", 2), (\"Apfel\", 12), (\"Brot\", 10)]\n",
    "\n",
    "schwellenwert = 5\n",
    "\n",
    "# Aktualisierung der Bestände nach Verkäufen\n",
    "##Ihr Code\n",
    "\n",
    "# Liste für nachzubestellende Artikel initialisieren\n",
    "## Ihr Code\n",
    "\n",
    "\n",
    "# Überprüfen, welche Artikel nachbestellt werden müssen\n",
    "## Ihr Code\n",
    "\n",
    "\n",
    "# Ergebnisse ausgeben\n",
    "##Ihr Code"
   ]
  }
 ],
 "metadata": {
  "kernelspec": {
   "display_name": "Python 3 (ipykernel)",
   "language": "python",
   "name": "python3"
  },
  "language_info": {
   "codemirror_mode": {
    "name": "ipython",
    "version": 3
   },
   "file_extension": ".py",
   "mimetype": "text/x-python",
   "name": "python",
   "nbconvert_exporter": "python",
   "pygments_lexer": "ipython3",
   "version": "3.11.5"
  }
 },
 "nbformat": 4,
 "nbformat_minor": 5
}
