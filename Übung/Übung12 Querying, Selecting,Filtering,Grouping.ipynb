{
 "cells": [
  {
   "cell_type": "code",
   "execution_count": 1,
   "id": "1fa16145",
   "metadata": {},
   "outputs": [],
   "source": [
    "from sqlalchemy import create_engine\n",
    "import pandas as pd\n",
    "import plotly.express as px"
   ]
  },
  {
   "cell_type": "markdown",
   "id": "788db6c5",
   "metadata": {},
   "source": [
    "Datenquelle: https://www.rki.de/DE/Home/homepage_node.html"
   ]
  },
  {
   "cell_type": "code",
   "execution_count": 2,
   "id": "bc5efe0c",
   "metadata": {},
   "outputs": [],
   "source": [
    "database = \"\"\n",
    "username = \"\"\n",
    "password = \"\"\n",
    "host = \"\""
   ]
  },
  {
   "cell_type": "code",
   "execution_count": null,
   "id": "56d5767c",
   "metadata": {},
   "outputs": [],
   "source": [
    "engine = create_engine(f'postgresql://{username}:{password}@{host}:5432/{database}')"
   ]
  },
  {
   "cell_type": "markdown",
   "id": "5d4d1dd5",
   "metadata": {},
   "source": [
    "Lesen Sie die Tabelle \"corona_daten\" aus der Datenbank ein. Benutzen Sie dafür die pd.read_sql_table() Funktion."
   ]
  },
  {
   "cell_type": "code",
   "execution_count": null,
   "id": "22bf5511",
   "metadata": {},
   "outputs": [],
   "source": [
    "### Your Code Here"
   ]
  },
  {
   "cell_type": "markdown",
   "id": "34d1d64b",
   "metadata": {},
   "source": [
    "Berechnen Sie die Todesrate pro Gemeinde und die ICU-Bettenauslastung (ICU = Intensiv-Care-Unit) und speichern Sie diese jeweils in einer neuen Spalte."
   ]
  },
  {
   "cell_type": "code",
   "execution_count": null,
   "id": "5d528fdc",
   "metadata": {},
   "outputs": [],
   "source": [
    "### Your Code Here"
   ]
  },
  {
   "cell_type": "markdown",
   "id": "e0789601",
   "metadata": {},
   "source": [
    "Sortieren Sie Ihr DataFrame nach der Todesrate. Welche Gemeinde hatte an diesem Tag die höchste Todesrate? Benutzen Sie folgende Methode: https://pandas.pydata.org/pandas-docs/stable/reference/api/pandas.DataFrame.sort_values.html"
   ]
  },
  {
   "cell_type": "code",
   "execution_count": null,
   "id": "4147ef54",
   "metadata": {},
   "outputs": [],
   "source": [
    "### Your Code Here"
   ]
  },
  {
   "cell_type": "markdown",
   "id": "702100aa",
   "metadata": {},
   "source": [
    "Lassen Sie sich nun eine Zusammenfassung der statistischen Kennzahlen (describe-Methode) ausgeben, was fällt auf?"
   ]
  },
  {
   "cell_type": "code",
   "execution_count": null,
   "id": "2240a490",
   "metadata": {},
   "outputs": [],
   "source": [
    "### Your Code Here"
   ]
  },
  {
   "cell_type": "markdown",
   "id": "7c834149",
   "metadata": {},
   "source": [
    "Sie bekommen die Aufgabe alle Landkreise mit kritischer Bettenauslastung herauszufiltern. Als kritischer Wert werden alle Kreise, die eine Auslastung von über 90% erreicht haben festgelegt. Filtern Sie das bestehende Dataset um die Stadt/Landkresie herauszufinden. Hinweis: Nutzen Sie dafür die .loc-Methode"
   ]
  },
  {
   "cell_type": "code",
   "execution_count": null,
   "id": "69fe350b",
   "metadata": {},
   "outputs": [],
   "source": [
    "### Your Code Here"
   ]
  }
 ],
 "metadata": {
  "kernelspec": {
   "display_name": "Python 3 (ipykernel)",
   "language": "python",
   "name": "python3"
  },
  "language_info": {
   "codemirror_mode": {
    "name": "ipython",
    "version": 3
   },
   "file_extension": ".py",
   "mimetype": "text/x-python",
   "name": "python",
   "nbconvert_exporter": "python",
   "pygments_lexer": "ipython3",
   "version": "3.11.5"
  }
 },
 "nbformat": 4,
 "nbformat_minor": 5
}
