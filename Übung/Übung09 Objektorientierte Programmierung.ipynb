{
 "cells": [
  {
   "cell_type": "markdown",
   "id": "d2f1ce37-7e42-444d-979b-40a76695f4b8",
   "metadata": {},
   "source": [
    "## Aufgabe 1"
   ]
  },
  {
   "cell_type": "markdown",
   "id": "5543b6d7-3df6-4a8b-a852-136e0604a961",
   "metadata": {},
   "source": [
    "In dieser Aufgabe müssen Sie die Grundlagen der Objektorientierten Programmierung anwenden. Erstellen Sie hierfür zunächst eine Klasse für folgendes Klassendiagramm:"
   ]
  },
  {
   "cell_type": "markdown",
   "id": "a30cb1f4-beaf-4fc5-8a6b-3287a7f233b1",
   "metadata": {},
   "source": [
    "![Book](Book.png)"
   ]
  },
  {
   "cell_type": "code",
   "execution_count": null,
   "id": "473732dd-e5ea-4924-a07d-bd099c08b2ae",
   "metadata": {},
   "outputs": [],
   "source": [
    "## Ihr Code"
   ]
  },
  {
   "cell_type": "markdown",
   "id": "28e2bb77-04b3-4a9b-b0c7-a7096ce8aae7",
   "metadata": {},
   "source": [
    "Führen Sie nun folgende Schritte durch:\n",
    "- Erstellen Sie zwei Instanzen Ihrer Klasse\n",
    "- leihen Sie ein Buch aus\n",
    "- lassen Sie sich die Info ausgeben\n",
    "- versuchen Sie ein Buch zurückzugeben, das noch nicht ausgeliehen ist\n",
    "- geben Sie ein ausgeliehenes Buch zurück\n",
    "- Versuchen Sie ein ausgeliehens Buch auszuleihen"
   ]
  },
  {
   "cell_type": "code",
   "execution_count": null,
   "id": "b27eb3bc-208a-4944-a20d-802bd26fca67",
   "metadata": {},
   "outputs": [],
   "source": [
    "## Ihr Code"
   ]
  },
  {
   "cell_type": "markdown",
   "id": "f95dfe48-d939-47cd-87c0-dbbe0aada528",
   "metadata": {},
   "source": [
    "## Aufgabe 2"
   ]
  },
  {
   "cell_type": "markdown",
   "id": "a7fcde0e-cfac-42c6-bd83-3345f1802d14",
   "metadata": {},
   "source": [
    "Erstellen Sie nun die Klassen aus dem nachfolgendem Klassendiagramm (Quelle: https://oer-informatik.de/):"
   ]
  },
  {
   "cell_type": "markdown",
   "id": "ffe844d7-32fe-4f68-89e4-8784ff79e537",
   "metadata": {},
   "source": [
    "![Konto](Konto.png)"
   ]
  },
  {
   "cell_type": "markdown",
   "id": "fd3c3413-e514-45c3-89bb-d4b65c47c90d",
   "metadata": {},
   "source": [
    "Achten Sie bei der Erstellung auf korrekte Vererbung und setzen Sie ggf. Properties und Slots ein. Beachten Sie ebenfalls die visibility (auch wenn diese in Python nur ein Designcharakter hat. "
   ]
  },
  {
   "cell_type": "code",
   "execution_count": null,
   "id": "8e0aaf3b-f562-4c26-98bb-a0aa8bb48770",
   "metadata": {},
   "outputs": [],
   "source": [
    "## Ihr Code"
   ]
  },
  {
   "cell_type": "markdown",
   "id": "91740559-dabc-4e07-8b3a-8d3849e7f46c",
   "metadata": {},
   "source": [
    "Führen Sie nun folgende Schritte durch:\n",
    "- Erstellen Sie ein Privatkonto und ein Geschäftskonto (das Geschäftskonto soll einen verfuegungsrahmen von 5000 € haben)\n",
    "- Zahlen Sie jeweils 5000 und 100000 Euro in die Konten ein\n",
    "- Lassen Sie sich den Kontostand ausgeben\n",
    "- lassen Sie sich 2000 und 10000 Euro auszahlen (Was fehlt eventuell noch in der Klasse Konto?)\n",
    "- Ändern Sie den Firmennamen des Geschäftskontos"
   ]
  }
 ],
 "metadata": {
  "kernelspec": {
   "display_name": "Python 3 (ipykernel)",
   "language": "python",
   "name": "python3"
  },
  "language_info": {
   "codemirror_mode": {
    "name": "ipython",
    "version": 3
   },
   "file_extension": ".py",
   "mimetype": "text/x-python",
   "name": "python",
   "nbconvert_exporter": "python",
   "pygments_lexer": "ipython3",
   "version": "3.11.5"
  }
 },
 "nbformat": 4,
 "nbformat_minor": 5
}
