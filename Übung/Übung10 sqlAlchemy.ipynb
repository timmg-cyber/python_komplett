{
 "cells": [
  {
   "cell_type": "markdown",
   "id": "b4f402f2-f59f-4190-bed2-eea677d6b40c",
   "metadata": {},
   "source": [
    "## Aufgabe 1"
   ]
  },
  {
   "cell_type": "code",
   "execution_count": null,
   "id": "5568a0e0-9ad7-4541-acd5-047a76d60bc7",
   "metadata": {},
   "outputs": [],
   "source": [
    "## Imports\n",
    "from sqlalchemy import create_engine\n",
    "from sqlalchemy import Column, Integer, String, ForeignKey #weitere Datentypen: Date, Boolean\n",
    "from sqlalchemy.ext.declarative import declarative_base\n",
    "from sqlalchemy.orm import relationship, sessionmaker\n",
    "import json"
   ]
  },
  {
   "cell_type": "markdown",
   "id": "28bc5b2e-f5e4-43c4-a332-e620f9531edc",
   "metadata": {},
   "source": [
    "Erstellen Sie das engine-Objekt für die Datenbank:"
   ]
  },
  {
   "cell_type": "code",
   "execution_count": null,
   "id": "2a141e6f-8e82-4c14-8a90-ad4570ab4006",
   "metadata": {},
   "outputs": [],
   "source": [
    "## Ihr Code"
   ]
  },
  {
   "cell_type": "markdown",
   "id": "4b6144d3-a673-4ba3-a3d7-cbd6f7f20f8b",
   "metadata": {},
   "source": [
    "Implementieren Sie folgendes ERM als Datenbankschema mit sqlAlchemy:"
   ]
  },
  {
   "cell_type": "markdown",
   "id": "1aad11ab-9f0f-4a86-ad5a-df082557e90f",
   "metadata": {},
   "source": [
    "![ERM](erm.png)"
   ]
  },
  {
   "cell_type": "code",
   "execution_count": null,
   "id": "9c81509a-45c8-42a9-a757-5261c247fe2e",
   "metadata": {},
   "outputs": [],
   "source": [
    "## Ihr Code"
   ]
  },
  {
   "cell_type": "markdown",
   "id": "55620ab9-dbf2-4ff7-b7a6-e4b3fa18a929",
   "metadata": {},
   "source": [
    "- Erstellen Sie mindestens 3 Bücher und fügen diese der Datenbank hinzu\n",
    "- Fragen Sie alle Bücher aus der Datenbank ab und lassen Sie sich diese ausgeben\n",
    "- Fragen Sie alle Autoren aus der Datenbank ab und lassen Sie sich diese ausgeben"
   ]
  },
  {
   "cell_type": "code",
   "execution_count": null,
   "id": "4041f5f2-f656-4afe-b1a7-0b37683c7eb6",
   "metadata": {},
   "outputs": [],
   "source": [
    "## Ihr Code"
   ]
  }
 ],
 "metadata": {
  "kernelspec": {
   "display_name": "Python 3 (ipykernel)",
   "language": "python",
   "name": "python3"
  },
  "language_info": {
   "codemirror_mode": {
    "name": "ipython",
    "version": 3
   },
   "file_extension": ".py",
   "mimetype": "text/x-python",
   "name": "python",
   "nbconvert_exporter": "python",
   "pygments_lexer": "ipython3",
   "version": "3.11.5"
  }
 },
 "nbformat": 4,
 "nbformat_minor": 5
}
