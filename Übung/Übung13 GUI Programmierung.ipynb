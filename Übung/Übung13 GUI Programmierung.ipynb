{
 "cells": [
  {
   "cell_type": "markdown",
   "id": "60996599-7196-41a8-a6c7-3c663f857763",
   "metadata": {},
   "source": [
    "## Aufgabe 1"
   ]
  },
  {
   "cell_type": "markdown",
   "id": "cf5eb632-1326-4ba5-9d9e-f8ae8a7ec4ea",
   "metadata": {},
   "source": [
    "Erstellen Sie eine GUI mit dem tkinter-Modul, indem Sie folgende Schritte umsetzen:\n",
    "- Importieren Sie das tkinter-Modul.\n",
    "- Erstellen Sie das Hauptfenster mit dem Titel \"Einfache GUI-Anwendung\".\n",
    "- Fügen Sie ein Label mit der Beschriftung \"Einfache GUI-Anwendung\" hinzu.\n",
    "- Erstellen Sie zwei Textboxen für den Vornamen und den Nachnamen und positionieren Sie diese in einem Frame.\n",
    "- Erstellen Sie zwei Checkboxes mit den Beschriftungen \"Option 1\" und \"Option 2\" und positionieren Sie diese in einem Frame.\n",
    "- Fügen Sie einen Button hinzu, der beim Klicken eine Funktion aufruft, um den Inhalt der Textboxen und den Status der Checkboxes in einem Label anzuzeigen.\n",
    "- Lassen Sie sich den Vornamen und Nachnamen, sowie den Status der Checkboxen auf der Konsole anzeigen\n",
    "- Starten Sie die Hauptschleife der GUI."
   ]
  },
  {
   "cell_type": "code",
   "execution_count": 2,
   "id": "1f660dba-ad44-4200-b880-6d78ba801352",
   "metadata": {},
   "outputs": [],
   "source": [
    "import tkinter as tk\n",
    "\n",
    "class GUI:\n",
    "    ##Ihr Code\n",
    "    pass\n",
    "\n",
    "\n",
    "if __name__ == \"__main__\":\n",
    "    root = tk.Tk()\n",
    "    app = GUI(root)\n",
    "    root.mainloop()"
   ]
  }
 ],
 "metadata": {
  "kernelspec": {
   "display_name": "Python 3 (ipykernel)",
   "language": "python",
   "name": "python3"
  },
  "language_info": {
   "codemirror_mode": {
    "name": "ipython",
    "version": 3
   },
   "file_extension": ".py",
   "mimetype": "text/x-python",
   "name": "python",
   "nbconvert_exporter": "python",
   "pygments_lexer": "ipython3",
   "version": "3.11.5"
  }
 },
 "nbformat": 4,
 "nbformat_minor": 5
}
