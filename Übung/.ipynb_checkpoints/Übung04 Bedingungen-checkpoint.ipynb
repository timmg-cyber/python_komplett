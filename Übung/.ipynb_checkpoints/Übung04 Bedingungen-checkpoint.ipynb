{
 "cells": [
  {
   "cell_type": "markdown",
   "id": "c40317bd",
   "metadata": {},
   "source": [
    "Im Folgenden Notebook sind zwei Aufgabenstellungen enthalten. Versuchen Sie für beide passenende Bedingungen zu entwickeln."
   ]
  },
  {
   "cell_type": "markdown",
   "id": "9020c634",
   "metadata": {},
   "source": [
    "## Aufgabe 1"
   ]
  },
  {
   "cell_type": "markdown",
   "id": "ddd9fe6d",
   "metadata": {},
   "source": [
    "Ein Online-Shop möchte eine einfache Bewertung für den Einkaufskorb eines Kunden implementieren. Jeder Einkaufskorb besteht aus 3 Listen, wobei jeder Index ein Produkt darstellt. Die Listen enthalten den Namen des Produkts (artikel), die Menge (menge) und den Preis (preis) pro Einheit.\n",
    "\n",
    "Deine Aufgabe ist es, ein Python-Programm zu schreiben, das die folgenden Funktionen bietet:\n",
    "\n",
    "- Überprüfen, ob der Kunde Milch gekauft hat.\n",
    "- Den Gesamtpreis des Einkaufswagens berechnen.\n",
    "- Überprüfen, ob der Einkaufswagen die Mindestanforderung für kostenlosen Versand erfüllt (>10€)."
   ]
  },
  {
   "cell_type": "code",
   "execution_count": null,
   "id": "f251b662",
   "metadata": {},
   "outputs": [],
   "source": [
    "# Listen\n",
    "\n",
    "artikel = [\"Äpfel\",\"Brot\",\"Milch\",\"Eier\"]\n",
    "menge = [2,1,1,12]\n",
    "preis = [1.50,2.00,1.20,0.10]\n"
   ]
  },
  {
   "cell_type": "markdown",
   "id": "0c6f997a",
   "metadata": {},
   "source": [
    "Für den Einkaufskorb, sollte das Programm folgende Ausgabe geben:\n",
    "\n",
    "- Milch ist im Einkaufswagen.\n",
    "- Gesamtpreis: 7.40 Euro\n",
    "- Kostenloser Versand nicht verfügbar."
   ]
  },
  {
   "cell_type": "code",
   "execution_count": null,
   "id": "aff806b7",
   "metadata": {},
   "outputs": [],
   "source": [
    "# Überprüfen, ob \"Milch\" im Einkaufswagen ist\n",
    "## Ihr Code\n",
    "\n",
    "# Gesamtpreis des Einkaufswagens berechnen\n",
    "## Ihr Code\n",
    "\n",
    "# Überprüfen der Mindestanforderung für kostenlosen Versand\n",
    "## Ihr Code"
   ]
  },
  {
   "cell_type": "markdown",
   "id": "3ad5e574",
   "metadata": {},
   "source": [
    "## Aufgabe 2"
   ]
  },
  {
   "cell_type": "markdown",
   "id": "f04fa0d0",
   "metadata": {},
   "source": [
    "Sie sind für den Wareneingang eines Logistik-Unternehmens zuständig und müssen die Daten, welches das System erfasst, richtig zuordnen.\n",
    "Die Daten werden immer als Liste übergeben. Leider sind die Daten nicht sortiert. Das heißt Sie können nicht immer sagen an welcher Stelle\n",
    "sich welche Information befindet.\n",
    "Die Daten die übermittel werden sind: Gewicht (float), id(int) und Produkt(str)\n",
    "\n",
    "Bringen Sie die Liste in folgende Reihenfolge: (id,gewicht,produkt)\n",
    "und geben Sie den Artikel aus.\n",
    "\n",
    "Hinweis: Benutzen Sie die isinstance()-Methode"
   ]
  },
  {
   "cell_type": "code",
   "execution_count": null,
   "id": "5a961114",
   "metadata": {},
   "outputs": [],
   "source": [
    "ware = (\"Lebensmittel\",1594, 20.0)\n",
    "#ware = (1594,\"Lebensmittel\", 20.0)\n",
    "#ware = (20.0,1594, \"Lebensmittel\")\n",
    "#ware = (\"Lebensmittel\",20.0, 1594)\n",
    "\n",
    "\n",
    "## Ihr Code\n",
    "\n",
    "    \n",
    "\n",
    "## Ausgabe"
   ]
  }
 ],
 "metadata": {
  "kernelspec": {
   "display_name": "Python 3 (ipykernel)",
   "language": "python",
   "name": "python3"
  },
  "language_info": {
   "codemirror_mode": {
    "name": "ipython",
    "version": 3
   },
   "file_extension": ".py",
   "mimetype": "text/x-python",
   "name": "python",
   "nbconvert_exporter": "python",
   "pygments_lexer": "ipython3",
   "version": "3.11.5"
  }
 },
 "nbformat": 4,
 "nbformat_minor": 5
}
