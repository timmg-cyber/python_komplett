{
 "cells": [
  {
   "cell_type": "markdown",
   "id": "53b4965b",
   "metadata": {},
   "source": [
    "Bearbeiten Sie die folgende Aufgabe mit den vorhandenen Dictionary-Methoden"
   ]
  },
  {
   "cell_type": "markdown",
   "id": "d3a43657",
   "metadata": {},
   "source": [
    "## Aufgabe 1"
   ]
  },
  {
   "cell_type": "markdown",
   "id": "2cd85588",
   "metadata": {},
   "source": [
    "Stellen Sie sich vor, Sie arbeiten für ein kleines Einzelhandelsunternehmen, das eine Vielzahl von Produkten verkauft. Ihr Unternehmen möchte ein einfaches System zur Verwaltung des Produktinventars implementieren. Ihre Aufgabe ist es, ein Python-Programm zu schreiben, das bestimmte Anforderungen erfüllt:"
   ]
  },
  {
   "cell_type": "markdown",
   "id": "5db59c02",
   "metadata": {},
   "source": [
    "Inventarinitialisierung"
   ]
  },
  {
   "cell_type": "markdown",
   "id": "5b2ea463",
   "metadata": {},
   "source": [
    "- Erstellen Sie ein Dictionary namens inventory, das die Produktnamen als Schlüssel und die Anzahl der auf Lager befindlichen Einheiten als Werte enthält."
   ]
  },
  {
   "cell_type": "code",
   "execution_count": null,
   "id": "c39f1b11",
   "metadata": {},
   "outputs": [],
   "source": [
    "## Ihr Code"
   ]
  },
  {
   "cell_type": "markdown",
   "id": "b3e55d60",
   "metadata": {},
   "source": [
    "Produktabfrage\n",
    "- Geben Sie den Bestand eines beispielhaften Produkts zurück\n",
    "- Wenn das Produkt nicht mehr vorhanden ist, soll eine Ausgabe erstellt werden, welche sagt, dass das Produkt nicht mehr verfügbar ist"
   ]
  },
  {
   "cell_type": "code",
   "execution_count": null,
   "id": "965081fd",
   "metadata": {},
   "outputs": [],
   "source": [
    "## Ihr Code"
   ]
  },
  {
   "cell_type": "markdown",
   "id": "69f00b6e",
   "metadata": {},
   "source": [
    "Produktaktualisierung\n",
    "\n",
    "- Aktualisieren Sie die Menge eines bestimmten Artikels\n",
    "- Löschen Sie den Bestand eines Artikels\n",
    "- Fügen Sie neue Produkte der Artikelliste hinzu"
   ]
  },
  {
   "cell_type": "code",
   "execution_count": null,
   "id": "0019696a",
   "metadata": {},
   "outputs": [],
   "source": [
    "## Ihr Code"
   ]
  }
 ],
 "metadata": {
  "kernelspec": {
   "display_name": "Python 3 (ipykernel)",
   "language": "python",
   "name": "python3"
  },
  "language_info": {
   "codemirror_mode": {
    "name": "ipython",
    "version": 3
   },
   "file_extension": ".py",
   "mimetype": "text/x-python",
   "name": "python",
   "nbconvert_exporter": "python",
   "pygments_lexer": "ipython3",
   "version": "3.11.5"
  }
 },
 "nbformat": 4,
 "nbformat_minor": 5
}
