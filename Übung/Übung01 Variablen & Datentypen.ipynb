{
 "cells": [
  {
   "cell_type": "markdown",
   "id": "1535db05",
   "metadata": {},
   "source": [
    "Im folgenden finden Sie zwei Aufgaben zu Variablen & Datentypen. Achten Sie bei der Bearbeitung besonders auf folgende Punkte:\n",
    "- Verwenden Sie zur Berechnung des BMI geeignete mathematische Operationen.\n",
    "- Achten Sie auf eine sinnvolle Benennung der Variablen.\n",
    "- Formatieren Sie die Ausgabe so, dass sie leicht verständlich ist."
   ]
  },
  {
   "cell_type": "markdown",
   "id": "dd338b3f",
   "metadata": {},
   "source": [
    "## Aufgabe 1"
   ]
  },
  {
   "cell_type": "markdown",
   "id": "32f56555",
   "metadata": {},
   "source": [
    "### Berechnung des BMI's"
   ]
  },
  {
   "cell_type": "markdown",
   "id": "9c3fec27",
   "metadata": {},
   "source": [
    "Schreiben Sie ein Python-Programm, das den Body-Mass-Index (BMI) einer Person basierend auf ihrer Körpergröße und ihrem Gewicht berechnet. Der BMI ist ein Maß für die Körpermasse im Verhältnis zur Körpergröße und wird verwendet, um das Gewicht einer Person zu bewerten."
   ]
  },
  {
   "cell_type": "markdown",
   "id": "f42f7b2d",
   "metadata": {},
   "source": [
    "Schritte:\n",
    "- Definieren Sie Variablen für die Körpergröße (in Metern) und das Gewicht (in Kilogramm).\n",
    "- Berechnen Sie den BMI mit der Formel: BMI = Gewicht / (Körpergröße^2)\n",
    "- Geben Sie die Körpergröße, das Gewicht und den berechneten BMI in einer übersichtlichen Form aus."
   ]
  },
  {
   "cell_type": "markdown",
   "id": "025f3c95",
   "metadata": {},
   "source": [
    "Testen Sie Ihren Code mit einer Person der Körpergröße 1,75 Meter und einem Gewicht von 68 Kilogramm"
   ]
  },
  {
   "cell_type": "markdown",
   "id": "73a38af6",
   "metadata": {},
   "source": [
    "Definition der Variablen"
   ]
  },
  {
   "cell_type": "code",
   "execution_count": null,
   "id": "e3de7638",
   "metadata": {},
   "outputs": [],
   "source": [
    "## Ihr Code"
   ]
  },
  {
   "cell_type": "markdown",
   "id": "1f2466a8",
   "metadata": {},
   "source": [
    "Berechnung des BMI"
   ]
  },
  {
   "cell_type": "code",
   "execution_count": null,
   "id": "653c92ac",
   "metadata": {},
   "outputs": [],
   "source": [
    "## Ihr Code"
   ]
  },
  {
   "cell_type": "markdown",
   "id": "f1aa8c70",
   "metadata": {},
   "source": [
    "Ausgabe"
   ]
  },
  {
   "cell_type": "code",
   "execution_count": 2,
   "id": "818914b8",
   "metadata": {},
   "outputs": [],
   "source": [
    "## Ihr Code"
   ]
  },
  {
   "cell_type": "markdown",
   "id": "56446e55",
   "metadata": {},
   "source": [
    "## Aufgabe 2"
   ]
  },
  {
   "cell_type": "markdown",
   "id": "4f95c0ec",
   "metadata": {},
   "source": [
    "### Berechnung des monatlichen Gehalts"
   ]
  },
  {
   "cell_type": "markdown",
   "id": "668d86f5",
   "metadata": {},
   "source": [
    "Stellen Sie sich vor, Sie sind für die Gehaltsabrechnung in einem kleinen Unternehmen verantwortlich. Schreiben Sie ein Python-Programm, das das monatliche Nettogehalt eines Mitarbeiters basierend auf seinem Bruttogehalt und verschiedenen Abzügen berechnet. Dabei sollen Sie Variablen und grundlegende Datentypen verwenden."
   ]
  },
  {
   "cell_type": "markdown",
   "id": "6a1847cb",
   "metadata": {},
   "source": [
    "Schritte:\n",
    "- Definieren Sie Variablen für das Bruttogehalt, die Steuer, die Sozialversicherung und andere Abzüge.\n",
    "- Berechnen Sie das Nettogehalt des Mitarbeiters.\n",
    "- Geben Sie das Bruttogehalt, die Abzüge und das Nettogehalt in einer übersichtlichen Form aus.\n"
   ]
  },
  {
   "cell_type": "markdown",
   "id": "43610e53",
   "metadata": {},
   "source": [
    "Testen Sie Ihren Code mit folgenden Werten:\n",
    "- Bruttogehalt: 3500.00 €\n",
    "- Steuer: 20% des Bruttogehalts\n",
    "- Sozialversicherung: 15% des Bruttogehalts\n",
    "- Andere Abzüge: 50.00 €"
   ]
  },
  {
   "cell_type": "markdown",
   "id": "513c47c3",
   "metadata": {},
   "source": [
    "Definition der Variablen"
   ]
  },
  {
   "cell_type": "code",
   "execution_count": null,
   "id": "780f9da3",
   "metadata": {},
   "outputs": [],
   "source": [
    "## Ihr Code"
   ]
  },
  {
   "cell_type": "markdown",
   "id": "a1d2b613",
   "metadata": {},
   "source": [
    "Berechnungen"
   ]
  },
  {
   "cell_type": "code",
   "execution_count": null,
   "id": "352df082",
   "metadata": {},
   "outputs": [],
   "source": [
    "## Ihr Code"
   ]
  },
  {
   "cell_type": "markdown",
   "id": "041f3a9f",
   "metadata": {},
   "source": [
    "Ausgabe"
   ]
  },
  {
   "cell_type": "code",
   "execution_count": null,
   "id": "61cf9647",
   "metadata": {},
   "outputs": [],
   "source": [
    "## Ihr Code"
   ]
  }
 ],
 "metadata": {
  "kernelspec": {
   "display_name": "Python 3 (ipykernel)",
   "language": "python",
   "name": "python3"
  },
  "language_info": {
   "codemirror_mode": {
    "name": "ipython",
    "version": 3
   },
   "file_extension": ".py",
   "mimetype": "text/x-python",
   "name": "python",
   "nbconvert_exporter": "python",
   "pygments_lexer": "ipython3",
   "version": "3.11.5"
  }
 },
 "nbformat": 4,
 "nbformat_minor": 5
}
