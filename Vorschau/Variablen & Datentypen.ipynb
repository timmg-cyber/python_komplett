{
 "cells": [
  {
   "cell_type": "markdown",
   "id": "8b7dbf46",
   "metadata": {},
   "source": [
    "Packages importieren"
   ]
  },
  {
   "cell_type": "code",
   "execution_count": 1,
   "id": "6de33730",
   "metadata": {},
   "outputs": [
    {
     "name": "stdout",
     "output_type": "stream",
     "text": [
      "The Zen of Python, by Tim Peters\n",
      "\n",
      "Beautiful is better than ugly.\n",
      "Explicit is better than implicit.\n",
      "Simple is better than complex.\n",
      "Complex is better than complicated.\n",
      "Flat is better than nested.\n",
      "Sparse is better than dense.\n",
      "Readability counts.\n",
      "Special cases aren't special enough to break the rules.\n",
      "Although practicality beats purity.\n",
      "Errors should never pass silently.\n",
      "Unless explicitly silenced.\n",
      "In the face of ambiguity, refuse the temptation to guess.\n",
      "There should be one-- and preferably only one --obvious way to do it.\n",
      "Although that way may not be obvious at first unless you're Dutch.\n",
      "Now is better than never.\n",
      "Although never is often better than *right* now.\n",
      "If the implementation is hard to explain, it's a bad idea.\n",
      "If the implementation is easy to explain, it may be a good idea.\n",
      "Namespaces are one honking great idea -- let's do more of those!\n"
     ]
    }
   ],
   "source": [
    "import this"
   ]
  },
  {
   "cell_type": "markdown",
   "id": "e4f9f304",
   "metadata": {},
   "source": [
    "Zuweisung"
   ]
  },
  {
   "cell_type": "code",
   "execution_count": 2,
   "id": "82438531",
   "metadata": {},
   "outputs": [],
   "source": [
    "x = 5"
   ]
  },
  {
   "cell_type": "code",
   "execution_count": 3,
   "id": "faf6138d",
   "metadata": {},
   "outputs": [
    {
     "data": {
      "text/plain": [
       "140726911079336"
      ]
     },
     "execution_count": 3,
     "metadata": {},
     "output_type": "execute_result"
    }
   ],
   "source": [
    "id(x) ##Identitätsabfrage eines Objekts"
   ]
  },
  {
   "cell_type": "code",
   "execution_count": 4,
   "id": "d9f788aa",
   "metadata": {},
   "outputs": [],
   "source": [
    "y = x"
   ]
  },
  {
   "cell_type": "code",
   "execution_count": 5,
   "id": "de8ade62",
   "metadata": {},
   "outputs": [
    {
     "data": {
      "text/plain": [
       "140726911079336"
      ]
     },
     "execution_count": 5,
     "metadata": {},
     "output_type": "execute_result"
    }
   ],
   "source": [
    "id(y) ##gleiche Speicheradresse wie x"
   ]
  },
  {
   "cell_type": "code",
   "execution_count": 6,
   "id": "4cdd2331",
   "metadata": {},
   "outputs": [
    {
     "data": {
      "text/plain": [
       "140726911079336"
      ]
     },
     "execution_count": 6,
     "metadata": {},
     "output_type": "execute_result"
    }
   ],
   "source": [
    "y = 5\n",
    "id(y)"
   ]
  },
  {
   "cell_type": "markdown",
   "id": "624738f2",
   "metadata": {},
   "source": [
    "Rechenoperationen"
   ]
  },
  {
   "cell_type": "code",
   "execution_count": 7,
   "id": "c7d77d85",
   "metadata": {},
   "outputs": [],
   "source": [
    "a = 5\n",
    "a = a + 2"
   ]
  },
  {
   "cell_type": "code",
   "execution_count": 8,
   "id": "9e013de7",
   "metadata": {},
   "outputs": [
    {
     "data": {
      "text/plain": [
       "7"
      ]
     },
     "execution_count": 8,
     "metadata": {},
     "output_type": "execute_result"
    }
   ],
   "source": [
    "a  ##Achtung! Diese Art der Ausgabe funktioniert nur im Jupyter-Notebook"
   ]
  },
  {
   "cell_type": "code",
   "execution_count": 9,
   "id": "af04edb5",
   "metadata": {},
   "outputs": [
    {
     "name": "stdout",
     "output_type": "stream",
     "text": [
      "7\n"
     ]
    }
   ],
   "source": [
    "print(a)"
   ]
  },
  {
   "cell_type": "code",
   "execution_count": 10,
   "id": "f4148c40",
   "metadata": {},
   "outputs": [
    {
     "data": {
      "text/plain": [
       "7"
      ]
     },
     "execution_count": 10,
     "metadata": {},
     "output_type": "execute_result"
    }
   ],
   "source": [
    "### Alternative\n",
    "a = 5\n",
    "a += 2\n",
    "a"
   ]
  },
  {
   "cell_type": "code",
   "execution_count": 11,
   "id": "4fbcabb9",
   "metadata": {},
   "outputs": [
    {
     "data": {
      "text/plain": [
       "3"
      ]
     },
     "execution_count": 11,
     "metadata": {},
     "output_type": "execute_result"
    }
   ],
   "source": [
    "## Minus\n",
    "a = 5\n",
    "a = a - 2\n",
    "a"
   ]
  },
  {
   "cell_type": "code",
   "execution_count": 12,
   "id": "cdc1fb7d",
   "metadata": {},
   "outputs": [
    {
     "data": {
      "text/plain": [
       "10"
      ]
     },
     "execution_count": 12,
     "metadata": {},
     "output_type": "execute_result"
    }
   ],
   "source": [
    "## Multiplikation\n",
    "a = 5\n",
    "a = a * 2\n",
    "a"
   ]
  },
  {
   "cell_type": "code",
   "execution_count": 13,
   "id": "99a30aff",
   "metadata": {},
   "outputs": [
    {
     "data": {
      "text/plain": [
       "25"
      ]
     },
     "execution_count": 13,
     "metadata": {},
     "output_type": "execute_result"
    }
   ],
   "source": [
    "## Potenzieren\n",
    "a = 5\n",
    "a = a ** 2\n",
    "a"
   ]
  },
  {
   "cell_type": "code",
   "execution_count": 14,
   "id": "5fd1dfb5",
   "metadata": {},
   "outputs": [
    {
     "name": "stdout",
     "output_type": "stream",
     "text": [
      "2.5\n"
     ]
    },
    {
     "data": {
      "text/plain": [
       "2"
      ]
     },
     "execution_count": 14,
     "metadata": {},
     "output_type": "execute_result"
    }
   ],
   "source": [
    "## Division\n",
    "a = 5\n",
    "a = a / 2\n",
    "a\n",
    "\n",
    "print(a) ## Hier muss Print gewählt werden, da Jupyter ähnlich wie ein Konsolenoutput nur den letzten Output ausgibt\n",
    "\n",
    "##oder ganzzahlige Division\n",
    "\n",
    "a = 5\n",
    "a = a // 2\n",
    "a"
   ]
  },
  {
   "cell_type": "code",
   "execution_count": 15,
   "id": "f6d1e5e9",
   "metadata": {},
   "outputs": [
    {
     "data": {
      "text/plain": [
       "1"
      ]
     },
     "execution_count": 15,
     "metadata": {},
     "output_type": "execute_result"
    }
   ],
   "source": [
    "## Modulo\n",
    "a = 5\n",
    "a = a % 2\n",
    "a"
   ]
  },
  {
   "cell_type": "code",
   "execution_count": 16,
   "id": "602f88a9",
   "metadata": {},
   "outputs": [
    {
     "data": {
      "text/plain": [
       "10"
      ]
     },
     "execution_count": 16,
     "metadata": {},
     "output_type": "execute_result"
    }
   ],
   "source": [
    "## Betrag\n",
    "x = -10\n",
    "\n",
    "abs(x)"
   ]
  },
  {
   "cell_type": "markdown",
   "id": "ee3b9cdd",
   "metadata": {},
   "source": [
    "Datentypen"
   ]
  },
  {
   "cell_type": "code",
   "execution_count": 17,
   "id": "927d0d90",
   "metadata": {},
   "outputs": [
    {
     "data": {
      "text/plain": [
       "2904145078072748111698457360091182385681"
      ]
     },
     "execution_count": 17,
     "metadata": {},
     "output_type": "execute_result"
    }
   ],
   "source": [
    "## Integer\n",
    "a = 5\n",
    "type(a)\n",
    "\n",
    "## Achtung! Im Vergleich zu anderen Programmiersprachen hat Python kein Limit für Integer\n",
    "\n",
    "a = 53890120412490712041\n",
    "\n",
    "a**2 ##Keine Zuweisung"
   ]
  },
  {
   "cell_type": "code",
   "execution_count": 18,
   "id": "a3f4f416",
   "metadata": {},
   "outputs": [
    {
     "data": {
      "text/plain": [
       "42"
      ]
     },
     "execution_count": 18,
     "metadata": {},
     "output_type": "execute_result"
    }
   ],
   "source": [
    "## Binärzahlen\n",
    "\n",
    "x = 0b101010\n",
    "x"
   ]
  },
  {
   "cell_type": "code",
   "execution_count": 19,
   "id": "513bbc76",
   "metadata": {},
   "outputs": [
    {
     "name": "stdout",
     "output_type": "stream",
     "text": [
      "<class 'int'>\n",
      "2.0\n"
     ]
    },
    {
     "data": {
      "text/plain": [
       "8.229098261468687e+20"
      ]
     },
     "execution_count": 19,
     "metadata": {},
     "output_type": "execute_result"
    }
   ],
   "source": [
    "## Float\n",
    "\n",
    "x = 2.0\n",
    "\n",
    "type(x)\n",
    "\n",
    "x = 2\n",
    "\n",
    "print(type(x))\n",
    "\n",
    "print(x*1.0) ##Verrechnung von int und float möglich\n",
    "\n",
    "\n",
    "##Hohe oder sehr kleine Zahlen werden mit 10^n repräsentiert\n",
    "\n",
    "x = 15243.0**5\n",
    "\n",
    "x"
   ]
  },
  {
   "cell_type": "code",
   "execution_count": 20,
   "id": "31fb5858",
   "metadata": {},
   "outputs": [
    {
     "name": "stdout",
     "output_type": "stream",
     "text": [
      "True\n",
      "False\n"
     ]
    }
   ],
   "source": [
    "## Boolsche Werte\n",
    "\n",
    "x = True\n",
    "type(x)\n",
    "\n",
    "not x\n",
    "\n",
    "y = False\n",
    "\n",
    "z = True\n",
    "\n",
    "x and y ## False weil beide True sein müssen\n",
    "\n",
    "x or y ## True weil einer der beiden True ist\n",
    "\n",
    "## XOR\n",
    "\n",
    "print(x != y)\n",
    "print(x != z) ## Workaround, da es kein XOR gibt benutzt man ungleich\n"
   ]
  },
  {
   "cell_type": "code",
   "execution_count": 21,
   "id": "e44a5b73",
   "metadata": {},
   "outputs": [
    {
     "name": "stdout",
     "output_type": "stream",
     "text": [
      "<class 'complex'>\n",
      "(24-5.5j)\n"
     ]
    },
    {
     "data": {
      "text/plain": [
       "(5-0.5j)"
      ]
     },
     "execution_count": 21,
     "metadata": {},
     "output_type": "execute_result"
    }
   ],
   "source": [
    "## Komplexe Zahlen (Zahlen die die reelen Zahlen erweitern)\n",
    "\n",
    "x = 3+4j\n",
    "print(type(x))\n",
    "\n",
    "y = 2 - 4.5j\n",
    "\n",
    "print(x * y) ##(3*2 - 3* 4.5j) + (4j*2 - 4j*4.5j)\n",
    "\n",
    "x + y "
   ]
  },
  {
   "cell_type": "markdown",
   "id": "8775a7b7",
   "metadata": {},
   "source": [
    "Casting"
   ]
  },
  {
   "cell_type": "code",
   "execution_count": 26,
   "id": "10c66278",
   "metadata": {},
   "outputs": [
    {
     "data": {
      "text/plain": [
       "2"
      ]
     },
     "execution_count": 26,
     "metadata": {},
     "output_type": "execute_result"
    }
   ],
   "source": [
    "int(2.5)"
   ]
  },
  {
   "cell_type": "code",
   "execution_count": 27,
   "id": "762e4c24",
   "metadata": {},
   "outputs": [
    {
     "data": {
      "text/plain": [
       "2.0"
      ]
     },
     "execution_count": 27,
     "metadata": {},
     "output_type": "execute_result"
    }
   ],
   "source": [
    "float(2)"
   ]
  },
  {
   "cell_type": "code",
   "execution_count": 28,
   "id": "9cec1c1c",
   "metadata": {},
   "outputs": [
    {
     "data": {
      "text/plain": [
       "'2'"
      ]
     },
     "execution_count": 28,
     "metadata": {},
     "output_type": "execute_result"
    }
   ],
   "source": [
    "str(2)"
   ]
  },
  {
   "cell_type": "markdown",
   "id": "9bd3aab6",
   "metadata": {},
   "source": [
    "Print Statements"
   ]
  },
  {
   "cell_type": "code",
   "execution_count": 22,
   "id": "f705496a",
   "metadata": {},
   "outputs": [
    {
     "name": "stdout",
     "output_type": "stream",
     "text": [
      "meine Variable x hat den Wert (3+4j) und meine Variable y hat den Wert (2-4.5j)\n"
     ]
    }
   ],
   "source": [
    "print(f\"meine Variable x hat den Wert {x} und meine Variable y hat den Wert {y}\")"
   ]
  },
  {
   "cell_type": "code",
   "execution_count": 25,
   "id": "2e92ccdd",
   "metadata": {},
   "outputs": [
    {
     "name": "stdout",
     "output_type": "stream",
     "text": [
      "meine Variable x hat den Wert (3+4j) und meine Variable y hat den Wert (2-4.5j)\n"
     ]
    }
   ],
   "source": [
    "print(\"meine Variable x hat den Wert \"+str(x)+\" und meine Variable y hat den Wert \"+ str(y))"
   ]
  },
  {
   "cell_type": "code",
   "execution_count": 1,
   "id": "83ceccc4",
   "metadata": {},
   "outputs": [
    {
     "data": {
      "text/plain": [
       "'String1 String2 String3'"
      ]
     },
     "execution_count": 1,
     "metadata": {},
     "output_type": "execute_result"
    }
   ],
   "source": [
    "\" \".join([\"String1\",\"String2\",\"String3\"]) ## Strings aus einer Liste werden mit Kombinationszeichen aus einer Liste ausgegeben"
   ]
  },
  {
   "cell_type": "markdown",
   "id": "d4f402f3",
   "metadata": {},
   "source": [
    "Datentypen Casten"
   ]
  }
 ],
 "metadata": {
  "kernelspec": {
   "display_name": "Python 3 (ipykernel)",
   "language": "python",
   "name": "python3"
  },
  "language_info": {
   "codemirror_mode": {
    "name": "ipython",
    "version": 3
   },
   "file_extension": ".py",
   "mimetype": "text/x-python",
   "name": "python",
   "nbconvert_exporter": "python",
   "pygments_lexer": "ipython3",
   "version": "3.11.5"
  }
 },
 "nbformat": 4,
 "nbformat_minor": 5
}
