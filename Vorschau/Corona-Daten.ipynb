{
 "cells": [
  {
   "cell_type": "code",
   "execution_count": 1,
   "id": "36566fb9",
   "metadata": {},
   "outputs": [],
   "source": [
    "from sqlalchemy import create_engine\n",
    "import pandas as pd\n",
    "import plotly.express as px\n",
    "import datetime\n",
    "import json"
   ]
  },
  {
   "cell_type": "code",
   "execution_count": null,
   "id": "d596443b-c881-4a8e-88f3-b91b6ee7354d",
   "metadata": {},
   "outputs": [],
   "source": [
    "#plotly nachinstallieren"
   ]
  },
  {
   "cell_type": "markdown",
   "id": "1a865c10",
   "metadata": {},
   "source": [
    "Datenquelle: https://www.rki.de/DE/Home/homepage_node.html"
   ]
  },
  {
   "cell_type": "code",
   "execution_count": 2,
   "id": "2ce6096c",
   "metadata": {
    "scrolled": true
   },
   "outputs": [],
   "source": [
    "f = open(\"credentials.txt\")\n",
    "data = json.load(f)\n",
    "\n",
    "f.close()"
   ]
  },
  {
   "cell_type": "code",
   "execution_count": 3,
   "id": "fefab7fe",
   "metadata": {},
   "outputs": [],
   "source": [
    "database = data['database']\n",
    "username = data['username']\n",
    "password = data['password']\n",
    "host = data['host']"
   ]
  },
  {
   "cell_type": "code",
   "execution_count": 35,
   "id": "d5a8e4dc",
   "metadata": {},
   "outputs": [],
   "source": [
    "engine = create_engine(f'postgresql://{username}:{password}@{host}:5432/{database}')"
   ]
  },
  {
   "cell_type": "code",
   "execution_count": 6,
   "id": "e0db0a5d",
   "metadata": {},
   "outputs": [],
   "source": [
    "corona_tagesaktuell = pd.read_csv(\"../Datasets/corona_tagesaktuell.csv\", sep=\";\")"
   ]
  },
  {
   "cell_type": "code",
   "execution_count": 7,
   "id": "caecad50",
   "metadata": {},
   "outputs": [
    {
     "name": "stdout",
     "output_type": "stream",
     "text": [
      "<class 'pandas.core.frame.DataFrame'>\n",
      "RangeIndex: 1576206 entries, 0 to 1576205\n",
      "Data columns (total 19 columns):\n",
      " #   Column                Non-Null Count    Dtype \n",
      "---  ------                --------------    ----- \n",
      " 0   Unnamed: 0            1576206 non-null  int64 \n",
      " 1   ObjectId              1576206 non-null  int64 \n",
      " 2   IdBundesland          1576206 non-null  int64 \n",
      " 3   Bundesland            1576206 non-null  object\n",
      " 4   Landkreis             1576206 non-null  object\n",
      " 5   Altersgruppe          1576206 non-null  object\n",
      " 6   Geschlecht            1576206 non-null  object\n",
      " 7   AnzahlFall            1576206 non-null  int64 \n",
      " 8   AnzahlTodesfall       1576206 non-null  int64 \n",
      " 9   Meldedatum            1576206 non-null  object\n",
      " 10  IdLandkreis           1576206 non-null  int64 \n",
      " 11  Datenstand            1576206 non-null  object\n",
      " 12  NeuerFall             1576206 non-null  int64 \n",
      " 13  NeuerTodesfall        1576206 non-null  int64 \n",
      " 14  Refdatum              1576206 non-null  object\n",
      " 15  NeuGenesen            1576206 non-null  int64 \n",
      " 16  AnzahlGenesen         1576206 non-null  int64 \n",
      " 17  IstErkrankungsbeginn  1576206 non-null  int64 \n",
      " 18  Altersgruppe2         1576206 non-null  object\n",
      "dtypes: int64(11), object(8)\n",
      "memory usage: 228.5+ MB\n"
     ]
    }
   ],
   "source": [
    "corona_tagesaktuell.info()"
   ]
  },
  {
   "cell_type": "code",
   "execution_count": 8,
   "id": "ab8e997a-dad1-44fb-98d3-b96f4bf0f024",
   "metadata": {},
   "outputs": [
    {
     "data": {
      "text/plain": [
       "0          2020/09/30 00:00:00+00\n",
       "1          2020/10/29 00:00:00+00\n",
       "2          2020/11/03 00:00:00+00\n",
       "3          2020/11/19 00:00:00+00\n",
       "4          2020/11/18 00:00:00+00\n",
       "                    ...          \n",
       "1576201    2021/03/24 00:00:00+00\n",
       "1576202    2021/03/26 00:00:00+00\n",
       "1576203    2021/03/30 00:00:00+00\n",
       "1576204    2021/04/02 00:00:00+00\n",
       "1576205    2021/04/03 00:00:00+00\n",
       "Name: Refdatum, Length: 1576206, dtype: object"
      ]
     },
     "execution_count": 8,
     "metadata": {},
     "output_type": "execute_result"
    }
   ],
   "source": [
    "corona_tagesaktuell['Refdatum']"
   ]
  },
  {
   "cell_type": "code",
   "execution_count": 10,
   "id": "8703207c",
   "metadata": {},
   "outputs": [],
   "source": [
    "divi = pd.read_csv(\"../Datasets/divi_data.csv\",sep=\",\")"
   ]
  },
  {
   "cell_type": "code",
   "execution_count": 11,
   "id": "36f740ad",
   "metadata": {},
   "outputs": [
    {
     "name": "stdout",
     "output_type": "stream",
     "text": [
      "<class 'pandas.core.frame.DataFrame'>\n",
      "RangeIndex: 397 entries, 0 to 396\n",
      "Data columns (total 11 columns):\n",
      " #   Column                                Non-Null Count  Dtype \n",
      "---  ------                                --------------  ----- \n",
      " 0   bundesland                            397 non-null    int64 \n",
      " 1   gemeindeschluessel                    397 non-null    int64 \n",
      " 2   anzahl_meldebereiche                  397 non-null    int64 \n",
      " 3   faelle_covid_aktuell                  397 non-null    int64 \n",
      " 4   faelle_covid_aktuell_invasiv_beatmet  397 non-null    int64 \n",
      " 5   anzahl_standorte                      397 non-null    int64 \n",
      " 6   betten_frei                           397 non-null    int64 \n",
      " 7   betten_belegt                         397 non-null    int64 \n",
      " 8   daten_stand                           397 non-null    object\n",
      " 9   betten_belegt_nur_erwachsen           397 non-null    int64 \n",
      " 10  betten_frei_nur_erwachsen             397 non-null    int64 \n",
      "dtypes: int64(10), object(1)\n",
      "memory usage: 34.2+ KB\n"
     ]
    }
   ],
   "source": [
    "divi.info()"
   ]
  },
  {
   "cell_type": "code",
   "execution_count": 12,
   "id": "dbfab11b",
   "metadata": {
    "scrolled": true
   },
   "outputs": [
    {
     "data": {
      "text/html": [
       "<div>\n",
       "<style scoped>\n",
       "    .dataframe tbody tr th:only-of-type {\n",
       "        vertical-align: middle;\n",
       "    }\n",
       "\n",
       "    .dataframe tbody tr th {\n",
       "        vertical-align: top;\n",
       "    }\n",
       "\n",
       "    .dataframe thead th {\n",
       "        text-align: right;\n",
       "    }\n",
       "</style>\n",
       "<table border=\"1\" class=\"dataframe\">\n",
       "  <thead>\n",
       "    <tr style=\"text-align: right;\">\n",
       "      <th></th>\n",
       "      <th>bundesland</th>\n",
       "      <th>gemeindeschluessel</th>\n",
       "      <th>anzahl_meldebereiche</th>\n",
       "      <th>faelle_covid_aktuell</th>\n",
       "      <th>faelle_covid_aktuell_invasiv_beatmet</th>\n",
       "      <th>anzahl_standorte</th>\n",
       "      <th>betten_frei</th>\n",
       "      <th>betten_belegt</th>\n",
       "      <th>daten_stand</th>\n",
       "      <th>betten_belegt_nur_erwachsen</th>\n",
       "      <th>betten_frei_nur_erwachsen</th>\n",
       "    </tr>\n",
       "  </thead>\n",
       "  <tbody>\n",
       "    <tr>\n",
       "      <th>0</th>\n",
       "      <td>1</td>\n",
       "      <td>1001</td>\n",
       "      <td>3</td>\n",
       "      <td>3</td>\n",
       "      <td>3</td>\n",
       "      <td>2</td>\n",
       "      <td>6</td>\n",
       "      <td>35</td>\n",
       "      <td>2021-04-06 12:15:00</td>\n",
       "      <td>35</td>\n",
       "      <td>0</td>\n",
       "    </tr>\n",
       "    <tr>\n",
       "      <th>1</th>\n",
       "      <td>1</td>\n",
       "      <td>1002</td>\n",
       "      <td>5</td>\n",
       "      <td>6</td>\n",
       "      <td>5</td>\n",
       "      <td>3</td>\n",
       "      <td>52</td>\n",
       "      <td>112</td>\n",
       "      <td>2021-04-06 12:15:00</td>\n",
       "      <td>111</td>\n",
       "      <td>47</td>\n",
       "    </tr>\n",
       "    <tr>\n",
       "      <th>2</th>\n",
       "      <td>1</td>\n",
       "      <td>1003</td>\n",
       "      <td>2</td>\n",
       "      <td>6</td>\n",
       "      <td>2</td>\n",
       "      <td>2</td>\n",
       "      <td>32</td>\n",
       "      <td>103</td>\n",
       "      <td>2021-04-06 12:15:00</td>\n",
       "      <td>103</td>\n",
       "      <td>32</td>\n",
       "    </tr>\n",
       "    <tr>\n",
       "      <th>3</th>\n",
       "      <td>1</td>\n",
       "      <td>1004</td>\n",
       "      <td>1</td>\n",
       "      <td>0</td>\n",
       "      <td>0</td>\n",
       "      <td>1</td>\n",
       "      <td>5</td>\n",
       "      <td>20</td>\n",
       "      <td>2021-04-06 12:15:00</td>\n",
       "      <td>20</td>\n",
       "      <td>5</td>\n",
       "    </tr>\n",
       "    <tr>\n",
       "      <th>4</th>\n",
       "      <td>1</td>\n",
       "      <td>1051</td>\n",
       "      <td>1</td>\n",
       "      <td>0</td>\n",
       "      <td>0</td>\n",
       "      <td>1</td>\n",
       "      <td>1</td>\n",
       "      <td>37</td>\n",
       "      <td>2021-04-06 12:15:00</td>\n",
       "      <td>37</td>\n",
       "      <td>1</td>\n",
       "    </tr>\n",
       "    <tr>\n",
       "      <th>...</th>\n",
       "      <td>...</td>\n",
       "      <td>...</td>\n",
       "      <td>...</td>\n",
       "      <td>...</td>\n",
       "      <td>...</td>\n",
       "      <td>...</td>\n",
       "      <td>...</td>\n",
       "      <td>...</td>\n",
       "      <td>...</td>\n",
       "      <td>...</td>\n",
       "      <td>...</td>\n",
       "    </tr>\n",
       "    <tr>\n",
       "      <th>392</th>\n",
       "      <td>16</td>\n",
       "      <td>16073</td>\n",
       "      <td>1</td>\n",
       "      <td>11</td>\n",
       "      <td>8</td>\n",
       "      <td>1</td>\n",
       "      <td>3</td>\n",
       "      <td>18</td>\n",
       "      <td>2021-04-06 12:15:00</td>\n",
       "      <td>18</td>\n",
       "      <td>3</td>\n",
       "    </tr>\n",
       "    <tr>\n",
       "      <th>393</th>\n",
       "      <td>16</td>\n",
       "      <td>16074</td>\n",
       "      <td>1</td>\n",
       "      <td>1</td>\n",
       "      <td>1</td>\n",
       "      <td>1</td>\n",
       "      <td>0</td>\n",
       "      <td>5</td>\n",
       "      <td>2021-04-06 12:15:00</td>\n",
       "      <td>5</td>\n",
       "      <td>0</td>\n",
       "    </tr>\n",
       "    <tr>\n",
       "      <th>394</th>\n",
       "      <td>16</td>\n",
       "      <td>16075</td>\n",
       "      <td>1</td>\n",
       "      <td>4</td>\n",
       "      <td>4</td>\n",
       "      <td>1</td>\n",
       "      <td>0</td>\n",
       "      <td>5</td>\n",
       "      <td>2021-04-06 12:15:00</td>\n",
       "      <td>5</td>\n",
       "      <td>0</td>\n",
       "    </tr>\n",
       "    <tr>\n",
       "      <th>395</th>\n",
       "      <td>16</td>\n",
       "      <td>16076</td>\n",
       "      <td>1</td>\n",
       "      <td>6</td>\n",
       "      <td>6</td>\n",
       "      <td>1</td>\n",
       "      <td>1</td>\n",
       "      <td>9</td>\n",
       "      <td>2021-04-06 12:15:00</td>\n",
       "      <td>9</td>\n",
       "      <td>1</td>\n",
       "    </tr>\n",
       "    <tr>\n",
       "      <th>396</th>\n",
       "      <td>16</td>\n",
       "      <td>16077</td>\n",
       "      <td>2</td>\n",
       "      <td>8</td>\n",
       "      <td>4</td>\n",
       "      <td>1</td>\n",
       "      <td>0</td>\n",
       "      <td>29</td>\n",
       "      <td>2021-04-06 12:15:00</td>\n",
       "      <td>28</td>\n",
       "      <td>0</td>\n",
       "    </tr>\n",
       "  </tbody>\n",
       "</table>\n",
       "<p>397 rows × 11 columns</p>\n",
       "</div>"
      ],
      "text/plain": [
       "     bundesland  gemeindeschluessel  anzahl_meldebereiche  \\\n",
       "0             1                1001                     3   \n",
       "1             1                1002                     5   \n",
       "2             1                1003                     2   \n",
       "3             1                1004                     1   \n",
       "4             1                1051                     1   \n",
       "..          ...                 ...                   ...   \n",
       "392          16               16073                     1   \n",
       "393          16               16074                     1   \n",
       "394          16               16075                     1   \n",
       "395          16               16076                     1   \n",
       "396          16               16077                     2   \n",
       "\n",
       "     faelle_covid_aktuell  faelle_covid_aktuell_invasiv_beatmet  \\\n",
       "0                       3                                     3   \n",
       "1                       6                                     5   \n",
       "2                       6                                     2   \n",
       "3                       0                                     0   \n",
       "4                       0                                     0   \n",
       "..                    ...                                   ...   \n",
       "392                    11                                     8   \n",
       "393                     1                                     1   \n",
       "394                     4                                     4   \n",
       "395                     6                                     6   \n",
       "396                     8                                     4   \n",
       "\n",
       "     anzahl_standorte  betten_frei  betten_belegt          daten_stand  \\\n",
       "0                   2            6             35  2021-04-06 12:15:00   \n",
       "1                   3           52            112  2021-04-06 12:15:00   \n",
       "2                   2           32            103  2021-04-06 12:15:00   \n",
       "3                   1            5             20  2021-04-06 12:15:00   \n",
       "4                   1            1             37  2021-04-06 12:15:00   \n",
       "..                ...          ...            ...                  ...   \n",
       "392                 1            3             18  2021-04-06 12:15:00   \n",
       "393                 1            0              5  2021-04-06 12:15:00   \n",
       "394                 1            0              5  2021-04-06 12:15:00   \n",
       "395                 1            1              9  2021-04-06 12:15:00   \n",
       "396                 1            0             29  2021-04-06 12:15:00   \n",
       "\n",
       "     betten_belegt_nur_erwachsen  betten_frei_nur_erwachsen  \n",
       "0                             35                          0  \n",
       "1                            111                         47  \n",
       "2                            103                         32  \n",
       "3                             20                          5  \n",
       "4                             37                          1  \n",
       "..                           ...                        ...  \n",
       "392                           18                          3  \n",
       "393                            5                          0  \n",
       "394                            5                          0  \n",
       "395                            9                          1  \n",
       "396                           28                          0  \n",
       "\n",
       "[397 rows x 11 columns]"
      ]
     },
     "execution_count": 12,
     "metadata": {},
     "output_type": "execute_result"
    }
   ],
   "source": [
    "divi"
   ]
  },
  {
   "cell_type": "code",
   "execution_count": 13,
   "id": "a8bc084c",
   "metadata": {},
   "outputs": [
    {
     "name": "stdout",
     "output_type": "stream",
     "text": [
      "<class 'pandas.core.frame.DataFrame'>\n",
      "RangeIndex: 1576206 entries, 0 to 1576205\n",
      "Data columns (total 19 columns):\n",
      " #   Column                Non-Null Count    Dtype \n",
      "---  ------                --------------    ----- \n",
      " 0   Unnamed: 0            1576206 non-null  int64 \n",
      " 1   ObjectId              1576206 non-null  int64 \n",
      " 2   IdBundesland          1576206 non-null  int64 \n",
      " 3   Bundesland            1576206 non-null  object\n",
      " 4   Landkreis             1576206 non-null  object\n",
      " 5   Altersgruppe          1576206 non-null  object\n",
      " 6   Geschlecht            1576206 non-null  object\n",
      " 7   AnzahlFall            1576206 non-null  int64 \n",
      " 8   AnzahlTodesfall       1576206 non-null  int64 \n",
      " 9   Meldedatum            1576206 non-null  object\n",
      " 10  IdLandkreis           1576206 non-null  int64 \n",
      " 11  Datenstand            1576206 non-null  object\n",
      " 12  NeuerFall             1576206 non-null  int64 \n",
      " 13  NeuerTodesfall        1576206 non-null  int64 \n",
      " 14  Refdatum              1576206 non-null  object\n",
      " 15  NeuGenesen            1576206 non-null  int64 \n",
      " 16  AnzahlGenesen         1576206 non-null  int64 \n",
      " 17  IstErkrankungsbeginn  1576206 non-null  int64 \n",
      " 18  Altersgruppe2         1576206 non-null  object\n",
      "dtypes: int64(11), object(8)\n",
      "memory usage: 228.5+ MB\n"
     ]
    }
   ],
   "source": [
    "corona_tagesaktuell.info()"
   ]
  },
  {
   "cell_type": "code",
   "execution_count": 16,
   "id": "164029d7",
   "metadata": {},
   "outputs": [
    {
     "data": {
      "text/html": [
       "<div>\n",
       "<style scoped>\n",
       "    .dataframe tbody tr th:only-of-type {\n",
       "        vertical-align: middle;\n",
       "    }\n",
       "\n",
       "    .dataframe tbody tr th {\n",
       "        vertical-align: top;\n",
       "    }\n",
       "\n",
       "    .dataframe thead th {\n",
       "        text-align: right;\n",
       "    }\n",
       "</style>\n",
       "<table border=\"1\" class=\"dataframe\">\n",
       "  <thead>\n",
       "    <tr style=\"text-align: right;\">\n",
       "      <th></th>\n",
       "      <th>Unnamed: 0</th>\n",
       "      <th>ObjectId</th>\n",
       "      <th>IdBundesland</th>\n",
       "      <th>Bundesland</th>\n",
       "      <th>Landkreis</th>\n",
       "      <th>Altersgruppe</th>\n",
       "      <th>Geschlecht</th>\n",
       "      <th>AnzahlFall</th>\n",
       "      <th>AnzahlTodesfall</th>\n",
       "      <th>Meldedatum</th>\n",
       "      <th>IdLandkreis</th>\n",
       "      <th>Datenstand</th>\n",
       "      <th>NeuerFall</th>\n",
       "      <th>NeuerTodesfall</th>\n",
       "      <th>Refdatum</th>\n",
       "      <th>NeuGenesen</th>\n",
       "      <th>AnzahlGenesen</th>\n",
       "      <th>IstErkrankungsbeginn</th>\n",
       "      <th>Altersgruppe2</th>\n",
       "    </tr>\n",
       "  </thead>\n",
       "  <tbody>\n",
       "    <tr>\n",
       "      <th>0</th>\n",
       "      <td>0</td>\n",
       "      <td>1</td>\n",
       "      <td>1</td>\n",
       "      <td>Schleswig-Holstein</td>\n",
       "      <td>SK Flensburg</td>\n",
       "      <td>A00-A04</td>\n",
       "      <td>M</td>\n",
       "      <td>1</td>\n",
       "      <td>0</td>\n",
       "      <td>2020/09/30 00:00:00+00</td>\n",
       "      <td>1001</td>\n",
       "      <td>06.04.2021, 00:00 Uhr</td>\n",
       "      <td>0</td>\n",
       "      <td>-9</td>\n",
       "      <td>2020/09/30 00:00:00+00</td>\n",
       "      <td>0</td>\n",
       "      <td>1</td>\n",
       "      <td>0</td>\n",
       "      <td>Nicht übermittelt</td>\n",
       "    </tr>\n",
       "    <tr>\n",
       "      <th>1</th>\n",
       "      <td>1</td>\n",
       "      <td>2</td>\n",
       "      <td>1</td>\n",
       "      <td>Schleswig-Holstein</td>\n",
       "      <td>SK Flensburg</td>\n",
       "      <td>A00-A04</td>\n",
       "      <td>M</td>\n",
       "      <td>1</td>\n",
       "      <td>0</td>\n",
       "      <td>2020/10/29 00:00:00+00</td>\n",
       "      <td>1001</td>\n",
       "      <td>06.04.2021, 00:00 Uhr</td>\n",
       "      <td>0</td>\n",
       "      <td>-9</td>\n",
       "      <td>2020/10/29 00:00:00+00</td>\n",
       "      <td>0</td>\n",
       "      <td>1</td>\n",
       "      <td>0</td>\n",
       "      <td>Nicht übermittelt</td>\n",
       "    </tr>\n",
       "    <tr>\n",
       "      <th>2</th>\n",
       "      <td>2</td>\n",
       "      <td>3</td>\n",
       "      <td>1</td>\n",
       "      <td>Schleswig-Holstein</td>\n",
       "      <td>SK Flensburg</td>\n",
       "      <td>A00-A04</td>\n",
       "      <td>M</td>\n",
       "      <td>1</td>\n",
       "      <td>0</td>\n",
       "      <td>2020/11/03 00:00:00+00</td>\n",
       "      <td>1001</td>\n",
       "      <td>06.04.2021, 00:00 Uhr</td>\n",
       "      <td>0</td>\n",
       "      <td>-9</td>\n",
       "      <td>2020/11/03 00:00:00+00</td>\n",
       "      <td>0</td>\n",
       "      <td>1</td>\n",
       "      <td>0</td>\n",
       "      <td>Nicht übermittelt</td>\n",
       "    </tr>\n",
       "    <tr>\n",
       "      <th>3</th>\n",
       "      <td>3</td>\n",
       "      <td>4</td>\n",
       "      <td>1</td>\n",
       "      <td>Schleswig-Holstein</td>\n",
       "      <td>SK Flensburg</td>\n",
       "      <td>A00-A04</td>\n",
       "      <td>M</td>\n",
       "      <td>1</td>\n",
       "      <td>0</td>\n",
       "      <td>2020/11/20 00:00:00+00</td>\n",
       "      <td>1001</td>\n",
       "      <td>06.04.2021, 00:00 Uhr</td>\n",
       "      <td>0</td>\n",
       "      <td>-9</td>\n",
       "      <td>2020/11/19 00:00:00+00</td>\n",
       "      <td>0</td>\n",
       "      <td>1</td>\n",
       "      <td>1</td>\n",
       "      <td>Nicht übermittelt</td>\n",
       "    </tr>\n",
       "    <tr>\n",
       "      <th>4</th>\n",
       "      <td>4</td>\n",
       "      <td>5</td>\n",
       "      <td>1</td>\n",
       "      <td>Schleswig-Holstein</td>\n",
       "      <td>SK Flensburg</td>\n",
       "      <td>A00-A04</td>\n",
       "      <td>M</td>\n",
       "      <td>1</td>\n",
       "      <td>0</td>\n",
       "      <td>2020/11/23 00:00:00+00</td>\n",
       "      <td>1001</td>\n",
       "      <td>06.04.2021, 00:00 Uhr</td>\n",
       "      <td>0</td>\n",
       "      <td>-9</td>\n",
       "      <td>2020/11/18 00:00:00+00</td>\n",
       "      <td>0</td>\n",
       "      <td>1</td>\n",
       "      <td>1</td>\n",
       "      <td>Nicht übermittelt</td>\n",
       "    </tr>\n",
       "    <tr>\n",
       "      <th>...</th>\n",
       "      <td>...</td>\n",
       "      <td>...</td>\n",
       "      <td>...</td>\n",
       "      <td>...</td>\n",
       "      <td>...</td>\n",
       "      <td>...</td>\n",
       "      <td>...</td>\n",
       "      <td>...</td>\n",
       "      <td>...</td>\n",
       "      <td>...</td>\n",
       "      <td>...</td>\n",
       "      <td>...</td>\n",
       "      <td>...</td>\n",
       "      <td>...</td>\n",
       "      <td>...</td>\n",
       "      <td>...</td>\n",
       "      <td>...</td>\n",
       "      <td>...</td>\n",
       "      <td>...</td>\n",
       "    </tr>\n",
       "    <tr>\n",
       "      <th>1576201</th>\n",
       "      <td>1576201</td>\n",
       "      <td>1576202</td>\n",
       "      <td>16</td>\n",
       "      <td>Thüringen</td>\n",
       "      <td>LK Altenburger Land</td>\n",
       "      <td>A80+</td>\n",
       "      <td>W</td>\n",
       "      <td>1</td>\n",
       "      <td>1</td>\n",
       "      <td>2021/03/24 00:00:00+00</td>\n",
       "      <td>16077</td>\n",
       "      <td>06.04.2021, 00:00 Uhr</td>\n",
       "      <td>0</td>\n",
       "      <td>0</td>\n",
       "      <td>2021/03/24 00:00:00+00</td>\n",
       "      <td>-9</td>\n",
       "      <td>0</td>\n",
       "      <td>0</td>\n",
       "      <td>Nicht übermittelt</td>\n",
       "    </tr>\n",
       "    <tr>\n",
       "      <th>1576202</th>\n",
       "      <td>1576202</td>\n",
       "      <td>1576203</td>\n",
       "      <td>16</td>\n",
       "      <td>Thüringen</td>\n",
       "      <td>LK Altenburger Land</td>\n",
       "      <td>A80+</td>\n",
       "      <td>W</td>\n",
       "      <td>2</td>\n",
       "      <td>0</td>\n",
       "      <td>2021/03/26 00:00:00+00</td>\n",
       "      <td>16077</td>\n",
       "      <td>06.04.2021, 00:00 Uhr</td>\n",
       "      <td>0</td>\n",
       "      <td>-9</td>\n",
       "      <td>2021/03/26 00:00:00+00</td>\n",
       "      <td>-9</td>\n",
       "      <td>0</td>\n",
       "      <td>0</td>\n",
       "      <td>Nicht übermittelt</td>\n",
       "    </tr>\n",
       "    <tr>\n",
       "      <th>1576203</th>\n",
       "      <td>1576203</td>\n",
       "      <td>1576204</td>\n",
       "      <td>16</td>\n",
       "      <td>Thüringen</td>\n",
       "      <td>LK Altenburger Land</td>\n",
       "      <td>A80+</td>\n",
       "      <td>W</td>\n",
       "      <td>1</td>\n",
       "      <td>0</td>\n",
       "      <td>2021/03/30 00:00:00+00</td>\n",
       "      <td>16077</td>\n",
       "      <td>06.04.2021, 00:00 Uhr</td>\n",
       "      <td>0</td>\n",
       "      <td>-9</td>\n",
       "      <td>2021/03/30 00:00:00+00</td>\n",
       "      <td>-9</td>\n",
       "      <td>0</td>\n",
       "      <td>0</td>\n",
       "      <td>Nicht übermittelt</td>\n",
       "    </tr>\n",
       "    <tr>\n",
       "      <th>1576204</th>\n",
       "      <td>1576204</td>\n",
       "      <td>1576205</td>\n",
       "      <td>16</td>\n",
       "      <td>Thüringen</td>\n",
       "      <td>LK Altenburger Land</td>\n",
       "      <td>A80+</td>\n",
       "      <td>W</td>\n",
       "      <td>2</td>\n",
       "      <td>0</td>\n",
       "      <td>2021/04/02 00:00:00+00</td>\n",
       "      <td>16077</td>\n",
       "      <td>06.04.2021, 00:00 Uhr</td>\n",
       "      <td>0</td>\n",
       "      <td>-9</td>\n",
       "      <td>2021/04/02 00:00:00+00</td>\n",
       "      <td>-9</td>\n",
       "      <td>0</td>\n",
       "      <td>0</td>\n",
       "      <td>Nicht übermittelt</td>\n",
       "    </tr>\n",
       "    <tr>\n",
       "      <th>1576205</th>\n",
       "      <td>1576205</td>\n",
       "      <td>1576206</td>\n",
       "      <td>16</td>\n",
       "      <td>Thüringen</td>\n",
       "      <td>LK Altenburger Land</td>\n",
       "      <td>A80+</td>\n",
       "      <td>W</td>\n",
       "      <td>2</td>\n",
       "      <td>0</td>\n",
       "      <td>2021/04/03 00:00:00+00</td>\n",
       "      <td>16077</td>\n",
       "      <td>06.04.2021, 00:00 Uhr</td>\n",
       "      <td>0</td>\n",
       "      <td>-9</td>\n",
       "      <td>2021/04/03 00:00:00+00</td>\n",
       "      <td>-9</td>\n",
       "      <td>0</td>\n",
       "      <td>0</td>\n",
       "      <td>Nicht übermittelt</td>\n",
       "    </tr>\n",
       "  </tbody>\n",
       "</table>\n",
       "<p>1576206 rows × 19 columns</p>\n",
       "</div>"
      ],
      "text/plain": [
       "         Unnamed: 0  ObjectId  IdBundesland          Bundesland  \\\n",
       "0                 0         1             1  Schleswig-Holstein   \n",
       "1                 1         2             1  Schleswig-Holstein   \n",
       "2                 2         3             1  Schleswig-Holstein   \n",
       "3                 3         4             1  Schleswig-Holstein   \n",
       "4                 4         5             1  Schleswig-Holstein   \n",
       "...             ...       ...           ...                 ...   \n",
       "1576201     1576201   1576202            16           Thüringen   \n",
       "1576202     1576202   1576203            16           Thüringen   \n",
       "1576203     1576203   1576204            16           Thüringen   \n",
       "1576204     1576204   1576205            16           Thüringen   \n",
       "1576205     1576205   1576206            16           Thüringen   \n",
       "\n",
       "                   Landkreis Altersgruppe Geschlecht  AnzahlFall  \\\n",
       "0               SK Flensburg      A00-A04          M           1   \n",
       "1               SK Flensburg      A00-A04          M           1   \n",
       "2               SK Flensburg      A00-A04          M           1   \n",
       "3               SK Flensburg      A00-A04          M           1   \n",
       "4               SK Flensburg      A00-A04          M           1   \n",
       "...                      ...          ...        ...         ...   \n",
       "1576201  LK Altenburger Land         A80+          W           1   \n",
       "1576202  LK Altenburger Land         A80+          W           2   \n",
       "1576203  LK Altenburger Land         A80+          W           1   \n",
       "1576204  LK Altenburger Land         A80+          W           2   \n",
       "1576205  LK Altenburger Land         A80+          W           2   \n",
       "\n",
       "         AnzahlTodesfall              Meldedatum  IdLandkreis  \\\n",
       "0                      0  2020/09/30 00:00:00+00         1001   \n",
       "1                      0  2020/10/29 00:00:00+00         1001   \n",
       "2                      0  2020/11/03 00:00:00+00         1001   \n",
       "3                      0  2020/11/20 00:00:00+00         1001   \n",
       "4                      0  2020/11/23 00:00:00+00         1001   \n",
       "...                  ...                     ...          ...   \n",
       "1576201                1  2021/03/24 00:00:00+00        16077   \n",
       "1576202                0  2021/03/26 00:00:00+00        16077   \n",
       "1576203                0  2021/03/30 00:00:00+00        16077   \n",
       "1576204                0  2021/04/02 00:00:00+00        16077   \n",
       "1576205                0  2021/04/03 00:00:00+00        16077   \n",
       "\n",
       "                    Datenstand  NeuerFall  NeuerTodesfall  \\\n",
       "0        06.04.2021, 00:00 Uhr          0              -9   \n",
       "1        06.04.2021, 00:00 Uhr          0              -9   \n",
       "2        06.04.2021, 00:00 Uhr          0              -9   \n",
       "3        06.04.2021, 00:00 Uhr          0              -9   \n",
       "4        06.04.2021, 00:00 Uhr          0              -9   \n",
       "...                        ...        ...             ...   \n",
       "1576201  06.04.2021, 00:00 Uhr          0               0   \n",
       "1576202  06.04.2021, 00:00 Uhr          0              -9   \n",
       "1576203  06.04.2021, 00:00 Uhr          0              -9   \n",
       "1576204  06.04.2021, 00:00 Uhr          0              -9   \n",
       "1576205  06.04.2021, 00:00 Uhr          0              -9   \n",
       "\n",
       "                       Refdatum  NeuGenesen  AnzahlGenesen  \\\n",
       "0        2020/09/30 00:00:00+00           0              1   \n",
       "1        2020/10/29 00:00:00+00           0              1   \n",
       "2        2020/11/03 00:00:00+00           0              1   \n",
       "3        2020/11/19 00:00:00+00           0              1   \n",
       "4        2020/11/18 00:00:00+00           0              1   \n",
       "...                         ...         ...            ...   \n",
       "1576201  2021/03/24 00:00:00+00          -9              0   \n",
       "1576202  2021/03/26 00:00:00+00          -9              0   \n",
       "1576203  2021/03/30 00:00:00+00          -9              0   \n",
       "1576204  2021/04/02 00:00:00+00          -9              0   \n",
       "1576205  2021/04/03 00:00:00+00          -9              0   \n",
       "\n",
       "         IstErkrankungsbeginn      Altersgruppe2  \n",
       "0                           0  Nicht übermittelt  \n",
       "1                           0  Nicht übermittelt  \n",
       "2                           0  Nicht übermittelt  \n",
       "3                           1  Nicht übermittelt  \n",
       "4                           1  Nicht übermittelt  \n",
       "...                       ...                ...  \n",
       "1576201                     0  Nicht übermittelt  \n",
       "1576202                     0  Nicht übermittelt  \n",
       "1576203                     0  Nicht übermittelt  \n",
       "1576204                     0  Nicht übermittelt  \n",
       "1576205                     0  Nicht übermittelt  \n",
       "\n",
       "[1576206 rows x 19 columns]"
      ]
     },
     "execution_count": 16,
     "metadata": {},
     "output_type": "execute_result"
    }
   ],
   "source": [
    "corona_tagesaktuell"
   ]
  },
  {
   "cell_type": "code",
   "execution_count": 14,
   "id": "6d0b61a7-3dde-4d1c-8445-7c44314c6576",
   "metadata": {},
   "outputs": [
    {
     "data": {
      "text/plain": [
       "0          06.04.2021, 00:00 Uhr\n",
       "1          06.04.2021, 00:00 Uhr\n",
       "2          06.04.2021, 00:00 Uhr\n",
       "3          06.04.2021, 00:00 Uhr\n",
       "4          06.04.2021, 00:00 Uhr\n",
       "                   ...          \n",
       "1576201    06.04.2021, 00:00 Uhr\n",
       "1576202    06.04.2021, 00:00 Uhr\n",
       "1576203    06.04.2021, 00:00 Uhr\n",
       "1576204    06.04.2021, 00:00 Uhr\n",
       "1576205    06.04.2021, 00:00 Uhr\n",
       "Name: Datenstand, Length: 1576206, dtype: object"
      ]
     },
     "execution_count": 14,
     "metadata": {},
     "output_type": "execute_result"
    }
   ],
   "source": [
    "corona_tagesaktuell['Datenstand']"
   ]
  },
  {
   "cell_type": "markdown",
   "id": "1f6ccfbe",
   "metadata": {},
   "source": [
    "## Datumskonvertierung"
   ]
  },
  {
   "cell_type": "code",
   "execution_count": 15,
   "id": "9b253f0a",
   "metadata": {},
   "outputs": [],
   "source": [
    "corona_tagesaktuell['Datenstand'] = corona_tagesaktuell['Datenstand'].apply(lambda x: x.split(\",\")[0])"
   ]
  },
  {
   "cell_type": "code",
   "execution_count": 16,
   "id": "0f5edd15",
   "metadata": {},
   "outputs": [],
   "source": [
    "corona_tagesaktuell['Datenstand'] = pd.to_datetime(corona_tagesaktuell['Datenstand'],format='%d.%m.%Y')"
   ]
  },
  {
   "cell_type": "code",
   "execution_count": 17,
   "id": "c0a7cd8b",
   "metadata": {},
   "outputs": [],
   "source": [
    "corona_tagesaktuell['Datenstand'] = corona_tagesaktuell['Datenstand'].dt.date.astype(\"datetime64[ns]\")"
   ]
  },
  {
   "cell_type": "code",
   "execution_count": 18,
   "id": "4dca4c7f",
   "metadata": {},
   "outputs": [],
   "source": [
    "del(corona_tagesaktuell['Unnamed: 0'])"
   ]
  },
  {
   "cell_type": "code",
   "execution_count": 19,
   "id": "cce7a60b",
   "metadata": {},
   "outputs": [
    {
     "name": "stdout",
     "output_type": "stream",
     "text": [
      "<class 'pandas.core.frame.DataFrame'>\n",
      "RangeIndex: 1576206 entries, 0 to 1576205\n",
      "Data columns (total 18 columns):\n",
      " #   Column                Non-Null Count    Dtype         \n",
      "---  ------                --------------    -----         \n",
      " 0   ObjectId              1576206 non-null  int64         \n",
      " 1   IdBundesland          1576206 non-null  int64         \n",
      " 2   Bundesland            1576206 non-null  object        \n",
      " 3   Landkreis             1576206 non-null  object        \n",
      " 4   Altersgruppe          1576206 non-null  object        \n",
      " 5   Geschlecht            1576206 non-null  object        \n",
      " 6   AnzahlFall            1576206 non-null  int64         \n",
      " 7   AnzahlTodesfall       1576206 non-null  int64         \n",
      " 8   Meldedatum            1576206 non-null  object        \n",
      " 9   IdLandkreis           1576206 non-null  int64         \n",
      " 10  Datenstand            1576206 non-null  datetime64[ns]\n",
      " 11  NeuerFall             1576206 non-null  int64         \n",
      " 12  NeuerTodesfall        1576206 non-null  int64         \n",
      " 13  Refdatum              1576206 non-null  object        \n",
      " 14  NeuGenesen            1576206 non-null  int64         \n",
      " 15  AnzahlGenesen         1576206 non-null  int64         \n",
      " 16  IstErkrankungsbeginn  1576206 non-null  int64         \n",
      " 17  Altersgruppe2         1576206 non-null  object        \n",
      "dtypes: datetime64[ns](1), int64(10), object(7)\n",
      "memory usage: 216.5+ MB\n"
     ]
    }
   ],
   "source": [
    "corona_tagesaktuell.info()"
   ]
  },
  {
   "cell_type": "code",
   "execution_count": 21,
   "id": "7cbe08cc",
   "metadata": {},
   "outputs": [],
   "source": [
    "divi[\"daten_stand\"] = pd.to_datetime(divi['daten_stand'],format='%Y-%m-%d')"
   ]
  },
  {
   "cell_type": "code",
   "execution_count": 23,
   "id": "daf7984c-b4c3-4158-8153-a2a1a7971fcc",
   "metadata": {},
   "outputs": [
    {
     "data": {
      "text/plain": [
       "0      2021-04-06\n",
       "1      2021-04-06\n",
       "2      2021-04-06\n",
       "3      2021-04-06\n",
       "4      2021-04-06\n",
       "          ...    \n",
       "392    2021-04-06\n",
       "393    2021-04-06\n",
       "394    2021-04-06\n",
       "395    2021-04-06\n",
       "396    2021-04-06\n",
       "Name: daten_stand, Length: 397, dtype: object"
      ]
     },
     "execution_count": 23,
     "metadata": {},
     "output_type": "execute_result"
    }
   ],
   "source": [
    "divi[\"daten_stand\"].dt.date"
   ]
  },
  {
   "cell_type": "code",
   "execution_count": 24,
   "id": "c164e0bf",
   "metadata": {},
   "outputs": [
    {
     "name": "stdout",
     "output_type": "stream",
     "text": [
      "<class 'pandas.core.frame.DataFrame'>\n",
      "RangeIndex: 397 entries, 0 to 396\n",
      "Data columns (total 11 columns):\n",
      " #   Column                                Non-Null Count  Dtype         \n",
      "---  ------                                --------------  -----         \n",
      " 0   bundesland                            397 non-null    int64         \n",
      " 1   gemeindeschluessel                    397 non-null    int64         \n",
      " 2   anzahl_meldebereiche                  397 non-null    int64         \n",
      " 3   faelle_covid_aktuell                  397 non-null    int64         \n",
      " 4   faelle_covid_aktuell_invasiv_beatmet  397 non-null    int64         \n",
      " 5   anzahl_standorte                      397 non-null    int64         \n",
      " 6   betten_frei                           397 non-null    int64         \n",
      " 7   betten_belegt                         397 non-null    int64         \n",
      " 8   daten_stand                           397 non-null    datetime64[ns]\n",
      " 9   betten_belegt_nur_erwachsen           397 non-null    int64         \n",
      " 10  betten_frei_nur_erwachsen             397 non-null    int64         \n",
      "dtypes: datetime64[ns](1), int64(10)\n",
      "memory usage: 34.2 KB\n"
     ]
    }
   ],
   "source": [
    "divi.info()"
   ]
  },
  {
   "cell_type": "code",
   "execution_count": 22,
   "id": "4460e65b",
   "metadata": {},
   "outputs": [
    {
     "data": {
      "text/html": [
       "<div>\n",
       "<style scoped>\n",
       "    .dataframe tbody tr th:only-of-type {\n",
       "        vertical-align: middle;\n",
       "    }\n",
       "\n",
       "    .dataframe tbody tr th {\n",
       "        vertical-align: top;\n",
       "    }\n",
       "\n",
       "    .dataframe thead th {\n",
       "        text-align: right;\n",
       "    }\n",
       "</style>\n",
       "<table border=\"1\" class=\"dataframe\">\n",
       "  <thead>\n",
       "    <tr style=\"text-align: right;\">\n",
       "      <th></th>\n",
       "      <th>bundesland</th>\n",
       "      <th>gemeindeschluessel</th>\n",
       "      <th>anzahl_meldebereiche</th>\n",
       "      <th>faelle_covid_aktuell</th>\n",
       "      <th>faelle_covid_aktuell_invasiv_beatmet</th>\n",
       "      <th>anzahl_standorte</th>\n",
       "      <th>betten_frei</th>\n",
       "      <th>betten_belegt</th>\n",
       "      <th>daten_stand</th>\n",
       "      <th>betten_belegt_nur_erwachsen</th>\n",
       "      <th>betten_frei_nur_erwachsen</th>\n",
       "    </tr>\n",
       "  </thead>\n",
       "  <tbody>\n",
       "    <tr>\n",
       "      <th>0</th>\n",
       "      <td>1</td>\n",
       "      <td>1001</td>\n",
       "      <td>3</td>\n",
       "      <td>3</td>\n",
       "      <td>3</td>\n",
       "      <td>2</td>\n",
       "      <td>6</td>\n",
       "      <td>35</td>\n",
       "      <td>2021-04-06 12:15:00</td>\n",
       "      <td>35</td>\n",
       "      <td>0</td>\n",
       "    </tr>\n",
       "    <tr>\n",
       "      <th>1</th>\n",
       "      <td>1</td>\n",
       "      <td>1002</td>\n",
       "      <td>5</td>\n",
       "      <td>6</td>\n",
       "      <td>5</td>\n",
       "      <td>3</td>\n",
       "      <td>52</td>\n",
       "      <td>112</td>\n",
       "      <td>2021-04-06 12:15:00</td>\n",
       "      <td>111</td>\n",
       "      <td>47</td>\n",
       "    </tr>\n",
       "    <tr>\n",
       "      <th>2</th>\n",
       "      <td>1</td>\n",
       "      <td>1003</td>\n",
       "      <td>2</td>\n",
       "      <td>6</td>\n",
       "      <td>2</td>\n",
       "      <td>2</td>\n",
       "      <td>32</td>\n",
       "      <td>103</td>\n",
       "      <td>2021-04-06 12:15:00</td>\n",
       "      <td>103</td>\n",
       "      <td>32</td>\n",
       "    </tr>\n",
       "    <tr>\n",
       "      <th>3</th>\n",
       "      <td>1</td>\n",
       "      <td>1004</td>\n",
       "      <td>1</td>\n",
       "      <td>0</td>\n",
       "      <td>0</td>\n",
       "      <td>1</td>\n",
       "      <td>5</td>\n",
       "      <td>20</td>\n",
       "      <td>2021-04-06 12:15:00</td>\n",
       "      <td>20</td>\n",
       "      <td>5</td>\n",
       "    </tr>\n",
       "    <tr>\n",
       "      <th>4</th>\n",
       "      <td>1</td>\n",
       "      <td>1051</td>\n",
       "      <td>1</td>\n",
       "      <td>0</td>\n",
       "      <td>0</td>\n",
       "      <td>1</td>\n",
       "      <td>1</td>\n",
       "      <td>37</td>\n",
       "      <td>2021-04-06 12:15:00</td>\n",
       "      <td>37</td>\n",
       "      <td>1</td>\n",
       "    </tr>\n",
       "    <tr>\n",
       "      <th>...</th>\n",
       "      <td>...</td>\n",
       "      <td>...</td>\n",
       "      <td>...</td>\n",
       "      <td>...</td>\n",
       "      <td>...</td>\n",
       "      <td>...</td>\n",
       "      <td>...</td>\n",
       "      <td>...</td>\n",
       "      <td>...</td>\n",
       "      <td>...</td>\n",
       "      <td>...</td>\n",
       "    </tr>\n",
       "    <tr>\n",
       "      <th>392</th>\n",
       "      <td>16</td>\n",
       "      <td>16073</td>\n",
       "      <td>1</td>\n",
       "      <td>11</td>\n",
       "      <td>8</td>\n",
       "      <td>1</td>\n",
       "      <td>3</td>\n",
       "      <td>18</td>\n",
       "      <td>2021-04-06 12:15:00</td>\n",
       "      <td>18</td>\n",
       "      <td>3</td>\n",
       "    </tr>\n",
       "    <tr>\n",
       "      <th>393</th>\n",
       "      <td>16</td>\n",
       "      <td>16074</td>\n",
       "      <td>1</td>\n",
       "      <td>1</td>\n",
       "      <td>1</td>\n",
       "      <td>1</td>\n",
       "      <td>0</td>\n",
       "      <td>5</td>\n",
       "      <td>2021-04-06 12:15:00</td>\n",
       "      <td>5</td>\n",
       "      <td>0</td>\n",
       "    </tr>\n",
       "    <tr>\n",
       "      <th>394</th>\n",
       "      <td>16</td>\n",
       "      <td>16075</td>\n",
       "      <td>1</td>\n",
       "      <td>4</td>\n",
       "      <td>4</td>\n",
       "      <td>1</td>\n",
       "      <td>0</td>\n",
       "      <td>5</td>\n",
       "      <td>2021-04-06 12:15:00</td>\n",
       "      <td>5</td>\n",
       "      <td>0</td>\n",
       "    </tr>\n",
       "    <tr>\n",
       "      <th>395</th>\n",
       "      <td>16</td>\n",
       "      <td>16076</td>\n",
       "      <td>1</td>\n",
       "      <td>6</td>\n",
       "      <td>6</td>\n",
       "      <td>1</td>\n",
       "      <td>1</td>\n",
       "      <td>9</td>\n",
       "      <td>2021-04-06 12:15:00</td>\n",
       "      <td>9</td>\n",
       "      <td>1</td>\n",
       "    </tr>\n",
       "    <tr>\n",
       "      <th>396</th>\n",
       "      <td>16</td>\n",
       "      <td>16077</td>\n",
       "      <td>2</td>\n",
       "      <td>8</td>\n",
       "      <td>4</td>\n",
       "      <td>1</td>\n",
       "      <td>0</td>\n",
       "      <td>29</td>\n",
       "      <td>2021-04-06 12:15:00</td>\n",
       "      <td>28</td>\n",
       "      <td>0</td>\n",
       "    </tr>\n",
       "  </tbody>\n",
       "</table>\n",
       "<p>397 rows × 11 columns</p>\n",
       "</div>"
      ],
      "text/plain": [
       "     bundesland  gemeindeschluessel  anzahl_meldebereiche  \\\n",
       "0             1                1001                     3   \n",
       "1             1                1002                     5   \n",
       "2             1                1003                     2   \n",
       "3             1                1004                     1   \n",
       "4             1                1051                     1   \n",
       "..          ...                 ...                   ...   \n",
       "392          16               16073                     1   \n",
       "393          16               16074                     1   \n",
       "394          16               16075                     1   \n",
       "395          16               16076                     1   \n",
       "396          16               16077                     2   \n",
       "\n",
       "     faelle_covid_aktuell  faelle_covid_aktuell_invasiv_beatmet  \\\n",
       "0                       3                                     3   \n",
       "1                       6                                     5   \n",
       "2                       6                                     2   \n",
       "3                       0                                     0   \n",
       "4                       0                                     0   \n",
       "..                    ...                                   ...   \n",
       "392                    11                                     8   \n",
       "393                     1                                     1   \n",
       "394                     4                                     4   \n",
       "395                     6                                     6   \n",
       "396                     8                                     4   \n",
       "\n",
       "     anzahl_standorte  betten_frei  betten_belegt         daten_stand  \\\n",
       "0                   2            6             35 2021-04-06 12:15:00   \n",
       "1                   3           52            112 2021-04-06 12:15:00   \n",
       "2                   2           32            103 2021-04-06 12:15:00   \n",
       "3                   1            5             20 2021-04-06 12:15:00   \n",
       "4                   1            1             37 2021-04-06 12:15:00   \n",
       "..                ...          ...            ...                 ...   \n",
       "392                 1            3             18 2021-04-06 12:15:00   \n",
       "393                 1            0              5 2021-04-06 12:15:00   \n",
       "394                 1            0              5 2021-04-06 12:15:00   \n",
       "395                 1            1              9 2021-04-06 12:15:00   \n",
       "396                 1            0             29 2021-04-06 12:15:00   \n",
       "\n",
       "     betten_belegt_nur_erwachsen  betten_frei_nur_erwachsen  \n",
       "0                             35                          0  \n",
       "1                            111                         47  \n",
       "2                            103                         32  \n",
       "3                             20                          5  \n",
       "4                             37                          1  \n",
       "..                           ...                        ...  \n",
       "392                           18                          3  \n",
       "393                            5                          0  \n",
       "394                            5                          0  \n",
       "395                            9                          1  \n",
       "396                           28                          0  \n",
       "\n",
       "[397 rows x 11 columns]"
      ]
     },
     "execution_count": 22,
     "metadata": {},
     "output_type": "execute_result"
    }
   ],
   "source": [
    "divi"
   ]
  },
  {
   "cell_type": "code",
   "execution_count": 23,
   "id": "6245613d",
   "metadata": {},
   "outputs": [],
   "source": [
    "divi['daten_stand'] = divi['daten_stand'].dt.date.astype(\"datetime64[ns]\")"
   ]
  },
  {
   "cell_type": "markdown",
   "id": "7c2363b9",
   "metadata": {},
   "source": [
    "## Gruppieren des corona_tagesaktuell Datasets um Datasets zu mergen"
   ]
  },
  {
   "cell_type": "code",
   "execution_count": 25,
   "id": "0d25c2bb",
   "metadata": {},
   "outputs": [
    {
     "data": {
      "text/html": [
       "<div>\n",
       "<style scoped>\n",
       "    .dataframe tbody tr th:only-of-type {\n",
       "        vertical-align: middle;\n",
       "    }\n",
       "\n",
       "    .dataframe tbody tr th {\n",
       "        vertical-align: top;\n",
       "    }\n",
       "\n",
       "    .dataframe thead th {\n",
       "        text-align: right;\n",
       "    }\n",
       "</style>\n",
       "<table border=\"1\" class=\"dataframe\">\n",
       "  <thead>\n",
       "    <tr style=\"text-align: right;\">\n",
       "      <th></th>\n",
       "      <th>AnzahlFall</th>\n",
       "      <th>AnzahlTodesfall</th>\n",
       "      <th>AnzahlGenesen</th>\n",
       "    </tr>\n",
       "    <tr>\n",
       "      <th>Altersgruppe</th>\n",
       "      <th></th>\n",
       "      <th></th>\n",
       "      <th></th>\n",
       "    </tr>\n",
       "  </thead>\n",
       "  <tbody>\n",
       "    <tr>\n",
       "      <th>A00-A04</th>\n",
       "      <td>64083</td>\n",
       "      <td>8</td>\n",
       "      <td>54613</td>\n",
       "    </tr>\n",
       "    <tr>\n",
       "      <th>A05-A14</th>\n",
       "      <td>180260</td>\n",
       "      <td>7</td>\n",
       "      <td>158118</td>\n",
       "    </tr>\n",
       "    <tr>\n",
       "      <th>A15-A34</th>\n",
       "      <td>840054</td>\n",
       "      <td>111</td>\n",
       "      <td>773815</td>\n",
       "    </tr>\n",
       "    <tr>\n",
       "      <th>A35-A59</th>\n",
       "      <td>1106813</td>\n",
       "      <td>2624</td>\n",
       "      <td>1016525</td>\n",
       "    </tr>\n",
       "    <tr>\n",
       "      <th>A60-A79</th>\n",
       "      <td>440373</td>\n",
       "      <td>21116</td>\n",
       "      <td>387439</td>\n",
       "    </tr>\n",
       "    <tr>\n",
       "      <th>A80+</th>\n",
       "      <td>265795</td>\n",
       "      <td>53219</td>\n",
       "      <td>203583</td>\n",
       "    </tr>\n",
       "    <tr>\n",
       "      <th>unbekannt</th>\n",
       "      <td>3287</td>\n",
       "      <td>17</td>\n",
       "      <td>2902</td>\n",
       "    </tr>\n",
       "  </tbody>\n",
       "</table>\n",
       "</div>"
      ],
      "text/plain": [
       "              AnzahlFall  AnzahlTodesfall  AnzahlGenesen\n",
       "Altersgruppe                                            \n",
       "A00-A04            64083                8          54613\n",
       "A05-A14           180260                7         158118\n",
       "A15-A34           840054              111         773815\n",
       "A35-A59          1106813             2624        1016525\n",
       "A60-A79           440373            21116         387439\n",
       "A80+              265795            53219         203583\n",
       "unbekannt           3287               17           2902"
      ]
     },
     "execution_count": 25,
     "metadata": {},
     "output_type": "execute_result"
    }
   ],
   "source": [
    "corona_tagesaktuell.groupby(\"Altersgruppe\").agg({\"AnzahlFall\":sum,\"AnzahlTodesfall\":sum,\"AnzahlGenesen\":sum})"
   ]
  },
  {
   "cell_type": "code",
   "execution_count": 27,
   "id": "f3fcc24e",
   "metadata": {},
   "outputs": [
    {
     "data": {
      "application/vnd.plotly.v1+json": {
       "config": {
        "plotlyServerURL": "https://plot.ly"
       },
       "data": [
        {
         "alignmentgroup": "True",
         "hovertemplate": "variable=AnzahlTodesfall<br>Altersgruppe=%{x}<br>value=%{y}<extra></extra>",
         "legendgroup": "AnzahlTodesfall",
         "marker": {
          "color": "#636efa",
          "pattern": {
           "shape": ""
          }
         },
         "name": "AnzahlTodesfall",
         "offsetgroup": "AnzahlTodesfall",
         "orientation": "v",
         "showlegend": true,
         "textposition": "auto",
         "type": "bar",
         "x": [
          "A00-A04",
          "A05-A14",
          "A15-A34",
          "A35-A59",
          "A60-A79",
          "A80+",
          "unbekannt"
         ],
         "xaxis": "x",
         "y": [
          8,
          7,
          111,
          2624,
          21116,
          53219,
          17
         ],
         "yaxis": "y"
        }
       ],
       "layout": {
        "autosize": true,
        "barmode": "relative",
        "legend": {
         "title": {
          "text": "variable"
         },
         "tracegroupgap": 0
        },
        "margin": {
         "t": 60
        },
        "template": {
         "data": {
          "bar": [
           {
            "error_x": {
             "color": "#2a3f5f"
            },
            "error_y": {
             "color": "#2a3f5f"
            },
            "marker": {
             "line": {
              "color": "#E5ECF6",
              "width": 0.5
             },
             "pattern": {
              "fillmode": "overlay",
              "size": 10,
              "solidity": 0.2
             }
            },
            "type": "bar"
           }
          ],
          "barpolar": [
           {
            "marker": {
             "line": {
              "color": "#E5ECF6",
              "width": 0.5
             },
             "pattern": {
              "fillmode": "overlay",
              "size": 10,
              "solidity": 0.2
             }
            },
            "type": "barpolar"
           }
          ],
          "carpet": [
           {
            "aaxis": {
             "endlinecolor": "#2a3f5f",
             "gridcolor": "white",
             "linecolor": "white",
             "minorgridcolor": "white",
             "startlinecolor": "#2a3f5f"
            },
            "baxis": {
             "endlinecolor": "#2a3f5f",
             "gridcolor": "white",
             "linecolor": "white",
             "minorgridcolor": "white",
             "startlinecolor": "#2a3f5f"
            },
            "type": "carpet"
           }
          ],
          "choropleth": [
           {
            "colorbar": {
             "outlinewidth": 0,
             "ticks": ""
            },
            "type": "choropleth"
           }
          ],
          "contour": [
           {
            "colorbar": {
             "outlinewidth": 0,
             "ticks": ""
            },
            "colorscale": [
             [
              0,
              "#0d0887"
             ],
             [
              0.1111111111111111,
              "#46039f"
             ],
             [
              0.2222222222222222,
              "#7201a8"
             ],
             [
              0.3333333333333333,
              "#9c179e"
             ],
             [
              0.4444444444444444,
              "#bd3786"
             ],
             [
              0.5555555555555556,
              "#d8576b"
             ],
             [
              0.6666666666666666,
              "#ed7953"
             ],
             [
              0.7777777777777778,
              "#fb9f3a"
             ],
             [
              0.8888888888888888,
              "#fdca26"
             ],
             [
              1,
              "#f0f921"
             ]
            ],
            "type": "contour"
           }
          ],
          "contourcarpet": [
           {
            "colorbar": {
             "outlinewidth": 0,
             "ticks": ""
            },
            "type": "contourcarpet"
           }
          ],
          "heatmap": [
           {
            "colorbar": {
             "outlinewidth": 0,
             "ticks": ""
            },
            "colorscale": [
             [
              0,
              "#0d0887"
             ],
             [
              0.1111111111111111,
              "#46039f"
             ],
             [
              0.2222222222222222,
              "#7201a8"
             ],
             [
              0.3333333333333333,
              "#9c179e"
             ],
             [
              0.4444444444444444,
              "#bd3786"
             ],
             [
              0.5555555555555556,
              "#d8576b"
             ],
             [
              0.6666666666666666,
              "#ed7953"
             ],
             [
              0.7777777777777778,
              "#fb9f3a"
             ],
             [
              0.8888888888888888,
              "#fdca26"
             ],
             [
              1,
              "#f0f921"
             ]
            ],
            "type": "heatmap"
           }
          ],
          "heatmapgl": [
           {
            "colorbar": {
             "outlinewidth": 0,
             "ticks": ""
            },
            "colorscale": [
             [
              0,
              "#0d0887"
             ],
             [
              0.1111111111111111,
              "#46039f"
             ],
             [
              0.2222222222222222,
              "#7201a8"
             ],
             [
              0.3333333333333333,
              "#9c179e"
             ],
             [
              0.4444444444444444,
              "#bd3786"
             ],
             [
              0.5555555555555556,
              "#d8576b"
             ],
             [
              0.6666666666666666,
              "#ed7953"
             ],
             [
              0.7777777777777778,
              "#fb9f3a"
             ],
             [
              0.8888888888888888,
              "#fdca26"
             ],
             [
              1,
              "#f0f921"
             ]
            ],
            "type": "heatmapgl"
           }
          ],
          "histogram": [
           {
            "marker": {
             "pattern": {
              "fillmode": "overlay",
              "size": 10,
              "solidity": 0.2
             }
            },
            "type": "histogram"
           }
          ],
          "histogram2d": [
           {
            "colorbar": {
             "outlinewidth": 0,
             "ticks": ""
            },
            "colorscale": [
             [
              0,
              "#0d0887"
             ],
             [
              0.1111111111111111,
              "#46039f"
             ],
             [
              0.2222222222222222,
              "#7201a8"
             ],
             [
              0.3333333333333333,
              "#9c179e"
             ],
             [
              0.4444444444444444,
              "#bd3786"
             ],
             [
              0.5555555555555556,
              "#d8576b"
             ],
             [
              0.6666666666666666,
              "#ed7953"
             ],
             [
              0.7777777777777778,
              "#fb9f3a"
             ],
             [
              0.8888888888888888,
              "#fdca26"
             ],
             [
              1,
              "#f0f921"
             ]
            ],
            "type": "histogram2d"
           }
          ],
          "histogram2dcontour": [
           {
            "colorbar": {
             "outlinewidth": 0,
             "ticks": ""
            },
            "colorscale": [
             [
              0,
              "#0d0887"
             ],
             [
              0.1111111111111111,
              "#46039f"
             ],
             [
              0.2222222222222222,
              "#7201a8"
             ],
             [
              0.3333333333333333,
              "#9c179e"
             ],
             [
              0.4444444444444444,
              "#bd3786"
             ],
             [
              0.5555555555555556,
              "#d8576b"
             ],
             [
              0.6666666666666666,
              "#ed7953"
             ],
             [
              0.7777777777777778,
              "#fb9f3a"
             ],
             [
              0.8888888888888888,
              "#fdca26"
             ],
             [
              1,
              "#f0f921"
             ]
            ],
            "type": "histogram2dcontour"
           }
          ],
          "mesh3d": [
           {
            "colorbar": {
             "outlinewidth": 0,
             "ticks": ""
            },
            "type": "mesh3d"
           }
          ],
          "parcoords": [
           {
            "line": {
             "colorbar": {
              "outlinewidth": 0,
              "ticks": ""
             }
            },
            "type": "parcoords"
           }
          ],
          "pie": [
           {
            "automargin": true,
            "type": "pie"
           }
          ],
          "scatter": [
           {
            "fillpattern": {
             "fillmode": "overlay",
             "size": 10,
             "solidity": 0.2
            },
            "type": "scatter"
           }
          ],
          "scatter3d": [
           {
            "line": {
             "colorbar": {
              "outlinewidth": 0,
              "ticks": ""
             }
            },
            "marker": {
             "colorbar": {
              "outlinewidth": 0,
              "ticks": ""
             }
            },
            "type": "scatter3d"
           }
          ],
          "scattercarpet": [
           {
            "marker": {
             "colorbar": {
              "outlinewidth": 0,
              "ticks": ""
             }
            },
            "type": "scattercarpet"
           }
          ],
          "scattergeo": [
           {
            "marker": {
             "colorbar": {
              "outlinewidth": 0,
              "ticks": ""
             }
            },
            "type": "scattergeo"
           }
          ],
          "scattergl": [
           {
            "marker": {
             "colorbar": {
              "outlinewidth": 0,
              "ticks": ""
             }
            },
            "type": "scattergl"
           }
          ],
          "scattermapbox": [
           {
            "marker": {
             "colorbar": {
              "outlinewidth": 0,
              "ticks": ""
             }
            },
            "type": "scattermapbox"
           }
          ],
          "scatterpolar": [
           {
            "marker": {
             "colorbar": {
              "outlinewidth": 0,
              "ticks": ""
             }
            },
            "type": "scatterpolar"
           }
          ],
          "scatterpolargl": [
           {
            "marker": {
             "colorbar": {
              "outlinewidth": 0,
              "ticks": ""
             }
            },
            "type": "scatterpolargl"
           }
          ],
          "scatterternary": [
           {
            "marker": {
             "colorbar": {
              "outlinewidth": 0,
              "ticks": ""
             }
            },
            "type": "scatterternary"
           }
          ],
          "surface": [
           {
            "colorbar": {
             "outlinewidth": 0,
             "ticks": ""
            },
            "colorscale": [
             [
              0,
              "#0d0887"
             ],
             [
              0.1111111111111111,
              "#46039f"
             ],
             [
              0.2222222222222222,
              "#7201a8"
             ],
             [
              0.3333333333333333,
              "#9c179e"
             ],
             [
              0.4444444444444444,
              "#bd3786"
             ],
             [
              0.5555555555555556,
              "#d8576b"
             ],
             [
              0.6666666666666666,
              "#ed7953"
             ],
             [
              0.7777777777777778,
              "#fb9f3a"
             ],
             [
              0.8888888888888888,
              "#fdca26"
             ],
             [
              1,
              "#f0f921"
             ]
            ],
            "type": "surface"
           }
          ],
          "table": [
           {
            "cells": {
             "fill": {
              "color": "#EBF0F8"
             },
             "line": {
              "color": "white"
             }
            },
            "header": {
             "fill": {
              "color": "#C8D4E3"
             },
             "line": {
              "color": "white"
             }
            },
            "type": "table"
           }
          ]
         },
         "layout": {
          "annotationdefaults": {
           "arrowcolor": "#2a3f5f",
           "arrowhead": 0,
           "arrowwidth": 1
          },
          "autotypenumbers": "strict",
          "coloraxis": {
           "colorbar": {
            "outlinewidth": 0,
            "ticks": ""
           }
          },
          "colorscale": {
           "diverging": [
            [
             0,
             "#8e0152"
            ],
            [
             0.1,
             "#c51b7d"
            ],
            [
             0.2,
             "#de77ae"
            ],
            [
             0.3,
             "#f1b6da"
            ],
            [
             0.4,
             "#fde0ef"
            ],
            [
             0.5,
             "#f7f7f7"
            ],
            [
             0.6,
             "#e6f5d0"
            ],
            [
             0.7,
             "#b8e186"
            ],
            [
             0.8,
             "#7fbc41"
            ],
            [
             0.9,
             "#4d9221"
            ],
            [
             1,
             "#276419"
            ]
           ],
           "sequential": [
            [
             0,
             "#0d0887"
            ],
            [
             0.1111111111111111,
             "#46039f"
            ],
            [
             0.2222222222222222,
             "#7201a8"
            ],
            [
             0.3333333333333333,
             "#9c179e"
            ],
            [
             0.4444444444444444,
             "#bd3786"
            ],
            [
             0.5555555555555556,
             "#d8576b"
            ],
            [
             0.6666666666666666,
             "#ed7953"
            ],
            [
             0.7777777777777778,
             "#fb9f3a"
            ],
            [
             0.8888888888888888,
             "#fdca26"
            ],
            [
             1,
             "#f0f921"
            ]
           ],
           "sequentialminus": [
            [
             0,
             "#0d0887"
            ],
            [
             0.1111111111111111,
             "#46039f"
            ],
            [
             0.2222222222222222,
             "#7201a8"
            ],
            [
             0.3333333333333333,
             "#9c179e"
            ],
            [
             0.4444444444444444,
             "#bd3786"
            ],
            [
             0.5555555555555556,
             "#d8576b"
            ],
            [
             0.6666666666666666,
             "#ed7953"
            ],
            [
             0.7777777777777778,
             "#fb9f3a"
            ],
            [
             0.8888888888888888,
             "#fdca26"
            ],
            [
             1,
             "#f0f921"
            ]
           ]
          },
          "colorway": [
           "#636efa",
           "#EF553B",
           "#00cc96",
           "#ab63fa",
           "#FFA15A",
           "#19d3f3",
           "#FF6692",
           "#B6E880",
           "#FF97FF",
           "#FECB52"
          ],
          "font": {
           "color": "#2a3f5f"
          },
          "geo": {
           "bgcolor": "white",
           "lakecolor": "white",
           "landcolor": "#E5ECF6",
           "showlakes": true,
           "showland": true,
           "subunitcolor": "white"
          },
          "hoverlabel": {
           "align": "left"
          },
          "hovermode": "closest",
          "mapbox": {
           "style": "light"
          },
          "paper_bgcolor": "white",
          "plot_bgcolor": "#E5ECF6",
          "polar": {
           "angularaxis": {
            "gridcolor": "white",
            "linecolor": "white",
            "ticks": ""
           },
           "bgcolor": "#E5ECF6",
           "radialaxis": {
            "gridcolor": "white",
            "linecolor": "white",
            "ticks": ""
           }
          },
          "scene": {
           "xaxis": {
            "backgroundcolor": "#E5ECF6",
            "gridcolor": "white",
            "gridwidth": 2,
            "linecolor": "white",
            "showbackground": true,
            "ticks": "",
            "zerolinecolor": "white"
           },
           "yaxis": {
            "backgroundcolor": "#E5ECF6",
            "gridcolor": "white",
            "gridwidth": 2,
            "linecolor": "white",
            "showbackground": true,
            "ticks": "",
            "zerolinecolor": "white"
           },
           "zaxis": {
            "backgroundcolor": "#E5ECF6",
            "gridcolor": "white",
            "gridwidth": 2,
            "linecolor": "white",
            "showbackground": true,
            "ticks": "",
            "zerolinecolor": "white"
           }
          },
          "shapedefaults": {
           "line": {
            "color": "#2a3f5f"
           }
          },
          "ternary": {
           "aaxis": {
            "gridcolor": "white",
            "linecolor": "white",
            "ticks": ""
           },
           "baxis": {
            "gridcolor": "white",
            "linecolor": "white",
            "ticks": ""
           },
           "bgcolor": "#E5ECF6",
           "caxis": {
            "gridcolor": "white",
            "linecolor": "white",
            "ticks": ""
           }
          },
          "title": {
           "x": 0.05
          },
          "xaxis": {
           "automargin": true,
           "gridcolor": "white",
           "linecolor": "white",
           "ticks": "",
           "title": {
            "standoff": 15
           },
           "zerolinecolor": "white",
           "zerolinewidth": 2
          },
          "yaxis": {
           "automargin": true,
           "gridcolor": "white",
           "linecolor": "white",
           "ticks": "",
           "title": {
            "standoff": 15
           },
           "zerolinecolor": "white",
           "zerolinewidth": 2
          }
         }
        },
        "xaxis": {
         "anchor": "y",
         "autorange": true,
         "domain": [
          0,
          1
         ],
         "range": [
          -0.5,
          6.5
         ],
         "title": {
          "text": "Altersgruppe"
         },
         "type": "category"
        },
        "yaxis": {
         "anchor": "x",
         "autorange": true,
         "domain": [
          0,
          1
         ],
         "range": [
          0,
          56020
         ],
         "title": {
          "text": "value"
         },
         "type": "linear"
        }
       }
      },
      "image/png": "[encoded data removed]",
      "text/html": [
       "<div>                            <div id=\"d2a24b32-6a4e-412e-b49b-692a9192e309\" class=\"plotly-graph-div\" style=\"height:525px; width:100%;\"></div>            <script type=\"text/javascript\">                require([\"plotly\"], function(Plotly) {                    window.PLOTLYENV=window.PLOTLYENV || {};                                    if (document.getElementById(\"d2a24b32-6a4e-412e-b49b-692a9192e309\")) {                    Plotly.newPlot(                        \"d2a24b32-6a4e-412e-b49b-692a9192e309\",                        [{\"alignmentgroup\":\"True\",\"hovertemplate\":\"variable=AnzahlTodesfall<br>Altersgruppe=%{x}<br>value=%{y}<extra></extra>\",\"legendgroup\":\"AnzahlTodesfall\",\"marker\":{\"color\":\"#636efa\",\"pattern\":{\"shape\":\"\"}},\"name\":\"AnzahlTodesfall\",\"offsetgroup\":\"AnzahlTodesfall\",\"orientation\":\"v\",\"showlegend\":true,\"textposition\":\"auto\",\"x\":[\"A00-A04\",\"A05-A14\",\"A15-A34\",\"A35-A59\",\"A60-A79\",\"A80+\",\"unbekannt\"],\"xaxis\":\"x\",\"y\":[8,7,111,2624,21116,53219,17],\"yaxis\":\"y\",\"type\":\"bar\"}],                        {\"template\":{\"data\":{\"histogram2dcontour\":[{\"type\":\"histogram2dcontour\",\"colorbar\":{\"outlinewidth\":0,\"ticks\":\"\"},\"colorscale\":[[0.0,\"#0d0887\"],[0.1111111111111111,\"#46039f\"],[0.2222222222222222,\"#7201a8\"],[0.3333333333333333,\"#9c179e\"],[0.4444444444444444,\"#bd3786\"],[0.5555555555555556,\"#d8576b\"],[0.6666666666666666,\"#ed7953\"],[0.7777777777777778,\"#fb9f3a\"],[0.8888888888888888,\"#fdca26\"],[1.0,\"#f0f921\"]]}],\"choropleth\":[{\"type\":\"choropleth\",\"colorbar\":{\"outlinewidth\":0,\"ticks\":\"\"}}],\"histogram2d\":[{\"type\":\"histogram2d\",\"colorbar\":{\"outlinewidth\":0,\"ticks\":\"\"},\"colorscale\":[[0.0,\"#0d0887\"],[0.1111111111111111,\"#46039f\"],[0.2222222222222222,\"#7201a8\"],[0.3333333333333333,\"#9c179e\"],[0.4444444444444444,\"#bd3786\"],[0.5555555555555556,\"#d8576b\"],[0.6666666666666666,\"#ed7953\"],[0.7777777777777778,\"#fb9f3a\"],[0.8888888888888888,\"#fdca26\"],[1.0,\"#f0f921\"]]}],\"heatmap\":[{\"type\":\"heatmap\",\"colorbar\":{\"outlinewidth\":0,\"ticks\":\"\"},\"colorscale\":[[0.0,\"#0d0887\"],[0.1111111111111111,\"#46039f\"],[0.2222222222222222,\"#7201a8\"],[0.3333333333333333,\"#9c179e\"],[0.4444444444444444,\"#bd3786\"],[0.5555555555555556,\"#d8576b\"],[0.6666666666666666,\"#ed7953\"],[0.7777777777777778,\"#fb9f3a\"],[0.8888888888888888,\"#fdca26\"],[1.0,\"#f0f921\"]]}],\"heatmapgl\":[{\"type\":\"heatmapgl\",\"colorbar\":{\"outlinewidth\":0,\"ticks\":\"\"},\"colorscale\":[[0.0,\"#0d0887\"],[0.1111111111111111,\"#46039f\"],[0.2222222222222222,\"#7201a8\"],[0.3333333333333333,\"#9c179e\"],[0.4444444444444444,\"#bd3786\"],[0.5555555555555556,\"#d8576b\"],[0.6666666666666666,\"#ed7953\"],[0.7777777777777778,\"#fb9f3a\"],[0.8888888888888888,\"#fdca26\"],[1.0,\"#f0f921\"]]}],\"contourcarpet\":[{\"type\":\"contourcarpet\",\"colorbar\":{\"outlinewidth\":0,\"ticks\":\"\"}}],\"contour\":[{\"type\":\"contour\",\"colorbar\":{\"outlinewidth\":0,\"ticks\":\"\"},\"colorscale\":[[0.0,\"#0d0887\"],[0.1111111111111111,\"#46039f\"],[0.2222222222222222,\"#7201a8\"],[0.3333333333333333,\"#9c179e\"],[0.4444444444444444,\"#bd3786\"],[0.5555555555555556,\"#d8576b\"],[0.6666666666666666,\"#ed7953\"],[0.7777777777777778,\"#fb9f3a\"],[0.8888888888888888,\"#fdca26\"],[1.0,\"#f0f921\"]]}],\"surface\":[{\"type\":\"surface\",\"colorbar\":{\"outlinewidth\":0,\"ticks\":\"\"},\"colorscale\":[[0.0,\"#0d0887\"],[0.1111111111111111,\"#46039f\"],[0.2222222222222222,\"#7201a8\"],[0.3333333333333333,\"#9c179e\"],[0.4444444444444444,\"#bd3786\"],[0.5555555555555556,\"#d8576b\"],[0.6666666666666666,\"#ed7953\"],[0.7777777777777778,\"#fb9f3a\"],[0.8888888888888888,\"#fdca26\"],[1.0,\"#f0f921\"]]}],\"mesh3d\":[{\"type\":\"mesh3d\",\"colorbar\":{\"outlinewidth\":0,\"ticks\":\"\"}}],\"scatter\":[{\"fillpattern\":{\"fillmode\":\"overlay\",\"size\":10,\"solidity\":0.2},\"type\":\"scatter\"}],\"parcoords\":[{\"type\":\"parcoords\",\"line\":{\"colorbar\":{\"outlinewidth\":0,\"ticks\":\"\"}}}],\"scatterpolargl\":[{\"type\":\"scatterpolargl\",\"marker\":{\"colorbar\":{\"outlinewidth\":0,\"ticks\":\"\"}}}],\"bar\":[{\"error_x\":{\"color\":\"#2a3f5f\"},\"error_y\":{\"color\":\"#2a3f5f\"},\"marker\":{\"line\":{\"color\":\"#E5ECF6\",\"width\":0.5},\"pattern\":{\"fillmode\":\"overlay\",\"size\":10,\"solidity\":0.2}},\"type\":\"bar\"}],\"scattergeo\":[{\"type\":\"scattergeo\",\"marker\":{\"colorbar\":{\"outlinewidth\":0,\"ticks\":\"\"}}}],\"scatterpolar\":[{\"type\":\"scatterpolar\",\"marker\":{\"colorbar\":{\"outlinewidth\":0,\"ticks\":\"\"}}}],\"histogram\":[{\"marker\":{\"pattern\":{\"fillmode\":\"overlay\",\"size\":10,\"solidity\":0.2}},\"type\":\"histogram\"}],\"scattergl\":[{\"type\":\"scattergl\",\"marker\":{\"colorbar\":{\"outlinewidth\":0,\"ticks\":\"\"}}}],\"scatter3d\":[{\"type\":\"scatter3d\",\"line\":{\"colorbar\":{\"outlinewidth\":0,\"ticks\":\"\"}},\"marker\":{\"colorbar\":{\"outlinewidth\":0,\"ticks\":\"\"}}}],\"scattermapbox\":[{\"type\":\"scattermapbox\",\"marker\":{\"colorbar\":{\"outlinewidth\":0,\"ticks\":\"\"}}}],\"scatterternary\":[{\"type\":\"scatterternary\",\"marker\":{\"colorbar\":{\"outlinewidth\":0,\"ticks\":\"\"}}}],\"scattercarpet\":[{\"type\":\"scattercarpet\",\"marker\":{\"colorbar\":{\"outlinewidth\":0,\"ticks\":\"\"}}}],\"carpet\":[{\"aaxis\":{\"endlinecolor\":\"#2a3f5f\",\"gridcolor\":\"white\",\"linecolor\":\"white\",\"minorgridcolor\":\"white\",\"startlinecolor\":\"#2a3f5f\"},\"baxis\":{\"endlinecolor\":\"#2a3f5f\",\"gridcolor\":\"white\",\"linecolor\":\"white\",\"minorgridcolor\":\"white\",\"startlinecolor\":\"#2a3f5f\"},\"type\":\"carpet\"}],\"table\":[{\"cells\":{\"fill\":{\"color\":\"#EBF0F8\"},\"line\":{\"color\":\"white\"}},\"header\":{\"fill\":{\"color\":\"#C8D4E3\"},\"line\":{\"color\":\"white\"}},\"type\":\"table\"}],\"barpolar\":[{\"marker\":{\"line\":{\"color\":\"#E5ECF6\",\"width\":0.5},\"pattern\":{\"fillmode\":\"overlay\",\"size\":10,\"solidity\":0.2}},\"type\":\"barpolar\"}],\"pie\":[{\"automargin\":true,\"type\":\"pie\"}]},\"layout\":{\"autotypenumbers\":\"strict\",\"colorway\":[\"#636efa\",\"#EF553B\",\"#00cc96\",\"#ab63fa\",\"#FFA15A\",\"#19d3f3\",\"#FF6692\",\"#B6E880\",\"#FF97FF\",\"#FECB52\"],\"font\":{\"color\":\"#2a3f5f\"},\"hovermode\":\"closest\",\"hoverlabel\":{\"align\":\"left\"},\"paper_bgcolor\":\"white\",\"plot_bgcolor\":\"#E5ECF6\",\"polar\":{\"bgcolor\":\"#E5ECF6\",\"angularaxis\":{\"gridcolor\":\"white\",\"linecolor\":\"white\",\"ticks\":\"\"},\"radialaxis\":{\"gridcolor\":\"white\",\"linecolor\":\"white\",\"ticks\":\"\"}},\"ternary\":{\"bgcolor\":\"#E5ECF6\",\"aaxis\":{\"gridcolor\":\"white\",\"linecolor\":\"white\",\"ticks\":\"\"},\"baxis\":{\"gridcolor\":\"white\",\"linecolor\":\"white\",\"ticks\":\"\"},\"caxis\":{\"gridcolor\":\"white\",\"linecolor\":\"white\",\"ticks\":\"\"}},\"coloraxis\":{\"colorbar\":{\"outlinewidth\":0,\"ticks\":\"\"}},\"colorscale\":{\"sequential\":[[0.0,\"#0d0887\"],[0.1111111111111111,\"#46039f\"],[0.2222222222222222,\"#7201a8\"],[0.3333333333333333,\"#9c179e\"],[0.4444444444444444,\"#bd3786\"],[0.5555555555555556,\"#d8576b\"],[0.6666666666666666,\"#ed7953\"],[0.7777777777777778,\"#fb9f3a\"],[0.8888888888888888,\"#fdca26\"],[1.0,\"#f0f921\"]],\"sequentialminus\":[[0.0,\"#0d0887\"],[0.1111111111111111,\"#46039f\"],[0.2222222222222222,\"#7201a8\"],[0.3333333333333333,\"#9c179e\"],[0.4444444444444444,\"#bd3786\"],[0.5555555555555556,\"#d8576b\"],[0.6666666666666666,\"#ed7953\"],[0.7777777777777778,\"#fb9f3a\"],[0.8888888888888888,\"#fdca26\"],[1.0,\"#f0f921\"]],\"diverging\":[[0,\"#8e0152\"],[0.1,\"#c51b7d\"],[0.2,\"#de77ae\"],[0.3,\"#f1b6da\"],[0.4,\"#fde0ef\"],[0.5,\"#f7f7f7\"],[0.6,\"#e6f5d0\"],[0.7,\"#b8e186\"],[0.8,\"#7fbc41\"],[0.9,\"#4d9221\"],[1,\"#276419\"]]},\"xaxis\":{\"gridcolor\":\"white\",\"linecolor\":\"white\",\"ticks\":\"\",\"title\":{\"standoff\":15},\"zerolinecolor\":\"white\",\"automargin\":true,\"zerolinewidth\":2},\"yaxis\":{\"gridcolor\":\"white\",\"linecolor\":\"white\",\"ticks\":\"\",\"title\":{\"standoff\":15},\"zerolinecolor\":\"white\",\"automargin\":true,\"zerolinewidth\":2},\"scene\":{\"xaxis\":{\"backgroundcolor\":\"#E5ECF6\",\"gridcolor\":\"white\",\"linecolor\":\"white\",\"showbackground\":true,\"ticks\":\"\",\"zerolinecolor\":\"white\",\"gridwidth\":2},\"yaxis\":{\"backgroundcolor\":\"#E5ECF6\",\"gridcolor\":\"white\",\"linecolor\":\"white\",\"showbackground\":true,\"ticks\":\"\",\"zerolinecolor\":\"white\",\"gridwidth\":2},\"zaxis\":{\"backgroundcolor\":\"#E5ECF6\",\"gridcolor\":\"white\",\"linecolor\":\"white\",\"showbackground\":true,\"ticks\":\"\",\"zerolinecolor\":\"white\",\"gridwidth\":2}},\"shapedefaults\":{\"line\":{\"color\":\"#2a3f5f\"}},\"annotationdefaults\":{\"arrowcolor\":\"#2a3f5f\",\"arrowhead\":0,\"arrowwidth\":1},\"geo\":{\"bgcolor\":\"white\",\"landcolor\":\"#E5ECF6\",\"subunitcolor\":\"white\",\"showland\":true,\"showlakes\":true,\"lakecolor\":\"white\"},\"title\":{\"x\":0.05},\"mapbox\":{\"style\":\"light\"}}},\"xaxis\":{\"anchor\":\"y\",\"domain\":[0.0,1.0],\"title\":{\"text\":\"Altersgruppe\"}},\"yaxis\":{\"anchor\":\"x\",\"domain\":[0.0,1.0],\"title\":{\"text\":\"value\"}},\"legend\":{\"title\":{\"text\":\"variable\"},\"tracegroupgap\":0},\"margin\":{\"t\":60},\"barmode\":\"relative\"},                        {\"responsive\": true}                    ).then(function(){\n",
       "                            \n",
       "var gd = document.getElementById('d2a24b32-6a4e-412e-b49b-692a9192e309');\n",
       "var x = new MutationObserver(function (mutations, observer) {{\n",
       "        var display = window.getComputedStyle(gd).display;\n",
       "        if (!display || display === 'none') {{\n",
       "            console.log([gd, 'removed!']);\n",
       "            Plotly.purge(gd);\n",
       "            observer.disconnect();\n",
       "        }}\n",
       "}});\n",
       "\n",
       "// Listen for the removal of the full notebook cells\n",
       "var notebookContainer = gd.closest('#notebook-container');\n",
       "if (notebookContainer) {{\n",
       "    x.observe(notebookContainer, {childList: true});\n",
       "}}\n",
       "\n",
       "// Listen for the clearing of the current output cell\n",
       "var outputEl = gd.closest('.output');\n",
       "if (outputEl) {{\n",
       "    x.observe(outputEl, {childList: true});\n",
       "}}\n",
       "\n",
       "                        })                };                });            </script>        </div>"
      ]
     },
     "metadata": {},
     "output_type": "display_data"
    }
   ],
   "source": [
    "px.bar(corona_tagesaktuell.groupby(\"Altersgruppe\").agg({\"AnzahlTodesfall\":sum}))\n",
    "###Man muss vorsichtig sein: Sterblichkeitsrate hängt nicht zwingend mit Alter, sondern eher mit Vorerkrankungen zusammen.\n",
    "###Es ist nur sehr viel wahrscheinlicher, dass Leute in hohem Alter mehr Vorerkrankungen haben."
   ]
  },
  {
   "cell_type": "code",
   "execution_count": 28,
   "id": "b655c003",
   "metadata": {},
   "outputs": [
    {
     "data": {
      "application/vnd.plotly.v1+json": {
       "config": {
        "plotlyServerURL": "https://plot.ly"
       },
       "data": [
        {
         "alignmentgroup": "True",
         "hovertemplate": "variable=AnzahlFall<br>Altersgruppe=%{x}<br>value=%{y}<extra></extra>",
         "legendgroup": "AnzahlFall",
         "marker": {
          "color": "#636efa",
          "pattern": {
           "shape": ""
          }
         },
         "name": "AnzahlFall",
         "offsetgroup": "AnzahlFall",
         "orientation": "v",
         "showlegend": true,
         "textposition": "auto",
         "type": "bar",
         "x": [
          "A00-A04",
          "A05-A14",
          "A15-A34",
          "A35-A59",
          "A60-A79",
          "A80+",
          "unbekannt"
         ],
         "xaxis": "x",
         "y": [
          64083,
          180260,
          840054,
          1106813,
          440373,
          265795,
          3287
         ],
         "yaxis": "y"
        }
       ],
       "layout": {
        "autosize": true,
        "barmode": "relative",
        "legend": {
         "title": {
          "text": "variable"
         },
         "tracegroupgap": 0
        },
        "margin": {
         "t": 60
        },
        "template": {
         "data": {
          "bar": [
           {
            "error_x": {
             "color": "#2a3f5f"
            },
            "error_y": {
             "color": "#2a3f5f"
            },
            "marker": {
             "line": {
              "color": "#E5ECF6",
              "width": 0.5
             },
             "pattern": {
              "fillmode": "overlay",
              "size": 10,
              "solidity": 0.2
             }
            },
            "type": "bar"
           }
          ],
          "barpolar": [
           {
            "marker": {
             "line": {
              "color": "#E5ECF6",
              "width": 0.5
             },
             "pattern": {
              "fillmode": "overlay",
              "size": 10,
              "solidity": 0.2
             }
            },
            "type": "barpolar"
           }
          ],
          "carpet": [
           {
            "aaxis": {
             "endlinecolor": "#2a3f5f",
             "gridcolor": "white",
             "linecolor": "white",
             "minorgridcolor": "white",
             "startlinecolor": "#2a3f5f"
            },
            "baxis": {
             "endlinecolor": "#2a3f5f",
             "gridcolor": "white",
             "linecolor": "white",
             "minorgridcolor": "white",
             "startlinecolor": "#2a3f5f"
            },
            "type": "carpet"
           }
          ],
          "choropleth": [
           {
            "colorbar": {
             "outlinewidth": 0,
             "ticks": ""
            },
            "type": "choropleth"
           }
          ],
          "contour": [
           {
            "colorbar": {
             "outlinewidth": 0,
             "ticks": ""
            },
            "colorscale": [
             [
              0,
              "#0d0887"
             ],
             [
              0.1111111111111111,
              "#46039f"
             ],
             [
              0.2222222222222222,
              "#7201a8"
             ],
             [
              0.3333333333333333,
              "#9c179e"
             ],
             [
              0.4444444444444444,
              "#bd3786"
             ],
             [
              0.5555555555555556,
              "#d8576b"
             ],
             [
              0.6666666666666666,
              "#ed7953"
             ],
             [
              0.7777777777777778,
              "#fb9f3a"
             ],
             [
              0.8888888888888888,
              "#fdca26"
             ],
             [
              1,
              "#f0f921"
             ]
            ],
            "type": "contour"
           }
          ],
          "contourcarpet": [
           {
            "colorbar": {
             "outlinewidth": 0,
             "ticks": ""
            },
            "type": "contourcarpet"
           }
          ],
          "heatmap": [
           {
            "colorbar": {
             "outlinewidth": 0,
             "ticks": ""
            },
            "colorscale": [
             [
              0,
              "#0d0887"
             ],
             [
              0.1111111111111111,
              "#46039f"
             ],
             [
              0.2222222222222222,
              "#7201a8"
             ],
             [
              0.3333333333333333,
              "#9c179e"
             ],
             [
              0.4444444444444444,
              "#bd3786"
             ],
             [
              0.5555555555555556,
              "#d8576b"
             ],
             [
              0.6666666666666666,
              "#ed7953"
             ],
             [
              0.7777777777777778,
              "#fb9f3a"
             ],
             [
              0.8888888888888888,
              "#fdca26"
             ],
             [
              1,
              "#f0f921"
             ]
            ],
            "type": "heatmap"
           }
          ],
          "heatmapgl": [
           {
            "colorbar": {
             "outlinewidth": 0,
             "ticks": ""
            },
            "colorscale": [
             [
              0,
              "#0d0887"
             ],
             [
              0.1111111111111111,
              "#46039f"
             ],
             [
              0.2222222222222222,
              "#7201a8"
             ],
             [
              0.3333333333333333,
              "#9c179e"
             ],
             [
              0.4444444444444444,
              "#bd3786"
             ],
             [
              0.5555555555555556,
              "#d8576b"
             ],
             [
              0.6666666666666666,
              "#ed7953"
             ],
             [
              0.7777777777777778,
              "#fb9f3a"
             ],
             [
              0.8888888888888888,
              "#fdca26"
             ],
             [
              1,
              "#f0f921"
             ]
            ],
            "type": "heatmapgl"
           }
          ],
          "histogram": [
           {
            "marker": {
             "pattern": {
              "fillmode": "overlay",
              "size": 10,
              "solidity": 0.2
             }
            },
            "type": "histogram"
           }
          ],
          "histogram2d": [
           {
            "colorbar": {
             "outlinewidth": 0,
             "ticks": ""
            },
            "colorscale": [
             [
              0,
              "#0d0887"
             ],
             [
              0.1111111111111111,
              "#46039f"
             ],
             [
              0.2222222222222222,
              "#7201a8"
             ],
             [
              0.3333333333333333,
              "#9c179e"
             ],
             [
              0.4444444444444444,
              "#bd3786"
             ],
             [
              0.5555555555555556,
              "#d8576b"
             ],
             [
              0.6666666666666666,
              "#ed7953"
             ],
             [
              0.7777777777777778,
              "#fb9f3a"
             ],
             [
              0.8888888888888888,
              "#fdca26"
             ],
             [
              1,
              "#f0f921"
             ]
            ],
            "type": "histogram2d"
           }
          ],
          "histogram2dcontour": [
           {
            "colorbar": {
             "outlinewidth": 0,
             "ticks": ""
            },
            "colorscale": [
             [
              0,
              "#0d0887"
             ],
             [
              0.1111111111111111,
              "#46039f"
             ],
             [
              0.2222222222222222,
              "#7201a8"
             ],
             [
              0.3333333333333333,
              "#9c179e"
             ],
             [
              0.4444444444444444,
              "#bd3786"
             ],
             [
              0.5555555555555556,
              "#d8576b"
             ],
             [
              0.6666666666666666,
              "#ed7953"
             ],
             [
              0.7777777777777778,
              "#fb9f3a"
             ],
             [
              0.8888888888888888,
              "#fdca26"
             ],
             [
              1,
              "#f0f921"
             ]
            ],
            "type": "histogram2dcontour"
           }
          ],
          "mesh3d": [
           {
            "colorbar": {
             "outlinewidth": 0,
             "ticks": ""
            },
            "type": "mesh3d"
           }
          ],
          "parcoords": [
           {
            "line": {
             "colorbar": {
              "outlinewidth": 0,
              "ticks": ""
             }
            },
            "type": "parcoords"
           }
          ],
          "pie": [
           {
            "automargin": true,
            "type": "pie"
           }
          ],
          "scatter": [
           {
            "fillpattern": {
             "fillmode": "overlay",
             "size": 10,
             "solidity": 0.2
            },
            "type": "scatter"
           }
          ],
          "scatter3d": [
           {
            "line": {
             "colorbar": {
              "outlinewidth": 0,
              "ticks": ""
             }
            },
            "marker": {
             "colorbar": {
              "outlinewidth": 0,
              "ticks": ""
             }
            },
            "type": "scatter3d"
           }
          ],
          "scattercarpet": [
           {
            "marker": {
             "colorbar": {
              "outlinewidth": 0,
              "ticks": ""
             }
            },
            "type": "scattercarpet"
           }
          ],
          "scattergeo": [
           {
            "marker": {
             "colorbar": {
              "outlinewidth": 0,
              "ticks": ""
             }
            },
            "type": "scattergeo"
           }
          ],
          "scattergl": [
           {
            "marker": {
             "colorbar": {
              "outlinewidth": 0,
              "ticks": ""
             }
            },
            "type": "scattergl"
           }
          ],
          "scattermapbox": [
           {
            "marker": {
             "colorbar": {
              "outlinewidth": 0,
              "ticks": ""
             }
            },
            "type": "scattermapbox"
           }
          ],
          "scatterpolar": [
           {
            "marker": {
             "colorbar": {
              "outlinewidth": 0,
              "ticks": ""
             }
            },
            "type": "scatterpolar"
           }
          ],
          "scatterpolargl": [
           {
            "marker": {
             "colorbar": {
              "outlinewidth": 0,
              "ticks": ""
             }
            },
            "type": "scatterpolargl"
           }
          ],
          "scatterternary": [
           {
            "marker": {
             "colorbar": {
              "outlinewidth": 0,
              "ticks": ""
             }
            },
            "type": "scatterternary"
           }
          ],
          "surface": [
           {
            "colorbar": {
             "outlinewidth": 0,
             "ticks": ""
            },
            "colorscale": [
             [
              0,
              "#0d0887"
             ],
             [
              0.1111111111111111,
              "#46039f"
             ],
             [
              0.2222222222222222,
              "#7201a8"
             ],
             [
              0.3333333333333333,
              "#9c179e"
             ],
             [
              0.4444444444444444,
              "#bd3786"
             ],
             [
              0.5555555555555556,
              "#d8576b"
             ],
             [
              0.6666666666666666,
              "#ed7953"
             ],
             [
              0.7777777777777778,
              "#fb9f3a"
             ],
             [
              0.8888888888888888,
              "#fdca26"
             ],
             [
              1,
              "#f0f921"
             ]
            ],
            "type": "surface"
           }
          ],
          "table": [
           {
            "cells": {
             "fill": {
              "color": "#EBF0F8"
             },
             "line": {
              "color": "white"
             }
            },
            "header": {
             "fill": {
              "color": "#C8D4E3"
             },
             "line": {
              "color": "white"
             }
            },
            "type": "table"
           }
          ]
         },
         "layout": {
          "annotationdefaults": {
           "arrowcolor": "#2a3f5f",
           "arrowhead": 0,
           "arrowwidth": 1
          },
          "autotypenumbers": "strict",
          "coloraxis": {
           "colorbar": {
            "outlinewidth": 0,
            "ticks": ""
           }
          },
          "colorscale": {
           "diverging": [
            [
             0,
             "#8e0152"
            ],
            [
             0.1,
             "#c51b7d"
            ],
            [
             0.2,
             "#de77ae"
            ],
            [
             0.3,
             "#f1b6da"
            ],
            [
             0.4,
             "#fde0ef"
            ],
            [
             0.5,
             "#f7f7f7"
            ],
            [
             0.6,
             "#e6f5d0"
            ],
            [
             0.7,
             "#b8e186"
            ],
            [
             0.8,
             "#7fbc41"
            ],
            [
             0.9,
             "#4d9221"
            ],
            [
             1,
             "#276419"
            ]
           ],
           "sequential": [
            [
             0,
             "#0d0887"
            ],
            [
             0.1111111111111111,
             "#46039f"
            ],
            [
             0.2222222222222222,
             "#7201a8"
            ],
            [
             0.3333333333333333,
             "#9c179e"
            ],
            [
             0.4444444444444444,
             "#bd3786"
            ],
            [
             0.5555555555555556,
             "#d8576b"
            ],
            [
             0.6666666666666666,
             "#ed7953"
            ],
            [
             0.7777777777777778,
             "#fb9f3a"
            ],
            [
             0.8888888888888888,
             "#fdca26"
            ],
            [
             1,
             "#f0f921"
            ]
           ],
           "sequentialminus": [
            [
             0,
             "#0d0887"
            ],
            [
             0.1111111111111111,
             "#46039f"
            ],
            [
             0.2222222222222222,
             "#7201a8"
            ],
            [
             0.3333333333333333,
             "#9c179e"
            ],
            [
             0.4444444444444444,
             "#bd3786"
            ],
            [
             0.5555555555555556,
             "#d8576b"
            ],
            [
             0.6666666666666666,
             "#ed7953"
            ],
            [
             0.7777777777777778,
             "#fb9f3a"
            ],
            [
             0.8888888888888888,
             "#fdca26"
            ],
            [
             1,
             "#f0f921"
            ]
           ]
          },
          "colorway": [
           "#636efa",
           "#EF553B",
           "#00cc96",
           "#ab63fa",
           "#FFA15A",
           "#19d3f3",
           "#FF6692",
           "#B6E880",
           "#FF97FF",
           "#FECB52"
          ],
          "font": {
           "color": "#2a3f5f"
          },
          "geo": {
           "bgcolor": "white",
           "lakecolor": "white",
           "landcolor": "#E5ECF6",
           "showlakes": true,
           "showland": true,
           "subunitcolor": "white"
          },
          "hoverlabel": {
           "align": "left"
          },
          "hovermode": "closest",
          "mapbox": {
           "style": "light"
          },
          "paper_bgcolor": "white",
          "plot_bgcolor": "#E5ECF6",
          "polar": {
           "angularaxis": {
            "gridcolor": "white",
            "linecolor": "white",
            "ticks": ""
           },
           "bgcolor": "#E5ECF6",
           "radialaxis": {
            "gridcolor": "white",
            "linecolor": "white",
            "ticks": ""
           }
          },
          "scene": {
           "xaxis": {
            "backgroundcolor": "#E5ECF6",
            "gridcolor": "white",
            "gridwidth": 2,
            "linecolor": "white",
            "showbackground": true,
            "ticks": "",
            "zerolinecolor": "white"
           },
           "yaxis": {
            "backgroundcolor": "#E5ECF6",
            "gridcolor": "white",
            "gridwidth": 2,
            "linecolor": "white",
            "showbackground": true,
            "ticks": "",
            "zerolinecolor": "white"
           },
           "zaxis": {
            "backgroundcolor": "#E5ECF6",
            "gridcolor": "white",
            "gridwidth": 2,
            "linecolor": "white",
            "showbackground": true,
            "ticks": "",
            "zerolinecolor": "white"
           }
          },
          "shapedefaults": {
           "line": {
            "color": "#2a3f5f"
           }
          },
          "ternary": {
           "aaxis": {
            "gridcolor": "white",
            "linecolor": "white",
            "ticks": ""
           },
           "baxis": {
            "gridcolor": "white",
            "linecolor": "white",
            "ticks": ""
           },
           "bgcolor": "#E5ECF6",
           "caxis": {
            "gridcolor": "white",
            "linecolor": "white",
            "ticks": ""
           }
          },
          "title": {
           "x": 0.05
          },
          "xaxis": {
           "automargin": true,
           "gridcolor": "white",
           "linecolor": "white",
           "ticks": "",
           "title": {
            "standoff": 15
           },
           "zerolinecolor": "white",
           "zerolinewidth": 2
          },
          "yaxis": {
           "automargin": true,
           "gridcolor": "white",
           "linecolor": "white",
           "ticks": "",
           "title": {
            "standoff": 15
           },
           "zerolinecolor": "white",
           "zerolinewidth": 2
          }
         }
        },
        "xaxis": {
         "anchor": "y",
         "autorange": true,
         "domain": [
          0,
          1
         ],
         "range": [
          -0.5,
          6.5
         ],
         "title": {
          "text": "Altersgruppe"
         },
         "type": "category"
        },
        "yaxis": {
         "anchor": "x",
         "autorange": true,
         "domain": [
          0,
          1
         ],
         "range": [
          0,
          1165066.3157894737
         ],
         "title": {
          "text": "value"
         },
         "type": "linear"
        }
       }
      },
      "image/png": "[encoded data removed]",
      "text/html": [
       "<div>                            <div id=\"77b25fe7-081a-434b-8ebb-a476fae9fbef\" class=\"plotly-graph-div\" style=\"height:525px; width:100%;\"></div>            <script type=\"text/javascript\">                require([\"plotly\"], function(Plotly) {                    window.PLOTLYENV=window.PLOTLYENV || {};                                    if (document.getElementById(\"77b25fe7-081a-434b-8ebb-a476fae9fbef\")) {                    Plotly.newPlot(                        \"77b25fe7-081a-434b-8ebb-a476fae9fbef\",                        [{\"alignmentgroup\":\"True\",\"hovertemplate\":\"variable=AnzahlFall<br>Altersgruppe=%{x}<br>value=%{y}<extra></extra>\",\"legendgroup\":\"AnzahlFall\",\"marker\":{\"color\":\"#636efa\",\"pattern\":{\"shape\":\"\"}},\"name\":\"AnzahlFall\",\"offsetgroup\":\"AnzahlFall\",\"orientation\":\"v\",\"showlegend\":true,\"textposition\":\"auto\",\"x\":[\"A00-A04\",\"A05-A14\",\"A15-A34\",\"A35-A59\",\"A60-A79\",\"A80+\",\"unbekannt\"],\"xaxis\":\"x\",\"y\":[64083,180260,840054,1106813,440373,265795,3287],\"yaxis\":\"y\",\"type\":\"bar\"}],                        {\"template\":{\"data\":{\"histogram2dcontour\":[{\"type\":\"histogram2dcontour\",\"colorbar\":{\"outlinewidth\":0,\"ticks\":\"\"},\"colorscale\":[[0.0,\"#0d0887\"],[0.1111111111111111,\"#46039f\"],[0.2222222222222222,\"#7201a8\"],[0.3333333333333333,\"#9c179e\"],[0.4444444444444444,\"#bd3786\"],[0.5555555555555556,\"#d8576b\"],[0.6666666666666666,\"#ed7953\"],[0.7777777777777778,\"#fb9f3a\"],[0.8888888888888888,\"#fdca26\"],[1.0,\"#f0f921\"]]}],\"choropleth\":[{\"type\":\"choropleth\",\"colorbar\":{\"outlinewidth\":0,\"ticks\":\"\"}}],\"histogram2d\":[{\"type\":\"histogram2d\",\"colorbar\":{\"outlinewidth\":0,\"ticks\":\"\"},\"colorscale\":[[0.0,\"#0d0887\"],[0.1111111111111111,\"#46039f\"],[0.2222222222222222,\"#7201a8\"],[0.3333333333333333,\"#9c179e\"],[0.4444444444444444,\"#bd3786\"],[0.5555555555555556,\"#d8576b\"],[0.6666666666666666,\"#ed7953\"],[0.7777777777777778,\"#fb9f3a\"],[0.8888888888888888,\"#fdca26\"],[1.0,\"#f0f921\"]]}],\"heatmap\":[{\"type\":\"heatmap\",\"colorbar\":{\"outlinewidth\":0,\"ticks\":\"\"},\"colorscale\":[[0.0,\"#0d0887\"],[0.1111111111111111,\"#46039f\"],[0.2222222222222222,\"#7201a8\"],[0.3333333333333333,\"#9c179e\"],[0.4444444444444444,\"#bd3786\"],[0.5555555555555556,\"#d8576b\"],[0.6666666666666666,\"#ed7953\"],[0.7777777777777778,\"#fb9f3a\"],[0.8888888888888888,\"#fdca26\"],[1.0,\"#f0f921\"]]}],\"heatmapgl\":[{\"type\":\"heatmapgl\",\"colorbar\":{\"outlinewidth\":0,\"ticks\":\"\"},\"colorscale\":[[0.0,\"#0d0887\"],[0.1111111111111111,\"#46039f\"],[0.2222222222222222,\"#7201a8\"],[0.3333333333333333,\"#9c179e\"],[0.4444444444444444,\"#bd3786\"],[0.5555555555555556,\"#d8576b\"],[0.6666666666666666,\"#ed7953\"],[0.7777777777777778,\"#fb9f3a\"],[0.8888888888888888,\"#fdca26\"],[1.0,\"#f0f921\"]]}],\"contourcarpet\":[{\"type\":\"contourcarpet\",\"colorbar\":{\"outlinewidth\":0,\"ticks\":\"\"}}],\"contour\":[{\"type\":\"contour\",\"colorbar\":{\"outlinewidth\":0,\"ticks\":\"\"},\"colorscale\":[[0.0,\"#0d0887\"],[0.1111111111111111,\"#46039f\"],[0.2222222222222222,\"#7201a8\"],[0.3333333333333333,\"#9c179e\"],[0.4444444444444444,\"#bd3786\"],[0.5555555555555556,\"#d8576b\"],[0.6666666666666666,\"#ed7953\"],[0.7777777777777778,\"#fb9f3a\"],[0.8888888888888888,\"#fdca26\"],[1.0,\"#f0f921\"]]}],\"surface\":[{\"type\":\"surface\",\"colorbar\":{\"outlinewidth\":0,\"ticks\":\"\"},\"colorscale\":[[0.0,\"#0d0887\"],[0.1111111111111111,\"#46039f\"],[0.2222222222222222,\"#7201a8\"],[0.3333333333333333,\"#9c179e\"],[0.4444444444444444,\"#bd3786\"],[0.5555555555555556,\"#d8576b\"],[0.6666666666666666,\"#ed7953\"],[0.7777777777777778,\"#fb9f3a\"],[0.8888888888888888,\"#fdca26\"],[1.0,\"#f0f921\"]]}],\"mesh3d\":[{\"type\":\"mesh3d\",\"colorbar\":{\"outlinewidth\":0,\"ticks\":\"\"}}],\"scatter\":[{\"fillpattern\":{\"fillmode\":\"overlay\",\"size\":10,\"solidity\":0.2},\"type\":\"scatter\"}],\"parcoords\":[{\"type\":\"parcoords\",\"line\":{\"colorbar\":{\"outlinewidth\":0,\"ticks\":\"\"}}}],\"scatterpolargl\":[{\"type\":\"scatterpolargl\",\"marker\":{\"colorbar\":{\"outlinewidth\":0,\"ticks\":\"\"}}}],\"bar\":[{\"error_x\":{\"color\":\"#2a3f5f\"},\"error_y\":{\"color\":\"#2a3f5f\"},\"marker\":{\"line\":{\"color\":\"#E5ECF6\",\"width\":0.5},\"pattern\":{\"fillmode\":\"overlay\",\"size\":10,\"solidity\":0.2}},\"type\":\"bar\"}],\"scattergeo\":[{\"type\":\"scattergeo\",\"marker\":{\"colorbar\":{\"outlinewidth\":0,\"ticks\":\"\"}}}],\"scatterpolar\":[{\"type\":\"scatterpolar\",\"marker\":{\"colorbar\":{\"outlinewidth\":0,\"ticks\":\"\"}}}],\"histogram\":[{\"marker\":{\"pattern\":{\"fillmode\":\"overlay\",\"size\":10,\"solidity\":0.2}},\"type\":\"histogram\"}],\"scattergl\":[{\"type\":\"scattergl\",\"marker\":{\"colorbar\":{\"outlinewidth\":0,\"ticks\":\"\"}}}],\"scatter3d\":[{\"type\":\"scatter3d\",\"line\":{\"colorbar\":{\"outlinewidth\":0,\"ticks\":\"\"}},\"marker\":{\"colorbar\":{\"outlinewidth\":0,\"ticks\":\"\"}}}],\"scattermapbox\":[{\"type\":\"scattermapbox\",\"marker\":{\"colorbar\":{\"outlinewidth\":0,\"ticks\":\"\"}}}],\"scatterternary\":[{\"type\":\"scatterternary\",\"marker\":{\"colorbar\":{\"outlinewidth\":0,\"ticks\":\"\"}}}],\"scattercarpet\":[{\"type\":\"scattercarpet\",\"marker\":{\"colorbar\":{\"outlinewidth\":0,\"ticks\":\"\"}}}],\"carpet\":[{\"aaxis\":{\"endlinecolor\":\"#2a3f5f\",\"gridcolor\":\"white\",\"linecolor\":\"white\",\"minorgridcolor\":\"white\",\"startlinecolor\":\"#2a3f5f\"},\"baxis\":{\"endlinecolor\":\"#2a3f5f\",\"gridcolor\":\"white\",\"linecolor\":\"white\",\"minorgridcolor\":\"white\",\"startlinecolor\":\"#2a3f5f\"},\"type\":\"carpet\"}],\"table\":[{\"cells\":{\"fill\":{\"color\":\"#EBF0F8\"},\"line\":{\"color\":\"white\"}},\"header\":{\"fill\":{\"color\":\"#C8D4E3\"},\"line\":{\"color\":\"white\"}},\"type\":\"table\"}],\"barpolar\":[{\"marker\":{\"line\":{\"color\":\"#E5ECF6\",\"width\":0.5},\"pattern\":{\"fillmode\":\"overlay\",\"size\":10,\"solidity\":0.2}},\"type\":\"barpolar\"}],\"pie\":[{\"automargin\":true,\"type\":\"pie\"}]},\"layout\":{\"autotypenumbers\":\"strict\",\"colorway\":[\"#636efa\",\"#EF553B\",\"#00cc96\",\"#ab63fa\",\"#FFA15A\",\"#19d3f3\",\"#FF6692\",\"#B6E880\",\"#FF97FF\",\"#FECB52\"],\"font\":{\"color\":\"#2a3f5f\"},\"hovermode\":\"closest\",\"hoverlabel\":{\"align\":\"left\"},\"paper_bgcolor\":\"white\",\"plot_bgcolor\":\"#E5ECF6\",\"polar\":{\"bgcolor\":\"#E5ECF6\",\"angularaxis\":{\"gridcolor\":\"white\",\"linecolor\":\"white\",\"ticks\":\"\"},\"radialaxis\":{\"gridcolor\":\"white\",\"linecolor\":\"white\",\"ticks\":\"\"}},\"ternary\":{\"bgcolor\":\"#E5ECF6\",\"aaxis\":{\"gridcolor\":\"white\",\"linecolor\":\"white\",\"ticks\":\"\"},\"baxis\":{\"gridcolor\":\"white\",\"linecolor\":\"white\",\"ticks\":\"\"},\"caxis\":{\"gridcolor\":\"white\",\"linecolor\":\"white\",\"ticks\":\"\"}},\"coloraxis\":{\"colorbar\":{\"outlinewidth\":0,\"ticks\":\"\"}},\"colorscale\":{\"sequential\":[[0.0,\"#0d0887\"],[0.1111111111111111,\"#46039f\"],[0.2222222222222222,\"#7201a8\"],[0.3333333333333333,\"#9c179e\"],[0.4444444444444444,\"#bd3786\"],[0.5555555555555556,\"#d8576b\"],[0.6666666666666666,\"#ed7953\"],[0.7777777777777778,\"#fb9f3a\"],[0.8888888888888888,\"#fdca26\"],[1.0,\"#f0f921\"]],\"sequentialminus\":[[0.0,\"#0d0887\"],[0.1111111111111111,\"#46039f\"],[0.2222222222222222,\"#7201a8\"],[0.3333333333333333,\"#9c179e\"],[0.4444444444444444,\"#bd3786\"],[0.5555555555555556,\"#d8576b\"],[0.6666666666666666,\"#ed7953\"],[0.7777777777777778,\"#fb9f3a\"],[0.8888888888888888,\"#fdca26\"],[1.0,\"#f0f921\"]],\"diverging\":[[0,\"#8e0152\"],[0.1,\"#c51b7d\"],[0.2,\"#de77ae\"],[0.3,\"#f1b6da\"],[0.4,\"#fde0ef\"],[0.5,\"#f7f7f7\"],[0.6,\"#e6f5d0\"],[0.7,\"#b8e186\"],[0.8,\"#7fbc41\"],[0.9,\"#4d9221\"],[1,\"#276419\"]]},\"xaxis\":{\"gridcolor\":\"white\",\"linecolor\":\"white\",\"ticks\":\"\",\"title\":{\"standoff\":15},\"zerolinecolor\":\"white\",\"automargin\":true,\"zerolinewidth\":2},\"yaxis\":{\"gridcolor\":\"white\",\"linecolor\":\"white\",\"ticks\":\"\",\"title\":{\"standoff\":15},\"zerolinecolor\":\"white\",\"automargin\":true,\"zerolinewidth\":2},\"scene\":{\"xaxis\":{\"backgroundcolor\":\"#E5ECF6\",\"gridcolor\":\"white\",\"linecolor\":\"white\",\"showbackground\":true,\"ticks\":\"\",\"zerolinecolor\":\"white\",\"gridwidth\":2},\"yaxis\":{\"backgroundcolor\":\"#E5ECF6\",\"gridcolor\":\"white\",\"linecolor\":\"white\",\"showbackground\":true,\"ticks\":\"\",\"zerolinecolor\":\"white\",\"gridwidth\":2},\"zaxis\":{\"backgroundcolor\":\"#E5ECF6\",\"gridcolor\":\"white\",\"linecolor\":\"white\",\"showbackground\":true,\"ticks\":\"\",\"zerolinecolor\":\"white\",\"gridwidth\":2}},\"shapedefaults\":{\"line\":{\"color\":\"#2a3f5f\"}},\"annotationdefaults\":{\"arrowcolor\":\"#2a3f5f\",\"arrowhead\":0,\"arrowwidth\":1},\"geo\":{\"bgcolor\":\"white\",\"landcolor\":\"#E5ECF6\",\"subunitcolor\":\"white\",\"showland\":true,\"showlakes\":true,\"lakecolor\":\"white\"},\"title\":{\"x\":0.05},\"mapbox\":{\"style\":\"light\"}}},\"xaxis\":{\"anchor\":\"y\",\"domain\":[0.0,1.0],\"title\":{\"text\":\"Altersgruppe\"}},\"yaxis\":{\"anchor\":\"x\",\"domain\":[0.0,1.0],\"title\":{\"text\":\"value\"}},\"legend\":{\"title\":{\"text\":\"variable\"},\"tracegroupgap\":0},\"margin\":{\"t\":60},\"barmode\":\"relative\"},                        {\"responsive\": true}                    ).then(function(){\n",
       "                            \n",
       "var gd = document.getElementById('77b25fe7-081a-434b-8ebb-a476fae9fbef');\n",
       "var x = new MutationObserver(function (mutations, observer) {{\n",
       "        var display = window.getComputedStyle(gd).display;\n",
       "        if (!display || display === 'none') {{\n",
       "            console.log([gd, 'removed!']);\n",
       "            Plotly.purge(gd);\n",
       "            observer.disconnect();\n",
       "        }}\n",
       "}});\n",
       "\n",
       "// Listen for the removal of the full notebook cells\n",
       "var notebookContainer = gd.closest('#notebook-container');\n",
       "if (notebookContainer) {{\n",
       "    x.observe(notebookContainer, {childList: true});\n",
       "}}\n",
       "\n",
       "// Listen for the clearing of the current output cell\n",
       "var outputEl = gd.closest('.output');\n",
       "if (outputEl) {{\n",
       "    x.observe(outputEl, {childList: true});\n",
       "}}\n",
       "\n",
       "                        })                };                });            </script>        </div>"
      ]
     },
     "metadata": {},
     "output_type": "display_data"
    }
   ],
   "source": [
    "px.bar(corona_tagesaktuell.groupby(\"Altersgruppe\").agg({\"AnzahlFall\":sum}))"
   ]
  },
  {
   "cell_type": "code",
   "execution_count": 29,
   "id": "d9b0f3bd",
   "metadata": {},
   "outputs": [],
   "source": [
    "corona_grouped = corona_tagesaktuell.groupby([\"IdLandkreis\",\"Landkreis\",\"Datenstand\"]).agg({\"AnzahlFall\":sum,\"AnzahlTodesfall\":sum,\"AnzahlGenesen\":sum}).reset_index()"
   ]
  },
  {
   "cell_type": "code",
   "execution_count": 30,
   "id": "450b5603",
   "metadata": {},
   "outputs": [
    {
     "data": {
      "text/html": [
       "<div>\n",
       "<style scoped>\n",
       "    .dataframe tbody tr th:only-of-type {\n",
       "        vertical-align: middle;\n",
       "    }\n",
       "\n",
       "    .dataframe tbody tr th {\n",
       "        vertical-align: top;\n",
       "    }\n",
       "\n",
       "    .dataframe thead th {\n",
       "        text-align: right;\n",
       "    }\n",
       "</style>\n",
       "<table border=\"1\" class=\"dataframe\">\n",
       "  <thead>\n",
       "    <tr style=\"text-align: right;\">\n",
       "      <th></th>\n",
       "      <th>IdLandkreis</th>\n",
       "      <th>Landkreis</th>\n",
       "      <th>Datenstand</th>\n",
       "      <th>AnzahlFall</th>\n",
       "      <th>AnzahlTodesfall</th>\n",
       "      <th>AnzahlGenesen</th>\n",
       "    </tr>\n",
       "  </thead>\n",
       "  <tbody>\n",
       "    <tr>\n",
       "      <th>0</th>\n",
       "      <td>1001</td>\n",
       "      <td>SK Flensburg</td>\n",
       "      <td>2021-04-06</td>\n",
       "      <td>2047</td>\n",
       "      <td>39</td>\n",
       "      <td>1860</td>\n",
       "    </tr>\n",
       "    <tr>\n",
       "      <th>1</th>\n",
       "      <td>1002</td>\n",
       "      <td>SK Kiel</td>\n",
       "      <td>2021-04-06</td>\n",
       "      <td>4041</td>\n",
       "      <td>92</td>\n",
       "      <td>3723</td>\n",
       "    </tr>\n",
       "    <tr>\n",
       "      <th>2</th>\n",
       "      <td>1003</td>\n",
       "      <td>SK Lübeck</td>\n",
       "      <td>2021-04-06</td>\n",
       "      <td>4852</td>\n",
       "      <td>89</td>\n",
       "      <td>4534</td>\n",
       "    </tr>\n",
       "    <tr>\n",
       "      <th>3</th>\n",
       "      <td>1004</td>\n",
       "      <td>SK Neumünster</td>\n",
       "      <td>2021-04-06</td>\n",
       "      <td>1462</td>\n",
       "      <td>22</td>\n",
       "      <td>1309</td>\n",
       "    </tr>\n",
       "    <tr>\n",
       "      <th>4</th>\n",
       "      <td>1051</td>\n",
       "      <td>LK Dithmarschen</td>\n",
       "      <td>2021-04-06</td>\n",
       "      <td>1546</td>\n",
       "      <td>42</td>\n",
       "      <td>1426</td>\n",
       "    </tr>\n",
       "    <tr>\n",
       "      <th>...</th>\n",
       "      <td>...</td>\n",
       "      <td>...</td>\n",
       "      <td>...</td>\n",
       "      <td>...</td>\n",
       "      <td>...</td>\n",
       "      <td>...</td>\n",
       "    </tr>\n",
       "    <tr>\n",
       "      <th>407</th>\n",
       "      <td>16073</td>\n",
       "      <td>LK Saalfeld-Rudolstadt</td>\n",
       "      <td>2021-04-06</td>\n",
       "      <td>5266</td>\n",
       "      <td>239</td>\n",
       "      <td>4724</td>\n",
       "    </tr>\n",
       "    <tr>\n",
       "      <th>408</th>\n",
       "      <td>16074</td>\n",
       "      <td>LK Saale-Holzland-Kreis</td>\n",
       "      <td>2021-04-06</td>\n",
       "      <td>3611</td>\n",
       "      <td>87</td>\n",
       "      <td>3202</td>\n",
       "    </tr>\n",
       "    <tr>\n",
       "      <th>409</th>\n",
       "      <td>16075</td>\n",
       "      <td>LK Saale-Orla-Kreis</td>\n",
       "      <td>2021-04-06</td>\n",
       "      <td>4944</td>\n",
       "      <td>120</td>\n",
       "      <td>4299</td>\n",
       "    </tr>\n",
       "    <tr>\n",
       "      <th>410</th>\n",
       "      <td>16076</td>\n",
       "      <td>LK Greiz</td>\n",
       "      <td>2021-04-06</td>\n",
       "      <td>6004</td>\n",
       "      <td>137</td>\n",
       "      <td>4181</td>\n",
       "    </tr>\n",
       "    <tr>\n",
       "      <th>411</th>\n",
       "      <td>16077</td>\n",
       "      <td>LK Altenburger Land</td>\n",
       "      <td>2021-04-06</td>\n",
       "      <td>5665</td>\n",
       "      <td>234</td>\n",
       "      <td>4677</td>\n",
       "    </tr>\n",
       "  </tbody>\n",
       "</table>\n",
       "<p>412 rows × 6 columns</p>\n",
       "</div>"
      ],
      "text/plain": [
       "     IdLandkreis                Landkreis Datenstand  AnzahlFall  \\\n",
       "0           1001             SK Flensburg 2021-04-06        2047   \n",
       "1           1002                  SK Kiel 2021-04-06        4041   \n",
       "2           1003                SK Lübeck 2021-04-06        4852   \n",
       "3           1004            SK Neumünster 2021-04-06        1462   \n",
       "4           1051          LK Dithmarschen 2021-04-06        1546   \n",
       "..           ...                      ...        ...         ...   \n",
       "407        16073   LK Saalfeld-Rudolstadt 2021-04-06        5266   \n",
       "408        16074  LK Saale-Holzland-Kreis 2021-04-06        3611   \n",
       "409        16075      LK Saale-Orla-Kreis 2021-04-06        4944   \n",
       "410        16076                 LK Greiz 2021-04-06        6004   \n",
       "411        16077      LK Altenburger Land 2021-04-06        5665   \n",
       "\n",
       "     AnzahlTodesfall  AnzahlGenesen  \n",
       "0                 39           1860  \n",
       "1                 92           3723  \n",
       "2                 89           4534  \n",
       "3                 22           1309  \n",
       "4                 42           1426  \n",
       "..               ...            ...  \n",
       "407              239           4724  \n",
       "408               87           3202  \n",
       "409              120           4299  \n",
       "410              137           4181  \n",
       "411              234           4677  \n",
       "\n",
       "[412 rows x 6 columns]"
      ]
     },
     "execution_count": 30,
     "metadata": {},
     "output_type": "execute_result"
    }
   ],
   "source": [
    "corona_grouped"
   ]
  },
  {
   "cell_type": "markdown",
   "id": "c33b272a",
   "metadata": {},
   "source": [
    "## Mergen beider Datasets"
   ]
  },
  {
   "cell_type": "code",
   "execution_count": 30,
   "id": "1321ce9e",
   "metadata": {},
   "outputs": [],
   "source": [
    "merged_data = pd.merge(corona_grouped, divi, left_on=\"IdLandkreis\", right_on=\"gemeindeschluessel\",how=\"inner\") ##nicht alle Landkreise in beiden Datasets vertreten, deshalb Differenz"
   ]
  },
  {
   "cell_type": "code",
   "execution_count": 31,
   "id": "dac7d05d",
   "metadata": {},
   "outputs": [
    {
     "data": {
      "text/html": [
       "<div>\n",
       "<style scoped>\n",
       "    .dataframe tbody tr th:only-of-type {\n",
       "        vertical-align: middle;\n",
       "    }\n",
       "\n",
       "    .dataframe tbody tr th {\n",
       "        vertical-align: top;\n",
       "    }\n",
       "\n",
       "    .dataframe thead th {\n",
       "        text-align: right;\n",
       "    }\n",
       "</style>\n",
       "<table border=\"1\" class=\"dataframe\">\n",
       "  <thead>\n",
       "    <tr style=\"text-align: right;\">\n",
       "      <th></th>\n",
       "      <th>IdLandkreis</th>\n",
       "      <th>Landkreis</th>\n",
       "      <th>Datenstand</th>\n",
       "      <th>AnzahlFall</th>\n",
       "      <th>AnzahlTodesfall</th>\n",
       "      <th>AnzahlGenesen</th>\n",
       "      <th>bundesland</th>\n",
       "      <th>gemeindeschluessel</th>\n",
       "      <th>anzahl_meldebereiche</th>\n",
       "      <th>faelle_covid_aktuell</th>\n",
       "      <th>faelle_covid_aktuell_invasiv_beatmet</th>\n",
       "      <th>anzahl_standorte</th>\n",
       "      <th>betten_frei</th>\n",
       "      <th>betten_belegt</th>\n",
       "      <th>daten_stand</th>\n",
       "      <th>betten_belegt_nur_erwachsen</th>\n",
       "      <th>betten_frei_nur_erwachsen</th>\n",
       "    </tr>\n",
       "  </thead>\n",
       "  <tbody>\n",
       "    <tr>\n",
       "      <th>0</th>\n",
       "      <td>1001</td>\n",
       "      <td>SK Flensburg</td>\n",
       "      <td>2021-04-06</td>\n",
       "      <td>2047</td>\n",
       "      <td>39</td>\n",
       "      <td>1860</td>\n",
       "      <td>1</td>\n",
       "      <td>1001</td>\n",
       "      <td>3</td>\n",
       "      <td>3</td>\n",
       "      <td>3</td>\n",
       "      <td>2</td>\n",
       "      <td>6</td>\n",
       "      <td>35</td>\n",
       "      <td>2021-04-06 12:15:00</td>\n",
       "      <td>35</td>\n",
       "      <td>0</td>\n",
       "    </tr>\n",
       "    <tr>\n",
       "      <th>1</th>\n",
       "      <td>1002</td>\n",
       "      <td>SK Kiel</td>\n",
       "      <td>2021-04-06</td>\n",
       "      <td>4041</td>\n",
       "      <td>92</td>\n",
       "      <td>3723</td>\n",
       "      <td>1</td>\n",
       "      <td>1002</td>\n",
       "      <td>5</td>\n",
       "      <td>6</td>\n",
       "      <td>5</td>\n",
       "      <td>3</td>\n",
       "      <td>52</td>\n",
       "      <td>112</td>\n",
       "      <td>2021-04-06 12:15:00</td>\n",
       "      <td>111</td>\n",
       "      <td>47</td>\n",
       "    </tr>\n",
       "    <tr>\n",
       "      <th>2</th>\n",
       "      <td>1003</td>\n",
       "      <td>SK Lübeck</td>\n",
       "      <td>2021-04-06</td>\n",
       "      <td>4852</td>\n",
       "      <td>89</td>\n",
       "      <td>4534</td>\n",
       "      <td>1</td>\n",
       "      <td>1003</td>\n",
       "      <td>2</td>\n",
       "      <td>6</td>\n",
       "      <td>2</td>\n",
       "      <td>2</td>\n",
       "      <td>32</td>\n",
       "      <td>103</td>\n",
       "      <td>2021-04-06 12:15:00</td>\n",
       "      <td>103</td>\n",
       "      <td>32</td>\n",
       "    </tr>\n",
       "    <tr>\n",
       "      <th>3</th>\n",
       "      <td>1004</td>\n",
       "      <td>SK Neumünster</td>\n",
       "      <td>2021-04-06</td>\n",
       "      <td>1462</td>\n",
       "      <td>22</td>\n",
       "      <td>1309</td>\n",
       "      <td>1</td>\n",
       "      <td>1004</td>\n",
       "      <td>1</td>\n",
       "      <td>0</td>\n",
       "      <td>0</td>\n",
       "      <td>1</td>\n",
       "      <td>5</td>\n",
       "      <td>20</td>\n",
       "      <td>2021-04-06 12:15:00</td>\n",
       "      <td>20</td>\n",
       "      <td>5</td>\n",
       "    </tr>\n",
       "    <tr>\n",
       "      <th>4</th>\n",
       "      <td>1051</td>\n",
       "      <td>LK Dithmarschen</td>\n",
       "      <td>2021-04-06</td>\n",
       "      <td>1546</td>\n",
       "      <td>42</td>\n",
       "      <td>1426</td>\n",
       "      <td>1</td>\n",
       "      <td>1051</td>\n",
       "      <td>1</td>\n",
       "      <td>0</td>\n",
       "      <td>0</td>\n",
       "      <td>1</td>\n",
       "      <td>1</td>\n",
       "      <td>37</td>\n",
       "      <td>2021-04-06 12:15:00</td>\n",
       "      <td>37</td>\n",
       "      <td>1</td>\n",
       "    </tr>\n",
       "    <tr>\n",
       "      <th>...</th>\n",
       "      <td>...</td>\n",
       "      <td>...</td>\n",
       "      <td>...</td>\n",
       "      <td>...</td>\n",
       "      <td>...</td>\n",
       "      <td>...</td>\n",
       "      <td>...</td>\n",
       "      <td>...</td>\n",
       "      <td>...</td>\n",
       "      <td>...</td>\n",
       "      <td>...</td>\n",
       "      <td>...</td>\n",
       "      <td>...</td>\n",
       "      <td>...</td>\n",
       "      <td>...</td>\n",
       "      <td>...</td>\n",
       "      <td>...</td>\n",
       "    </tr>\n",
       "    <tr>\n",
       "      <th>391</th>\n",
       "      <td>16073</td>\n",
       "      <td>LK Saalfeld-Rudolstadt</td>\n",
       "      <td>2021-04-06</td>\n",
       "      <td>5266</td>\n",
       "      <td>239</td>\n",
       "      <td>4724</td>\n",
       "      <td>16</td>\n",
       "      <td>16073</td>\n",
       "      <td>1</td>\n",
       "      <td>11</td>\n",
       "      <td>8</td>\n",
       "      <td>1</td>\n",
       "      <td>3</td>\n",
       "      <td>18</td>\n",
       "      <td>2021-04-06 12:15:00</td>\n",
       "      <td>18</td>\n",
       "      <td>3</td>\n",
       "    </tr>\n",
       "    <tr>\n",
       "      <th>392</th>\n",
       "      <td>16074</td>\n",
       "      <td>LK Saale-Holzland-Kreis</td>\n",
       "      <td>2021-04-06</td>\n",
       "      <td>3611</td>\n",
       "      <td>87</td>\n",
       "      <td>3202</td>\n",
       "      <td>16</td>\n",
       "      <td>16074</td>\n",
       "      <td>1</td>\n",
       "      <td>1</td>\n",
       "      <td>1</td>\n",
       "      <td>1</td>\n",
       "      <td>0</td>\n",
       "      <td>5</td>\n",
       "      <td>2021-04-06 12:15:00</td>\n",
       "      <td>5</td>\n",
       "      <td>0</td>\n",
       "    </tr>\n",
       "    <tr>\n",
       "      <th>393</th>\n",
       "      <td>16075</td>\n",
       "      <td>LK Saale-Orla-Kreis</td>\n",
       "      <td>2021-04-06</td>\n",
       "      <td>4944</td>\n",
       "      <td>120</td>\n",
       "      <td>4299</td>\n",
       "      <td>16</td>\n",
       "      <td>16075</td>\n",
       "      <td>1</td>\n",
       "      <td>4</td>\n",
       "      <td>4</td>\n",
       "      <td>1</td>\n",
       "      <td>0</td>\n",
       "      <td>5</td>\n",
       "      <td>2021-04-06 12:15:00</td>\n",
       "      <td>5</td>\n",
       "      <td>0</td>\n",
       "    </tr>\n",
       "    <tr>\n",
       "      <th>394</th>\n",
       "      <td>16076</td>\n",
       "      <td>LK Greiz</td>\n",
       "      <td>2021-04-06</td>\n",
       "      <td>6004</td>\n",
       "      <td>137</td>\n",
       "      <td>4181</td>\n",
       "      <td>16</td>\n",
       "      <td>16076</td>\n",
       "      <td>1</td>\n",
       "      <td>6</td>\n",
       "      <td>6</td>\n",
       "      <td>1</td>\n",
       "      <td>1</td>\n",
       "      <td>9</td>\n",
       "      <td>2021-04-06 12:15:00</td>\n",
       "      <td>9</td>\n",
       "      <td>1</td>\n",
       "    </tr>\n",
       "    <tr>\n",
       "      <th>395</th>\n",
       "      <td>16077</td>\n",
       "      <td>LK Altenburger Land</td>\n",
       "      <td>2021-04-06</td>\n",
       "      <td>5665</td>\n",
       "      <td>234</td>\n",
       "      <td>4677</td>\n",
       "      <td>16</td>\n",
       "      <td>16077</td>\n",
       "      <td>2</td>\n",
       "      <td>8</td>\n",
       "      <td>4</td>\n",
       "      <td>1</td>\n",
       "      <td>0</td>\n",
       "      <td>29</td>\n",
       "      <td>2021-04-06 12:15:00</td>\n",
       "      <td>28</td>\n",
       "      <td>0</td>\n",
       "    </tr>\n",
       "  </tbody>\n",
       "</table>\n",
       "<p>396 rows × 17 columns</p>\n",
       "</div>"
      ],
      "text/plain": [
       "     IdLandkreis                Landkreis Datenstand  AnzahlFall  \\\n",
       "0           1001             SK Flensburg 2021-04-06        2047   \n",
       "1           1002                  SK Kiel 2021-04-06        4041   \n",
       "2           1003                SK Lübeck 2021-04-06        4852   \n",
       "3           1004            SK Neumünster 2021-04-06        1462   \n",
       "4           1051          LK Dithmarschen 2021-04-06        1546   \n",
       "..           ...                      ...        ...         ...   \n",
       "391        16073   LK Saalfeld-Rudolstadt 2021-04-06        5266   \n",
       "392        16074  LK Saale-Holzland-Kreis 2021-04-06        3611   \n",
       "393        16075      LK Saale-Orla-Kreis 2021-04-06        4944   \n",
       "394        16076                 LK Greiz 2021-04-06        6004   \n",
       "395        16077      LK Altenburger Land 2021-04-06        5665   \n",
       "\n",
       "     AnzahlTodesfall  AnzahlGenesen  bundesland  gemeindeschluessel  \\\n",
       "0                 39           1860           1                1001   \n",
       "1                 92           3723           1                1002   \n",
       "2                 89           4534           1                1003   \n",
       "3                 22           1309           1                1004   \n",
       "4                 42           1426           1                1051   \n",
       "..               ...            ...         ...                 ...   \n",
       "391              239           4724          16               16073   \n",
       "392               87           3202          16               16074   \n",
       "393              120           4299          16               16075   \n",
       "394              137           4181          16               16076   \n",
       "395              234           4677          16               16077   \n",
       "\n",
       "     anzahl_meldebereiche  faelle_covid_aktuell  \\\n",
       "0                       3                     3   \n",
       "1                       5                     6   \n",
       "2                       2                     6   \n",
       "3                       1                     0   \n",
       "4                       1                     0   \n",
       "..                    ...                   ...   \n",
       "391                     1                    11   \n",
       "392                     1                     1   \n",
       "393                     1                     4   \n",
       "394                     1                     6   \n",
       "395                     2                     8   \n",
       "\n",
       "     faelle_covid_aktuell_invasiv_beatmet  anzahl_standorte  betten_frei  \\\n",
       "0                                       3                 2            6   \n",
       "1                                       5                 3           52   \n",
       "2                                       2                 2           32   \n",
       "3                                       0                 1            5   \n",
       "4                                       0                 1            1   \n",
       "..                                    ...               ...          ...   \n",
       "391                                     8                 1            3   \n",
       "392                                     1                 1            0   \n",
       "393                                     4                 1            0   \n",
       "394                                     6                 1            1   \n",
       "395                                     4                 1            0   \n",
       "\n",
       "     betten_belegt         daten_stand  betten_belegt_nur_erwachsen  \\\n",
       "0               35 2021-04-06 12:15:00                           35   \n",
       "1              112 2021-04-06 12:15:00                          111   \n",
       "2              103 2021-04-06 12:15:00                          103   \n",
       "3               20 2021-04-06 12:15:00                           20   \n",
       "4               37 2021-04-06 12:15:00                           37   \n",
       "..             ...                 ...                          ...   \n",
       "391             18 2021-04-06 12:15:00                           18   \n",
       "392              5 2021-04-06 12:15:00                            5   \n",
       "393              5 2021-04-06 12:15:00                            5   \n",
       "394              9 2021-04-06 12:15:00                            9   \n",
       "395             29 2021-04-06 12:15:00                           28   \n",
       "\n",
       "     betten_frei_nur_erwachsen  \n",
       "0                            0  \n",
       "1                           47  \n",
       "2                           32  \n",
       "3                            5  \n",
       "4                            1  \n",
       "..                         ...  \n",
       "391                          3  \n",
       "392                          0  \n",
       "393                          0  \n",
       "394                          1  \n",
       "395                          0  \n",
       "\n",
       "[396 rows x 17 columns]"
      ]
     },
     "execution_count": 31,
     "metadata": {},
     "output_type": "execute_result"
    }
   ],
   "source": [
    "merged_data"
   ]
  },
  {
   "cell_type": "markdown",
   "id": "3637657e",
   "metadata": {},
   "source": [
    "### Schreiben der Ergebnisse in die SQL-Datenbank"
   ]
  },
  {
   "cell_type": "code",
   "execution_count": 37,
   "id": "c0df0c66-275e-4b1f-b103-f085fc155500",
   "metadata": {},
   "outputs": [
    {
     "name": "stdout",
     "output_type": "stream",
     "text": [
      "<class 'pandas.core.frame.DataFrame'>\n",
      "RangeIndex: 396 entries, 0 to 395\n",
      "Data columns (total 18 columns):\n",
      " #   Column                                Non-Null Count  Dtype         \n",
      "---  ------                                --------------  -----         \n",
      " 0   index                                 396 non-null    int64         \n",
      " 1   IdLandkreis                           396 non-null    int64         \n",
      " 2   Landkreis                             396 non-null    object        \n",
      " 3   Datenstand                            396 non-null    datetime64[ns]\n",
      " 4   AnzahlFall                            396 non-null    int64         \n",
      " 5   AnzahlTodesfall                       396 non-null    int64         \n",
      " 6   AnzahlGenesen                         396 non-null    int64         \n",
      " 7   bundesland                            396 non-null    int64         \n",
      " 8   gemeindeschluessel                    396 non-null    int64         \n",
      " 9   anzahl_meldebereiche                  396 non-null    int64         \n",
      " 10  faelle_covid_aktuell                  396 non-null    int64         \n",
      " 11  faelle_covid_aktuell_invasiv_beatmet  396 non-null    int64         \n",
      " 12  anzahl_standorte                      396 non-null    int64         \n",
      " 13  betten_frei                           396 non-null    int64         \n",
      " 14  betten_belegt                         396 non-null    int64         \n",
      " 15  daten_stand                           396 non-null    datetime64[ns]\n",
      " 16  betten_belegt_nur_erwachsen           396 non-null    int64         \n",
      " 17  betten_frei_nur_erwachsen             396 non-null    int64         \n",
      "dtypes: datetime64[ns](2), int64(15), object(1)\n",
      "memory usage: 55.8+ KB\n"
     ]
    }
   ],
   "source": [
    "df.info()"
   ]
  },
  {
   "cell_type": "code",
   "execution_count": 36,
   "id": "ad2e5feb",
   "metadata": {},
   "outputs": [
    {
     "data": {
      "text/plain": [
       "396"
      ]
     },
     "execution_count": 36,
     "metadata": {},
     "output_type": "execute_result"
    }
   ],
   "source": [
    "merged_data.to_sql(\"corona_daten\",con=engine,schema=\"public\",if_exists=\"replace\")"
   ]
  },
  {
   "cell_type": "markdown",
   "id": "12c8d349",
   "metadata": {},
   "source": [
    "### Daten aus Datenbank einlesen"
   ]
  },
  {
   "cell_type": "code",
   "execution_count": 37,
   "id": "13f4b4ee-199c-4e47-b97a-8c294470f727",
   "metadata": {},
   "outputs": [],
   "source": [
    "with engine.connect() as conn, conn.begin():  \n",
    "    df = pd.read_sql_table(\"corona_daten\", conn)"
   ]
  },
  {
   "cell_type": "code",
   "execution_count": 38,
   "id": "0ae6259c-bf44-4a8f-a3e8-d0ccebaa798f",
   "metadata": {},
   "outputs": [
    {
     "data": {
      "text/html": [
       "<div>\n",
       "<style scoped>\n",
       "    .dataframe tbody tr th:only-of-type {\n",
       "        vertical-align: middle;\n",
       "    }\n",
       "\n",
       "    .dataframe tbody tr th {\n",
       "        vertical-align: top;\n",
       "    }\n",
       "\n",
       "    .dataframe thead th {\n",
       "        text-align: right;\n",
       "    }\n",
       "</style>\n",
       "<table border=\"1\" class=\"dataframe\">\n",
       "  <thead>\n",
       "    <tr style=\"text-align: right;\">\n",
       "      <th></th>\n",
       "      <th>index</th>\n",
       "      <th>IdLandkreis</th>\n",
       "      <th>Landkreis</th>\n",
       "      <th>Datenstand</th>\n",
       "      <th>AnzahlFall</th>\n",
       "      <th>AnzahlTodesfall</th>\n",
       "      <th>AnzahlGenesen</th>\n",
       "      <th>bundesland</th>\n",
       "      <th>gemeindeschluessel</th>\n",
       "      <th>anzahl_meldebereiche</th>\n",
       "      <th>faelle_covid_aktuell</th>\n",
       "      <th>faelle_covid_aktuell_invasiv_beatmet</th>\n",
       "      <th>anzahl_standorte</th>\n",
       "      <th>betten_frei</th>\n",
       "      <th>betten_belegt</th>\n",
       "      <th>daten_stand</th>\n",
       "      <th>betten_belegt_nur_erwachsen</th>\n",
       "      <th>betten_frei_nur_erwachsen</th>\n",
       "    </tr>\n",
       "  </thead>\n",
       "  <tbody>\n",
       "    <tr>\n",
       "      <th>0</th>\n",
       "      <td>0</td>\n",
       "      <td>1001</td>\n",
       "      <td>SK Flensburg</td>\n",
       "      <td>2021-04-06</td>\n",
       "      <td>2047</td>\n",
       "      <td>39</td>\n",
       "      <td>1860</td>\n",
       "      <td>1</td>\n",
       "      <td>1001</td>\n",
       "      <td>3</td>\n",
       "      <td>3</td>\n",
       "      <td>3</td>\n",
       "      <td>2</td>\n",
       "      <td>6</td>\n",
       "      <td>35</td>\n",
       "      <td>2021-04-06 12:15:00</td>\n",
       "      <td>35</td>\n",
       "      <td>0</td>\n",
       "    </tr>\n",
       "    <tr>\n",
       "      <th>1</th>\n",
       "      <td>1</td>\n",
       "      <td>1002</td>\n",
       "      <td>SK Kiel</td>\n",
       "      <td>2021-04-06</td>\n",
       "      <td>4041</td>\n",
       "      <td>92</td>\n",
       "      <td>3723</td>\n",
       "      <td>1</td>\n",
       "      <td>1002</td>\n",
       "      <td>5</td>\n",
       "      <td>6</td>\n",
       "      <td>5</td>\n",
       "      <td>3</td>\n",
       "      <td>52</td>\n",
       "      <td>112</td>\n",
       "      <td>2021-04-06 12:15:00</td>\n",
       "      <td>111</td>\n",
       "      <td>47</td>\n",
       "    </tr>\n",
       "    <tr>\n",
       "      <th>2</th>\n",
       "      <td>2</td>\n",
       "      <td>1003</td>\n",
       "      <td>SK Lübeck</td>\n",
       "      <td>2021-04-06</td>\n",
       "      <td>4852</td>\n",
       "      <td>89</td>\n",
       "      <td>4534</td>\n",
       "      <td>1</td>\n",
       "      <td>1003</td>\n",
       "      <td>2</td>\n",
       "      <td>6</td>\n",
       "      <td>2</td>\n",
       "      <td>2</td>\n",
       "      <td>32</td>\n",
       "      <td>103</td>\n",
       "      <td>2021-04-06 12:15:00</td>\n",
       "      <td>103</td>\n",
       "      <td>32</td>\n",
       "    </tr>\n",
       "    <tr>\n",
       "      <th>3</th>\n",
       "      <td>3</td>\n",
       "      <td>1004</td>\n",
       "      <td>SK Neumünster</td>\n",
       "      <td>2021-04-06</td>\n",
       "      <td>1462</td>\n",
       "      <td>22</td>\n",
       "      <td>1309</td>\n",
       "      <td>1</td>\n",
       "      <td>1004</td>\n",
       "      <td>1</td>\n",
       "      <td>0</td>\n",
       "      <td>0</td>\n",
       "      <td>1</td>\n",
       "      <td>5</td>\n",
       "      <td>20</td>\n",
       "      <td>2021-04-06 12:15:00</td>\n",
       "      <td>20</td>\n",
       "      <td>5</td>\n",
       "    </tr>\n",
       "    <tr>\n",
       "      <th>4</th>\n",
       "      <td>4</td>\n",
       "      <td>1051</td>\n",
       "      <td>LK Dithmarschen</td>\n",
       "      <td>2021-04-06</td>\n",
       "      <td>1546</td>\n",
       "      <td>42</td>\n",
       "      <td>1426</td>\n",
       "      <td>1</td>\n",
       "      <td>1051</td>\n",
       "      <td>1</td>\n",
       "      <td>0</td>\n",
       "      <td>0</td>\n",
       "      <td>1</td>\n",
       "      <td>1</td>\n",
       "      <td>37</td>\n",
       "      <td>2021-04-06 12:15:00</td>\n",
       "      <td>37</td>\n",
       "      <td>1</td>\n",
       "    </tr>\n",
       "    <tr>\n",
       "      <th>...</th>\n",
       "      <td>...</td>\n",
       "      <td>...</td>\n",
       "      <td>...</td>\n",
       "      <td>...</td>\n",
       "      <td>...</td>\n",
       "      <td>...</td>\n",
       "      <td>...</td>\n",
       "      <td>...</td>\n",
       "      <td>...</td>\n",
       "      <td>...</td>\n",
       "      <td>...</td>\n",
       "      <td>...</td>\n",
       "      <td>...</td>\n",
       "      <td>...</td>\n",
       "      <td>...</td>\n",
       "      <td>...</td>\n",
       "      <td>...</td>\n",
       "      <td>...</td>\n",
       "    </tr>\n",
       "    <tr>\n",
       "      <th>391</th>\n",
       "      <td>391</td>\n",
       "      <td>16073</td>\n",
       "      <td>LK Saalfeld-Rudolstadt</td>\n",
       "      <td>2021-04-06</td>\n",
       "      <td>5266</td>\n",
       "      <td>239</td>\n",
       "      <td>4724</td>\n",
       "      <td>16</td>\n",
       "      <td>16073</td>\n",
       "      <td>1</td>\n",
       "      <td>11</td>\n",
       "      <td>8</td>\n",
       "      <td>1</td>\n",
       "      <td>3</td>\n",
       "      <td>18</td>\n",
       "      <td>2021-04-06 12:15:00</td>\n",
       "      <td>18</td>\n",
       "      <td>3</td>\n",
       "    </tr>\n",
       "    <tr>\n",
       "      <th>392</th>\n",
       "      <td>392</td>\n",
       "      <td>16074</td>\n",
       "      <td>LK Saale-Holzland-Kreis</td>\n",
       "      <td>2021-04-06</td>\n",
       "      <td>3611</td>\n",
       "      <td>87</td>\n",
       "      <td>3202</td>\n",
       "      <td>16</td>\n",
       "      <td>16074</td>\n",
       "      <td>1</td>\n",
       "      <td>1</td>\n",
       "      <td>1</td>\n",
       "      <td>1</td>\n",
       "      <td>0</td>\n",
       "      <td>5</td>\n",
       "      <td>2021-04-06 12:15:00</td>\n",
       "      <td>5</td>\n",
       "      <td>0</td>\n",
       "    </tr>\n",
       "    <tr>\n",
       "      <th>393</th>\n",
       "      <td>393</td>\n",
       "      <td>16075</td>\n",
       "      <td>LK Saale-Orla-Kreis</td>\n",
       "      <td>2021-04-06</td>\n",
       "      <td>4944</td>\n",
       "      <td>120</td>\n",
       "      <td>4299</td>\n",
       "      <td>16</td>\n",
       "      <td>16075</td>\n",
       "      <td>1</td>\n",
       "      <td>4</td>\n",
       "      <td>4</td>\n",
       "      <td>1</td>\n",
       "      <td>0</td>\n",
       "      <td>5</td>\n",
       "      <td>2021-04-06 12:15:00</td>\n",
       "      <td>5</td>\n",
       "      <td>0</td>\n",
       "    </tr>\n",
       "    <tr>\n",
       "      <th>394</th>\n",
       "      <td>394</td>\n",
       "      <td>16076</td>\n",
       "      <td>LK Greiz</td>\n",
       "      <td>2021-04-06</td>\n",
       "      <td>6004</td>\n",
       "      <td>137</td>\n",
       "      <td>4181</td>\n",
       "      <td>16</td>\n",
       "      <td>16076</td>\n",
       "      <td>1</td>\n",
       "      <td>6</td>\n",
       "      <td>6</td>\n",
       "      <td>1</td>\n",
       "      <td>1</td>\n",
       "      <td>9</td>\n",
       "      <td>2021-04-06 12:15:00</td>\n",
       "      <td>9</td>\n",
       "      <td>1</td>\n",
       "    </tr>\n",
       "    <tr>\n",
       "      <th>395</th>\n",
       "      <td>395</td>\n",
       "      <td>16077</td>\n",
       "      <td>LK Altenburger Land</td>\n",
       "      <td>2021-04-06</td>\n",
       "      <td>5665</td>\n",
       "      <td>234</td>\n",
       "      <td>4677</td>\n",
       "      <td>16</td>\n",
       "      <td>16077</td>\n",
       "      <td>2</td>\n",
       "      <td>8</td>\n",
       "      <td>4</td>\n",
       "      <td>1</td>\n",
       "      <td>0</td>\n",
       "      <td>29</td>\n",
       "      <td>2021-04-06 12:15:00</td>\n",
       "      <td>28</td>\n",
       "      <td>0</td>\n",
       "    </tr>\n",
       "  </tbody>\n",
       "</table>\n",
       "<p>396 rows × 18 columns</p>\n",
       "</div>"
      ],
      "text/plain": [
       "     index  IdLandkreis                Landkreis Datenstand  AnzahlFall  \\\n",
       "0        0         1001             SK Flensburg 2021-04-06        2047   \n",
       "1        1         1002                  SK Kiel 2021-04-06        4041   \n",
       "2        2         1003                SK Lübeck 2021-04-06        4852   \n",
       "3        3         1004            SK Neumünster 2021-04-06        1462   \n",
       "4        4         1051          LK Dithmarschen 2021-04-06        1546   \n",
       "..     ...          ...                      ...        ...         ...   \n",
       "391    391        16073   LK Saalfeld-Rudolstadt 2021-04-06        5266   \n",
       "392    392        16074  LK Saale-Holzland-Kreis 2021-04-06        3611   \n",
       "393    393        16075      LK Saale-Orla-Kreis 2021-04-06        4944   \n",
       "394    394        16076                 LK Greiz 2021-04-06        6004   \n",
       "395    395        16077      LK Altenburger Land 2021-04-06        5665   \n",
       "\n",
       "     AnzahlTodesfall  AnzahlGenesen  bundesland  gemeindeschluessel  \\\n",
       "0                 39           1860           1                1001   \n",
       "1                 92           3723           1                1002   \n",
       "2                 89           4534           1                1003   \n",
       "3                 22           1309           1                1004   \n",
       "4                 42           1426           1                1051   \n",
       "..               ...            ...         ...                 ...   \n",
       "391              239           4724          16               16073   \n",
       "392               87           3202          16               16074   \n",
       "393              120           4299          16               16075   \n",
       "394              137           4181          16               16076   \n",
       "395              234           4677          16               16077   \n",
       "\n",
       "     anzahl_meldebereiche  faelle_covid_aktuell  \\\n",
       "0                       3                     3   \n",
       "1                       5                     6   \n",
       "2                       2                     6   \n",
       "3                       1                     0   \n",
       "4                       1                     0   \n",
       "..                    ...                   ...   \n",
       "391                     1                    11   \n",
       "392                     1                     1   \n",
       "393                     1                     4   \n",
       "394                     1                     6   \n",
       "395                     2                     8   \n",
       "\n",
       "     faelle_covid_aktuell_invasiv_beatmet  anzahl_standorte  betten_frei  \\\n",
       "0                                       3                 2            6   \n",
       "1                                       5                 3           52   \n",
       "2                                       2                 2           32   \n",
       "3                                       0                 1            5   \n",
       "4                                       0                 1            1   \n",
       "..                                    ...               ...          ...   \n",
       "391                                     8                 1            3   \n",
       "392                                     1                 1            0   \n",
       "393                                     4                 1            0   \n",
       "394                                     6                 1            1   \n",
       "395                                     4                 1            0   \n",
       "\n",
       "     betten_belegt         daten_stand  betten_belegt_nur_erwachsen  \\\n",
       "0               35 2021-04-06 12:15:00                           35   \n",
       "1              112 2021-04-06 12:15:00                          111   \n",
       "2              103 2021-04-06 12:15:00                          103   \n",
       "3               20 2021-04-06 12:15:00                           20   \n",
       "4               37 2021-04-06 12:15:00                           37   \n",
       "..             ...                 ...                          ...   \n",
       "391             18 2021-04-06 12:15:00                           18   \n",
       "392              5 2021-04-06 12:15:00                            5   \n",
       "393              5 2021-04-06 12:15:00                            5   \n",
       "394              9 2021-04-06 12:15:00                            9   \n",
       "395             29 2021-04-06 12:15:00                           28   \n",
       "\n",
       "     betten_frei_nur_erwachsen  \n",
       "0                            0  \n",
       "1                           47  \n",
       "2                           32  \n",
       "3                            5  \n",
       "4                            1  \n",
       "..                         ...  \n",
       "391                          3  \n",
       "392                          0  \n",
       "393                          0  \n",
       "394                          1  \n",
       "395                          0  \n",
       "\n",
       "[396 rows x 18 columns]"
      ]
     },
     "execution_count": 38,
     "metadata": {},
     "output_type": "execute_result"
    }
   ],
   "source": [
    "df"
   ]
  },
  {
   "cell_type": "code",
   "execution_count": 10,
   "id": "20a86426",
   "metadata": {},
   "outputs": [
    {
     "name": "stdout",
     "output_type": "stream",
     "text": [
      "<class 'pandas.core.frame.DataFrame'>\n",
      "RangeIndex: 396 entries, 0 to 395\n",
      "Data columns (total 18 columns):\n",
      " #   Column                                Non-Null Count  Dtype         \n",
      "---  ------                                --------------  -----         \n",
      " 0   index                                 396 non-null    int64         \n",
      " 1   IdLandkreis                           396 non-null    int64         \n",
      " 2   Landkreis                             396 non-null    object        \n",
      " 3   Datenstand                            396 non-null    datetime64[ns]\n",
      " 4   AnzahlFall                            396 non-null    int64         \n",
      " 5   AnzahlTodesfall                       396 non-null    int64         \n",
      " 6   AnzahlGenesen                         396 non-null    int64         \n",
      " 7   bundesland                            396 non-null    int64         \n",
      " 8   gemeindeschluessel                    396 non-null    int64         \n",
      " 9   anzahl_meldebereiche                  396 non-null    int64         \n",
      " 10  faelle_covid_aktuell                  396 non-null    int64         \n",
      " 11  faelle_covid_aktuell_invasiv_beatmet  396 non-null    int64         \n",
      " 12  anzahl_standorte                      396 non-null    int64         \n",
      " 13  betten_frei                           396 non-null    int64         \n",
      " 14  betten_belegt                         396 non-null    int64         \n",
      " 15  daten_stand                           396 non-null    datetime64[ns]\n",
      " 16  betten_belegt_nur_erwachsen           396 non-null    int64         \n",
      " 17  betten_frei_nur_erwachsen             396 non-null    int64         \n",
      "dtypes: datetime64[ns](2), int64(15), object(1)\n",
      "memory usage: 55.8+ KB\n"
     ]
    }
   ],
   "source": [
    "df.info()"
   ]
  },
  {
   "cell_type": "code",
   "execution_count": 36,
   "id": "69c0db8e",
   "metadata": {},
   "outputs": [
    {
     "data": {
      "text/html": [
       "<div>\n",
       "<style scoped>\n",
       "    .dataframe tbody tr th:only-of-type {\n",
       "        vertical-align: middle;\n",
       "    }\n",
       "\n",
       "    .dataframe tbody tr th {\n",
       "        vertical-align: top;\n",
       "    }\n",
       "\n",
       "    .dataframe thead th {\n",
       "        text-align: right;\n",
       "    }\n",
       "</style>\n",
       "<table border=\"1\" class=\"dataframe\">\n",
       "  <thead>\n",
       "    <tr style=\"text-align: right;\">\n",
       "      <th></th>\n",
       "      <th>index</th>\n",
       "      <th>IdLandkreis</th>\n",
       "      <th>Landkreis</th>\n",
       "      <th>Datenstand</th>\n",
       "      <th>AnzahlFall</th>\n",
       "      <th>AnzahlTodesfall</th>\n",
       "      <th>AnzahlGenesen</th>\n",
       "      <th>bundesland</th>\n",
       "      <th>gemeindeschluessel</th>\n",
       "      <th>anzahl_meldebereiche</th>\n",
       "      <th>faelle_covid_aktuell</th>\n",
       "      <th>faelle_covid_aktuell_invasiv_beatmet</th>\n",
       "      <th>anzahl_standorte</th>\n",
       "      <th>betten_frei</th>\n",
       "      <th>betten_belegt</th>\n",
       "      <th>daten_stand</th>\n",
       "      <th>betten_belegt_nur_erwachsen</th>\n",
       "      <th>betten_frei_nur_erwachsen</th>\n",
       "    </tr>\n",
       "  </thead>\n",
       "  <tbody>\n",
       "    <tr>\n",
       "      <th>161</th>\n",
       "      <td>161</td>\n",
       "      <td>7314</td>\n",
       "      <td>SK Ludwigshafen</td>\n",
       "      <td>2021-04-06</td>\n",
       "      <td>8002</td>\n",
       "      <td>304</td>\n",
       "      <td>6674</td>\n",
       "      <td>7</td>\n",
       "      <td>7314</td>\n",
       "      <td>6</td>\n",
       "      <td>19</td>\n",
       "      <td>12</td>\n",
       "      <td>4</td>\n",
       "      <td>14</td>\n",
       "      <td>107</td>\n",
       "      <td>2021-04-06</td>\n",
       "      <td>92</td>\n",
       "      <td>13</td>\n",
       "    </tr>\n",
       "  </tbody>\n",
       "</table>\n",
       "</div>"
      ],
      "text/plain": [
       "     index  IdLandkreis        Landkreis Datenstand  AnzahlFall  \\\n",
       "161    161         7314  SK Ludwigshafen 2021-04-06        8002   \n",
       "\n",
       "     AnzahlTodesfall  AnzahlGenesen  bundesland  gemeindeschluessel  \\\n",
       "161              304           6674           7                7314   \n",
       "\n",
       "     anzahl_meldebereiche  faelle_covid_aktuell  \\\n",
       "161                     6                    19   \n",
       "\n",
       "     faelle_covid_aktuell_invasiv_beatmet  anzahl_standorte  betten_frei  \\\n",
       "161                                    12                 4           14   \n",
       "\n",
       "     betten_belegt daten_stand  betten_belegt_nur_erwachsen  \\\n",
       "161            107  2021-04-06                           92   \n",
       "\n",
       "     betten_frei_nur_erwachsen  \n",
       "161                         13  "
      ]
     },
     "execution_count": 36,
     "metadata": {},
     "output_type": "execute_result"
    }
   ],
   "source": [
    "df.loc[df.Landkreis.str.contains(\"Ludwigshafen\"),:]"
   ]
  },
  {
   "cell_type": "code",
   "execution_count": 36,
   "id": "1c625d80",
   "metadata": {},
   "outputs": [
    {
     "data": {
      "text/html": [
       "<div>\n",
       "<style scoped>\n",
       "    .dataframe tbody tr th:only-of-type {\n",
       "        vertical-align: middle;\n",
       "    }\n",
       "\n",
       "    .dataframe tbody tr th {\n",
       "        vertical-align: top;\n",
       "    }\n",
       "\n",
       "    .dataframe thead th {\n",
       "        text-align: right;\n",
       "    }\n",
       "</style>\n",
       "<table border=\"1\" class=\"dataframe\">\n",
       "  <thead>\n",
       "    <tr style=\"text-align: right;\">\n",
       "      <th></th>\n",
       "      <th>index</th>\n",
       "      <th>IdLandkreis</th>\n",
       "      <th>Landkreis</th>\n",
       "      <th>Datenstand</th>\n",
       "      <th>AnzahlFall</th>\n",
       "      <th>AnzahlTodesfall</th>\n",
       "      <th>AnzahlGenesen</th>\n",
       "      <th>bundesland</th>\n",
       "      <th>gemeindeschluessel</th>\n",
       "      <th>anzahl_meldebereiche</th>\n",
       "      <th>faelle_covid_aktuell</th>\n",
       "      <th>faelle_covid_aktuell_invasiv_beatmet</th>\n",
       "      <th>anzahl_standorte</th>\n",
       "      <th>betten_frei</th>\n",
       "      <th>betten_belegt</th>\n",
       "      <th>daten_stand</th>\n",
       "      <th>betten_belegt_nur_erwachsen</th>\n",
       "      <th>betten_frei_nur_erwachsen</th>\n",
       "    </tr>\n",
       "  </thead>\n",
       "  <tbody>\n",
       "    <tr>\n",
       "      <th>0</th>\n",
       "      <td>0</td>\n",
       "      <td>1001</td>\n",
       "      <td>SK Flensburg</td>\n",
       "      <td>2021-04-06</td>\n",
       "      <td>2047</td>\n",
       "      <td>39</td>\n",
       "      <td>1860</td>\n",
       "      <td>1</td>\n",
       "      <td>1001</td>\n",
       "      <td>3</td>\n",
       "      <td>3</td>\n",
       "      <td>3</td>\n",
       "      <td>2</td>\n",
       "      <td>6</td>\n",
       "      <td>35</td>\n",
       "      <td>2021-04-06</td>\n",
       "      <td>35</td>\n",
       "      <td>0</td>\n",
       "    </tr>\n",
       "    <tr>\n",
       "      <th>1</th>\n",
       "      <td>1</td>\n",
       "      <td>1002</td>\n",
       "      <td>SK Kiel</td>\n",
       "      <td>2021-04-06</td>\n",
       "      <td>4041</td>\n",
       "      <td>92</td>\n",
       "      <td>3723</td>\n",
       "      <td>1</td>\n",
       "      <td>1002</td>\n",
       "      <td>5</td>\n",
       "      <td>6</td>\n",
       "      <td>5</td>\n",
       "      <td>3</td>\n",
       "      <td>52</td>\n",
       "      <td>112</td>\n",
       "      <td>2021-04-06</td>\n",
       "      <td>111</td>\n",
       "      <td>47</td>\n",
       "    </tr>\n",
       "    <tr>\n",
       "      <th>2</th>\n",
       "      <td>2</td>\n",
       "      <td>1003</td>\n",
       "      <td>SK Lübeck</td>\n",
       "      <td>2021-04-06</td>\n",
       "      <td>4852</td>\n",
       "      <td>89</td>\n",
       "      <td>4534</td>\n",
       "      <td>1</td>\n",
       "      <td>1003</td>\n",
       "      <td>2</td>\n",
       "      <td>6</td>\n",
       "      <td>2</td>\n",
       "      <td>2</td>\n",
       "      <td>32</td>\n",
       "      <td>103</td>\n",
       "      <td>2021-04-06</td>\n",
       "      <td>103</td>\n",
       "      <td>32</td>\n",
       "    </tr>\n",
       "    <tr>\n",
       "      <th>3</th>\n",
       "      <td>3</td>\n",
       "      <td>1004</td>\n",
       "      <td>SK Neumünster</td>\n",
       "      <td>2021-04-06</td>\n",
       "      <td>1462</td>\n",
       "      <td>22</td>\n",
       "      <td>1309</td>\n",
       "      <td>1</td>\n",
       "      <td>1004</td>\n",
       "      <td>1</td>\n",
       "      <td>0</td>\n",
       "      <td>0</td>\n",
       "      <td>1</td>\n",
       "      <td>5</td>\n",
       "      <td>20</td>\n",
       "      <td>2021-04-06</td>\n",
       "      <td>20</td>\n",
       "      <td>5</td>\n",
       "    </tr>\n",
       "    <tr>\n",
       "      <th>4</th>\n",
       "      <td>4</td>\n",
       "      <td>1051</td>\n",
       "      <td>LK Dithmarschen</td>\n",
       "      <td>2021-04-06</td>\n",
       "      <td>1546</td>\n",
       "      <td>42</td>\n",
       "      <td>1426</td>\n",
       "      <td>1</td>\n",
       "      <td>1051</td>\n",
       "      <td>1</td>\n",
       "      <td>0</td>\n",
       "      <td>0</td>\n",
       "      <td>1</td>\n",
       "      <td>1</td>\n",
       "      <td>37</td>\n",
       "      <td>2021-04-06</td>\n",
       "      <td>37</td>\n",
       "      <td>1</td>\n",
       "    </tr>\n",
       "    <tr>\n",
       "      <th>...</th>\n",
       "      <td>...</td>\n",
       "      <td>...</td>\n",
       "      <td>...</td>\n",
       "      <td>...</td>\n",
       "      <td>...</td>\n",
       "      <td>...</td>\n",
       "      <td>...</td>\n",
       "      <td>...</td>\n",
       "      <td>...</td>\n",
       "      <td>...</td>\n",
       "      <td>...</td>\n",
       "      <td>...</td>\n",
       "      <td>...</td>\n",
       "      <td>...</td>\n",
       "      <td>...</td>\n",
       "      <td>...</td>\n",
       "      <td>...</td>\n",
       "      <td>...</td>\n",
       "    </tr>\n",
       "    <tr>\n",
       "      <th>391</th>\n",
       "      <td>391</td>\n",
       "      <td>16073</td>\n",
       "      <td>LK Saalfeld-Rudolstadt</td>\n",
       "      <td>2021-04-06</td>\n",
       "      <td>5266</td>\n",
       "      <td>239</td>\n",
       "      <td>4724</td>\n",
       "      <td>16</td>\n",
       "      <td>16073</td>\n",
       "      <td>1</td>\n",
       "      <td>11</td>\n",
       "      <td>8</td>\n",
       "      <td>1</td>\n",
       "      <td>3</td>\n",
       "      <td>18</td>\n",
       "      <td>2021-04-06</td>\n",
       "      <td>18</td>\n",
       "      <td>3</td>\n",
       "    </tr>\n",
       "    <tr>\n",
       "      <th>392</th>\n",
       "      <td>392</td>\n",
       "      <td>16074</td>\n",
       "      <td>LK Saale-Holzland-Kreis</td>\n",
       "      <td>2021-04-06</td>\n",
       "      <td>3611</td>\n",
       "      <td>87</td>\n",
       "      <td>3202</td>\n",
       "      <td>16</td>\n",
       "      <td>16074</td>\n",
       "      <td>1</td>\n",
       "      <td>1</td>\n",
       "      <td>1</td>\n",
       "      <td>1</td>\n",
       "      <td>0</td>\n",
       "      <td>5</td>\n",
       "      <td>2021-04-06</td>\n",
       "      <td>5</td>\n",
       "      <td>0</td>\n",
       "    </tr>\n",
       "    <tr>\n",
       "      <th>393</th>\n",
       "      <td>393</td>\n",
       "      <td>16075</td>\n",
       "      <td>LK Saale-Orla-Kreis</td>\n",
       "      <td>2021-04-06</td>\n",
       "      <td>4944</td>\n",
       "      <td>120</td>\n",
       "      <td>4299</td>\n",
       "      <td>16</td>\n",
       "      <td>16075</td>\n",
       "      <td>1</td>\n",
       "      <td>4</td>\n",
       "      <td>4</td>\n",
       "      <td>1</td>\n",
       "      <td>0</td>\n",
       "      <td>5</td>\n",
       "      <td>2021-04-06</td>\n",
       "      <td>5</td>\n",
       "      <td>0</td>\n",
       "    </tr>\n",
       "    <tr>\n",
       "      <th>394</th>\n",
       "      <td>394</td>\n",
       "      <td>16076</td>\n",
       "      <td>LK Greiz</td>\n",
       "      <td>2021-04-06</td>\n",
       "      <td>6004</td>\n",
       "      <td>137</td>\n",
       "      <td>4181</td>\n",
       "      <td>16</td>\n",
       "      <td>16076</td>\n",
       "      <td>1</td>\n",
       "      <td>6</td>\n",
       "      <td>6</td>\n",
       "      <td>1</td>\n",
       "      <td>1</td>\n",
       "      <td>9</td>\n",
       "      <td>2021-04-06</td>\n",
       "      <td>9</td>\n",
       "      <td>1</td>\n",
       "    </tr>\n",
       "    <tr>\n",
       "      <th>395</th>\n",
       "      <td>395</td>\n",
       "      <td>16077</td>\n",
       "      <td>LK Altenburger Land</td>\n",
       "      <td>2021-04-06</td>\n",
       "      <td>5665</td>\n",
       "      <td>234</td>\n",
       "      <td>4677</td>\n",
       "      <td>16</td>\n",
       "      <td>16077</td>\n",
       "      <td>2</td>\n",
       "      <td>8</td>\n",
       "      <td>4</td>\n",
       "      <td>1</td>\n",
       "      <td>0</td>\n",
       "      <td>29</td>\n",
       "      <td>2021-04-06</td>\n",
       "      <td>28</td>\n",
       "      <td>0</td>\n",
       "    </tr>\n",
       "  </tbody>\n",
       "</table>\n",
       "<p>396 rows × 18 columns</p>\n",
       "</div>"
      ],
      "text/plain": [
       "     index  IdLandkreis                Landkreis Datenstand  AnzahlFall  \\\n",
       "0        0         1001             SK Flensburg 2021-04-06        2047   \n",
       "1        1         1002                  SK Kiel 2021-04-06        4041   \n",
       "2        2         1003                SK Lübeck 2021-04-06        4852   \n",
       "3        3         1004            SK Neumünster 2021-04-06        1462   \n",
       "4        4         1051          LK Dithmarschen 2021-04-06        1546   \n",
       "..     ...          ...                      ...        ...         ...   \n",
       "391    391        16073   LK Saalfeld-Rudolstadt 2021-04-06        5266   \n",
       "392    392        16074  LK Saale-Holzland-Kreis 2021-04-06        3611   \n",
       "393    393        16075      LK Saale-Orla-Kreis 2021-04-06        4944   \n",
       "394    394        16076                 LK Greiz 2021-04-06        6004   \n",
       "395    395        16077      LK Altenburger Land 2021-04-06        5665   \n",
       "\n",
       "     AnzahlTodesfall  AnzahlGenesen  bundesland  gemeindeschluessel  \\\n",
       "0                 39           1860           1                1001   \n",
       "1                 92           3723           1                1002   \n",
       "2                 89           4534           1                1003   \n",
       "3                 22           1309           1                1004   \n",
       "4                 42           1426           1                1051   \n",
       "..               ...            ...         ...                 ...   \n",
       "391              239           4724          16               16073   \n",
       "392               87           3202          16               16074   \n",
       "393              120           4299          16               16075   \n",
       "394              137           4181          16               16076   \n",
       "395              234           4677          16               16077   \n",
       "\n",
       "     anzahl_meldebereiche  faelle_covid_aktuell  \\\n",
       "0                       3                     3   \n",
       "1                       5                     6   \n",
       "2                       2                     6   \n",
       "3                       1                     0   \n",
       "4                       1                     0   \n",
       "..                    ...                   ...   \n",
       "391                     1                    11   \n",
       "392                     1                     1   \n",
       "393                     1                     4   \n",
       "394                     1                     6   \n",
       "395                     2                     8   \n",
       "\n",
       "     faelle_covid_aktuell_invasiv_beatmet  anzahl_standorte  betten_frei  \\\n",
       "0                                       3                 2            6   \n",
       "1                                       5                 3           52   \n",
       "2                                       2                 2           32   \n",
       "3                                       0                 1            5   \n",
       "4                                       0                 1            1   \n",
       "..                                    ...               ...          ...   \n",
       "391                                     8                 1            3   \n",
       "392                                     1                 1            0   \n",
       "393                                     4                 1            0   \n",
       "394                                     6                 1            1   \n",
       "395                                     4                 1            0   \n",
       "\n",
       "     betten_belegt daten_stand  betten_belegt_nur_erwachsen  \\\n",
       "0               35  2021-04-06                           35   \n",
       "1              112  2021-04-06                          111   \n",
       "2              103  2021-04-06                          103   \n",
       "3               20  2021-04-06                           20   \n",
       "4               37  2021-04-06                           37   \n",
       "..             ...         ...                          ...   \n",
       "391             18  2021-04-06                           18   \n",
       "392              5  2021-04-06                            5   \n",
       "393              5  2021-04-06                            5   \n",
       "394              9  2021-04-06                            9   \n",
       "395             29  2021-04-06                           28   \n",
       "\n",
       "     betten_frei_nur_erwachsen  \n",
       "0                            0  \n",
       "1                           47  \n",
       "2                           32  \n",
       "3                            5  \n",
       "4                            1  \n",
       "..                         ...  \n",
       "391                          3  \n",
       "392                          0  \n",
       "393                          0  \n",
       "394                          1  \n",
       "395                          0  \n",
       "\n",
       "[396 rows x 18 columns]"
      ]
     },
     "execution_count": 36,
     "metadata": {},
     "output_type": "execute_result"
    }
   ],
   "source": [
    "df"
   ]
  }
 ],
 "metadata": {
  "kernelspec": {
   "display_name": "Python 3 (ipykernel)",
   "language": "python",
   "name": "python3"
  },
  "language_info": {
   "codemirror_mode": {
    "name": "ipython",
    "version": 3
   },
   "file_extension": ".py",
   "mimetype": "text/x-python",
   "name": "python",
   "nbconvert_exporter": "python",
   "pygments_lexer": "ipython3",
   "version": "3.11.5"
  }
 },
 "nbformat": 4,
 "nbformat_minor": 5
}
