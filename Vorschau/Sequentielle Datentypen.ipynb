{
 "cells": [
  {
   "cell_type": "markdown",
   "id": "62f50054",
   "metadata": {},
   "source": [
    "Strings"
   ]
  },
  {
   "cell_type": "code",
   "execution_count": 2,
   "id": "948bb7ad",
   "metadata": {},
   "outputs": [
    {
     "name": "stdout",
     "output_type": "stream",
     "text": [
      "Hallo mein Name ist Timm\n",
      "Hallo mein Name ist Timm\n",
      "Hallo mein Name ist Timm\n"
     ]
    }
   ],
   "source": [
    "##Definition\n",
    "\n",
    "text = \"Hallo mein Name ist Timm\"\n",
    "print(text)\n",
    "\n",
    "text = 'Hallo mein Name ist Timm'\n",
    "print(text)\n",
    "\n",
    "text = \"\"\"Hallo mein Name ist Timm\"\"\"\n",
    "print(text)\n"
   ]
  },
  {
   "cell_type": "code",
   "execution_count": 7,
   "id": "7ec66d6e",
   "metadata": {},
   "outputs": [
    {
     "name": "stdout",
     "output_type": "stream",
     "text": [
      "Hallo mein Name ist Timm und ich schreibe längere Outputs\n",
      "Hallo\n",
      "das geht doch einfach\n",
      "oder?\n",
      "Aber es gibt \n",
      "noch eine andere Methode\n"
     ]
    }
   ],
   "source": [
    "## Zeilenumbrüche (im Code)\n",
    "\n",
    "text = \"Hallo mein Name ist Timm \\\n",
    "und ich schreibe längere Outputs\"\n",
    "\n",
    "print(text)\n",
    "\n",
    "## Zeilenumbrüche (im Text)\n",
    "\n",
    "print(\"\"\"Hallo\n",
    "das geht doch einfach\n",
    "oder?\"\"\")\n",
    "\n",
    "print(\"Aber es gibt \\nnoch eine andere Methode\")"
   ]
  },
  {
   "cell_type": "markdown",
   "id": "ca23aeb2",
   "metadata": {},
   "source": [
    "Listen"
   ]
  },
  {
   "cell_type": "code",
   "execution_count": 8,
   "id": "9281664d",
   "metadata": {},
   "outputs": [],
   "source": [
    "x = [\"2\",\"ist eine Zahl\",2,5] ## gemischte Datentypen möglich"
   ]
  },
  {
   "cell_type": "code",
   "execution_count": 9,
   "id": "04146a13",
   "metadata": {},
   "outputs": [],
   "source": [
    "y = [1,2,4,[5,6]] ## Liste in einer Liste"
   ]
  },
  {
   "cell_type": "code",
   "execution_count": 10,
   "id": "541dffee",
   "metadata": {},
   "outputs": [
    {
     "data": {
      "text/plain": [
       "[1, 2, 4, [5, 6]]"
      ]
     },
     "execution_count": 10,
     "metadata": {},
     "output_type": "execute_result"
    }
   ],
   "source": [
    "y"
   ]
  },
  {
   "cell_type": "markdown",
   "id": "20f4c7d7",
   "metadata": {},
   "source": [
    "Tupel"
   ]
  },
  {
   "cell_type": "code",
   "execution_count": null,
   "id": "6e876ea9",
   "metadata": {},
   "outputs": [],
   "source": [
    "## Hinweis: Ähnlich wie Listen, doch nach der Erstellung unveränderlich"
   ]
  },
  {
   "cell_type": "code",
   "execution_count": 13,
   "id": "4252d864",
   "metadata": {},
   "outputs": [
    {
     "name": "stdout",
     "output_type": "stream",
     "text": [
      "(5, 10)\n",
      "(5, 10)\n",
      "5\n",
      "10\n"
     ]
    }
   ],
   "source": [
    "my_tupel = (5,10) ##gut für Koordinaten oder mehrdimensionale Informationen\n",
    "\n",
    "my_tupel2 = 5,10 #Alternative Schreibweise\n",
    "\n",
    "first, second = my_tupel2 ##Können unstacked werden --> gut für return statements\n",
    "\n",
    "print(my_tupel)\n",
    "\n",
    "print(my_tupel2)\n",
    "\n",
    "print(first)\n",
    "\n",
    "print(second)"
   ]
  },
  {
   "cell_type": "code",
   "execution_count": 25,
   "id": "43c1dd31",
   "metadata": {},
   "outputs": [
    {
     "ename": "TypeError",
     "evalue": "'tuple' object does not support item assignment",
     "output_type": "error",
     "traceback": [
      "\u001b[1;31m---------------------------------------------------------------------------\u001b[0m",
      "\u001b[1;31mTypeError\u001b[0m                                 Traceback (most recent call last)",
      "Cell \u001b[1;32mIn[25], line 1\u001b[0m\n\u001b[1;32m----> 1\u001b[0m my_tupel[\u001b[38;5;241m0\u001b[39m] \u001b[38;5;241m=\u001b[39m \u001b[38;5;241m1\u001b[39m\n",
      "\u001b[1;31mTypeError\u001b[0m: 'tuple' object does not support item assignment"
     ]
    }
   ],
   "source": [
    "my_tupel[0] = 1 ## Tupel unveränderlich (immutable)"
   ]
  },
  {
   "cell_type": "code",
   "execution_count": 26,
   "id": "dc9c831d",
   "metadata": {},
   "outputs": [],
   "source": [
    "##Workaround\n",
    "my_tupel = (1,10) ## Achtung! Das ist ein völlig neues Objekt"
   ]
  },
  {
   "cell_type": "markdown",
   "id": "4ae567d6",
   "metadata": {},
   "source": [
    "Indizierung"
   ]
  },
  {
   "cell_type": "code",
   "execution_count": 24,
   "id": "fce892d2",
   "metadata": {},
   "outputs": [
    {
     "data": {
      "text/plain": [
       "57"
      ]
     },
     "execution_count": 24,
     "metadata": {},
     "output_type": "execute_result"
    }
   ],
   "source": [
    "len(text)"
   ]
  },
  {
   "cell_type": "code",
   "execution_count": null,
   "id": "63f115fe",
   "metadata": {},
   "outputs": [],
   "source": [
    "text[0] ##erstes Element\n",
    "\n",
    "text[0:5]  ## von:bis (bis ist exklusiv --> bis-1) \n",
    "\n",
    "text[-1] ## Indizierung anfangend von hinten\n",
    "\n",
    "text[-5:] ## von:bis beginnend mit länge-5"
   ]
  },
  {
   "cell_type": "code",
   "execution_count": 43,
   "id": "b0ff600b",
   "metadata": {},
   "outputs": [],
   "source": [
    "numbers = [1,2,3,4,5,6,7,8,9,10]"
   ]
  },
  {
   "cell_type": "code",
   "execution_count": 37,
   "id": "240d0449",
   "metadata": {},
   "outputs": [
    {
     "data": {
      "text/plain": [
       "[1, 3, 5, 7, 9]"
      ]
     },
     "execution_count": 37,
     "metadata": {},
     "output_type": "execute_result"
    }
   ],
   "source": [
    "numbers[::2] ## Anfang + i*Schrittweite < len(numbers) gib jedes 2te Element aus, beginnend mit Index 0"
   ]
  },
  {
   "cell_type": "code",
   "execution_count": 38,
   "id": "080119de",
   "metadata": {},
   "outputs": [
    {
     "data": {
      "text/plain": [
       "[2, 4, 6, 8, 10]"
      ]
     },
     "execution_count": 38,
     "metadata": {},
     "output_type": "execute_result"
    }
   ],
   "source": [
    "numbers[1::2] ## Anfang + i*Schrittweite < len(numbers) gib jedes 2te Element aus, beginnend mit Index 1"
   ]
  },
  {
   "cell_type": "markdown",
   "id": "131ab8c2",
   "metadata": {},
   "source": [
    "insert, remove, append, pop, extend"
   ]
  },
  {
   "cell_type": "code",
   "execution_count": 49,
   "id": "cf49cb1c",
   "metadata": {},
   "outputs": [
    {
     "name": "stdout",
     "output_type": "stream",
     "text": [
      "[1, 2, 3, 4, 5, 6, 7, 8, 9, 10]\n",
      "\n",
      "[1, 2, 3, 4, 5, 6, 7, 8, 9, 10, 4]\n",
      "\n",
      "[1, 2, 3, 4, 5, 6, 7, 8, 9, 10]\n"
     ]
    }
   ],
   "source": [
    "numbers = [1,2,3,4,5,6,7,8,9,10]\n",
    "\n",
    "print(str(numbers)+\"\\n\")\n",
    "numbers.append(4)\n",
    "\n",
    "print(str(numbers)+\"\\n\")\n",
    "number = numbers.pop() ## Nimmt letzten Wert aus der Liste\n",
    "print(f\"gelöschte Nummer: {number}\")\n",
    "number = numbers.pop(1) ## Nimmt Wert mit index 1 aus der Liste\n",
    "print(f\"gelöschte Nummer: {number}\")\n",
    "\n",
    "\n",
    "\n",
    "print(numbers)"
   ]
  },
  {
   "cell_type": "code",
   "execution_count": 50,
   "id": "817e1aeb",
   "metadata": {},
   "outputs": [],
   "source": [
    "numbers.insert(1,10) ## Bei Index 1 wird Wert 10 eingefügt"
   ]
  },
  {
   "cell_type": "code",
   "execution_count": 51,
   "id": "2c96a5a6",
   "metadata": {},
   "outputs": [
    {
     "data": {
      "text/plain": [
       "[1, 10, 2, 3, 4, 5, 6, 7, 8, 9, 10]"
      ]
     },
     "execution_count": 51,
     "metadata": {},
     "output_type": "execute_result"
    }
   ],
   "source": [
    "numbers"
   ]
  },
  {
   "cell_type": "code",
   "execution_count": 53,
   "id": "5f0e77eb",
   "metadata": {},
   "outputs": [
    {
     "data": {
      "text/plain": [
       "[1, 2, 3, 4, 5, 6, 7, 8, 9, 10]"
      ]
     },
     "execution_count": 53,
     "metadata": {},
     "output_type": "execute_result"
    }
   ],
   "source": [
    "numbers.remove(10) ## Entfernt erste Occurence\n",
    "numbers"
   ]
  },
  {
   "cell_type": "code",
   "execution_count": 54,
   "id": "df99f664",
   "metadata": {},
   "outputs": [
    {
     "name": "stdout",
     "output_type": "stream",
     "text": [
      "[1, 2, 3, 4, 5, 6, 7, 8, 9, 10, [11, 12, 13]]\n",
      "[1, 2, 3, 4, 5, 6, 7, 8, 9, 10, 11, 12, 13]\n"
     ]
    }
   ],
   "source": [
    "numbers2 = [11,12,13]\n",
    "\n",
    "numbers.append(numbers2) # Hängt Objekt an wie es ist\n",
    "\n",
    "print(numbers)\n",
    "\n",
    "numbers = [1,2,3,4,5,6,7,8,9,10]\n",
    "\n",
    "numbers.extend(numbers2) # Hängt einzelne Objekte eines iterierbaren Objekts an\n",
    "\n",
    "print(numbers)"
   ]
  },
  {
   "cell_type": "code",
   "execution_count": 56,
   "id": "0f2cc906",
   "metadata": {},
   "outputs": [
    {
     "data": {
      "text/plain": [
       "9"
      ]
     },
     "execution_count": 56,
     "metadata": {},
     "output_type": "execute_result"
    }
   ],
   "source": [
    "numbers.index(10) # Gibt den Index des ersten Wertes mit 10 aus"
   ]
  },
  {
   "cell_type": "code",
   "execution_count": 60,
   "id": "87b4ca00",
   "metadata": {},
   "outputs": [
    {
     "data": {
      "text/plain": [
       "9"
      ]
     },
     "execution_count": 60,
     "metadata": {},
     "output_type": "execute_result"
    }
   ],
   "source": [
    "numbers.index(10, 0,9) ## Sucht von Index 0-9 (9 ist exklusiv)"
   ]
  }
 ],
 "metadata": {
  "kernelspec": {
   "display_name": "Python 3 (ipykernel)",
   "language": "python",
   "name": "python3"
  },
  "language_info": {
   "codemirror_mode": {
    "name": "ipython",
    "version": 3
   },
   "file_extension": ".py",
   "mimetype": "text/x-python",
   "name": "python",
   "nbconvert_exporter": "python",
   "pygments_lexer": "ipython3",
   "version": "3.11.5"
  }
 },
 "nbformat": 4,
 "nbformat_minor": 5
}
