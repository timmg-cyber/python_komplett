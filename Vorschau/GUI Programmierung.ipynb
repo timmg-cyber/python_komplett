{
 "cells": [
  {
   "cell_type": "code",
   "execution_count": 4,
   "id": "0493ea18-2322-440f-9e13-ce523713c244",
   "metadata": {},
   "outputs": [],
   "source": [
    "import tkinter as tk"
   ]
  },
  {
   "cell_type": "code",
   "execution_count": 2,
   "id": "2c11427c-6373-4d2c-8740-82c68bfb2be9",
   "metadata": {},
   "outputs": [],
   "source": [
    "tk._test()"
   ]
  },
  {
   "cell_type": "markdown",
   "id": "163e45f6-3d54-4b92-a406-974bd82b5903",
   "metadata": {},
   "source": [
    "Window erstellen"
   ]
  },
  {
   "cell_type": "code",
   "execution_count": null,
   "id": "40ef94c5-1569-4832-a134-22f3c1e4a0f1",
   "metadata": {},
   "outputs": [],
   "source": [
    "window = tk.Tk()\n",
    "\n",
    "window.mainloop()"
   ]
  },
  {
   "cell_type": "code",
   "execution_count": 5,
   "id": "e0998349-6ae3-436f-b644-ff5d54e63397",
   "metadata": {},
   "outputs": [],
   "source": [
    "## geometry festlegen\n",
    "window = tk.Tk()\n",
    "window.geometry(\"800x500\")\n",
    "window.title(\"My First GUI\")\n",
    "window.mainloop()"
   ]
  },
  {
   "cell_type": "markdown",
   "id": "70441304-d7f3-4849-bbec-1d1bf856e907",
   "metadata": {},
   "source": [
    "Widgets"
   ]
  },
  {
   "cell_type": "code",
   "execution_count": 8,
   "id": "c50fc721-fb61-47e8-89f8-5781908b0f7c",
   "metadata": {},
   "outputs": [],
   "source": [
    "## Label\n",
    "window = tk.Tk()\n",
    "window.geometry(\"800x500\")\n",
    "window.title(\"My First GUI\")\n",
    "\n",
    "label = tk.Label(window, text=\"My Text\", font=(\"Arial\",18))\n",
    "#label.pack() ## Mittlere Platzierung\n",
    "label.pack(padx=20, pady=20)\n",
    "\n",
    "window.mainloop()\n"
   ]
  },
  {
   "cell_type": "code",
   "execution_count": 12,
   "id": "62c946c5-a164-4d6c-a1bf-a6f47dd0e681",
   "metadata": {},
   "outputs": [],
   "source": [
    "##Textbox --> Freitextfeld\n",
    "window = tk.Tk()\n",
    "window.geometry(\"800x500\")\n",
    "window.title(\"My First GUI\")\n",
    "\n",
    "label = tk.Label(window, text=\"My Text\", font=(\"Arial\",18))\n",
    "#label.pack() ## Mittlere Platzierung\n",
    "label.pack(padx=20, pady=20)\n",
    "\n",
    "textbox = tk.Text(window, height=3, font=(\"Arial\",16))\n",
    "textbox.pack()\n",
    "\n",
    "\n",
    "window.mainloop()"
   ]
  },
  {
   "cell_type": "code",
   "execution_count": 13,
   "id": "d475d5b5-573c-42fe-8f26-1b5bea0a058c",
   "metadata": {},
   "outputs": [],
   "source": [
    "##Entry--> Freitextfeld ohne multiline mit height=1\n",
    "window = tk.Tk()\n",
    "window.geometry(\"800x500\")\n",
    "window.title(\"My First GUI\")\n",
    "\n",
    "label = tk.Label(window, text=\"My Text\", font=(\"Arial\",18))\n",
    "#label.pack() ## Mittlere Platzierung\n",
    "label.pack(padx=20, pady=20)\n",
    "\n",
    "textbox = tk.Text(window, height=3, font=(\"Arial\",16))\n",
    "textbox.pack()\n",
    "\n",
    "new_Entry = tk.Entry(window)\n",
    "new_Entry.pack()\n",
    "\n",
    "\n",
    "window.mainloop()"
   ]
  },
  {
   "cell_type": "code",
   "execution_count": 17,
   "id": "553e4bd7-eaac-4834-bcc1-b91b2531b41c",
   "metadata": {},
   "outputs": [],
   "source": [
    "## Button\n",
    "window = tk.Tk()\n",
    "window.geometry(\"800x500\")\n",
    "window.title(\"My First GUI\")\n",
    "\n",
    "label = tk.Label(window, text=\"My Text\", font=(\"Arial\",18))\n",
    "#label.pack() ## Mittlere Platzierung\n",
    "label.pack(padx=20, pady=20)\n",
    "\n",
    "textbox = tk.Text(window, height=3, font=(\"Arial\",16))\n",
    "textbox.pack()\n",
    "\n",
    "new_Entry = tk.Entry(window)\n",
    "new_Entry.pack()\n",
    "\n",
    "button = tk.Button(window, text=\"Klick Mich!\", font=(\"Arial\", 18))\n",
    "button.pack()\n",
    "\n",
    "\n",
    "window.mainloop()"
   ]
  },
  {
   "cell_type": "code",
   "execution_count": 20,
   "id": "07b9132f-cef3-4c29-a502-3afd934b5c9b",
   "metadata": {},
   "outputs": [],
   "source": [
    "## Grid\n",
    "\n",
    "window = tk.Tk()\n",
    "window.geometry(\"800x500\")\n",
    "window.title(\"My First GUI\")\n",
    "\n",
    "label = tk.Label(window, text=\"My Text\", font=(\"Arial\",18))\n",
    "#label.pack() ## Mittlere Platzierung\n",
    "label.pack(padx=20, pady=20)\n",
    "\n",
    "textbox = tk.Text(window, height=3, font=(\"Arial\",16))\n",
    "textbox.pack()\n",
    "\n",
    "buttonframe = tk.Frame(window) ##Teilframe im Window\n",
    "\n",
    "buttonframe.columnconfigure(0, weight=1)\n",
    "buttonframe.columnconfigure(1, weight=1)\n",
    "buttonframe.columnconfigure(2, weight=1)\n",
    "\n",
    "button1 = tk.Button(buttonframe, text=\"1\", font=(\"Arial\",18))\n",
    "button1.grid(row=0, column=0, sticky=tk.W+tk.E) #West / East --> Stretch Buttons to Left and Right\n",
    "\n",
    "button2 = tk.Button(buttonframe, text=\"2\", font=(\"Arial\",18))\n",
    "button2.grid(row=0, column=1, sticky=tk.W+tk.E) #West / East --> Stretch Buttons to Left and Right\n",
    "\n",
    "button3 = tk.Button(buttonframe, text=\"3\", font=(\"Arial\",18))\n",
    "button3.grid(row=0, column=2, sticky=tk.W+tk.E) #West / East --> Stretch Buttons to Left and Right\n",
    "\n",
    "buttonframe.pack(fill=\"x\") #Stretch over the x dimension\n",
    "\n",
    "another_button = tk.Button(window, text=\"4\")\n",
    "\n",
    "another_button.place(x=200, y=200, height=100, width=100)\n",
    "\n",
    "\n",
    "\n",
    "\n",
    "window.mainloop()"
   ]
  },
  {
   "cell_type": "markdown",
   "id": "0e229020-2ce7-4f31-96f0-47c264bee570",
   "metadata": {},
   "source": [
    "Adding Functionality"
   ]
  },
  {
   "cell_type": "code",
   "execution_count": 25,
   "id": "c2f23528-a0a0-4450-a942-3182120b22c6",
   "metadata": {},
   "outputs": [
    {
     "name": "stdout",
     "output_type": "stream",
     "text": [
      "Hello\n"
     ]
    },
    {
     "data": {
      "text/plain": [
       "<__main__.MyGUI at 0x1c691779c90>"
      ]
     },
     "execution_count": 25,
     "metadata": {},
     "output_type": "execute_result"
    }
   ],
   "source": [
    "from tkinter import messagebox\n",
    "\n",
    "class MyGUI:\n",
    "    def __init__(self):\n",
    "        self.window = tk.Tk()\n",
    "        self.window.geometry(\"400x400\")\n",
    "        self.label = tk.Label(self.window, text=\"Message\", font=(\"Arial\",18))\n",
    "        self.label.pack(padx=10, pady=10)\n",
    "\n",
    "        self.textbox = tk.Text(self.window,height=3, font=(\"Arial\", 18))\n",
    "        #self.textbox.bind(\"<KeyPress>\", self.shortcut)\n",
    "        self.textbox.pack(padx=10, pady=10)\n",
    "\n",
    "        self.check_state = tk.IntVar()\n",
    "\n",
    "        self.check = tk.Checkbutton(self.window, text=\"Show Messagebox\", font=(\"Arial\",18), variable= self.check_state)\n",
    "        self.check.pack(padx=10, pady=10)\n",
    "\n",
    "        self.button = tk.Button(self.window, text=\"ok\", font=(\"Arial\",18), command=self.show_message)\n",
    "        self.button.pack(padx=10, pady=10)\n",
    "\n",
    "        self.window.mainloop()\n",
    "\n",
    "    def show_message(self):\n",
    "        print(self.check_state.get()) ##Abfrage des Check-Box-Wertes\n",
    "        if self.check_state.get() == 0:\n",
    "            print(self.textbox.get('1.0', tk.END)) ##Startpunkt am Anfang 1.0\n",
    "        else:\n",
    "            messagebox.showinfo(title=\"Message\", message=self.textbox.get('1.0',tk.END))\n",
    "\n",
    "    def shortcut(self, event):\n",
    "        #print(event)\n",
    "        if event.state == 12 and event.keysym == \"Return\":\n",
    "            print(\"Hello\")\n",
    "\n",
    "MyGUI()\n",
    "\n",
    "        "
   ]
  }
 ],
 "metadata": {
  "kernelspec": {
   "display_name": "Python 3 (ipykernel)",
   "language": "python",
   "name": "python3"
  },
  "language_info": {
   "codemirror_mode": {
    "name": "ipython",
    "version": 3
   },
   "file_extension": ".py",
   "mimetype": "text/x-python",
   "name": "python",
   "nbconvert_exporter": "python",
   "pygments_lexer": "ipython3",
   "version": "3.11.5"
  }
 },
 "nbformat": 4,
 "nbformat_minor": 5
}
