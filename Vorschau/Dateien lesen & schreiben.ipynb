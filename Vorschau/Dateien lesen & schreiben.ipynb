{
 "cells": [
  {
   "cell_type": "markdown",
   "id": "9efe861c-0d32-4036-b109-6eb142d0fee9",
   "metadata": {},
   "source": [
    "Lesend auf Textdatei zugreifen"
   ]
  },
  {
   "cell_type": "code",
   "execution_count": 11,
   "id": "7535cd93-bd32-41a5-a180-f6fbcca84761",
   "metadata": {},
   "outputs": [
    {
     "data": {
      "text/plain": [
       "<_io.TextIOWrapper name='../Datasets/lorem_ipsum.txt' mode='r' encoding='cp1252'>"
      ]
     },
     "execution_count": 11,
     "metadata": {},
     "output_type": "execute_result"
    }
   ],
   "source": [
    "file = open(\"../Datasets/lorem_ipsum.txt\", \"r\")\n",
    "\n",
    "file"
   ]
  },
  {
   "cell_type": "code",
   "execution_count": 12,
   "id": "7aee99f1-1153-4323-b8f1-f12f1198ced2",
   "metadata": {},
   "outputs": [],
   "source": [
    "file.close() ## file nach Zugriff wieder freigeben"
   ]
  },
  {
   "cell_type": "code",
   "execution_count": 8,
   "id": "90c26efe-5e5d-4e21-a016-cb310fe85e08",
   "metadata": {},
   "outputs": [
    {
     "name": "stdout",
     "output_type": "stream",
     "text": [
      "Lorem ipsum dolor sit amet, consetetur sadipscing elitr, sed diam nonumy eirmod tempor invidunt ut labore et dolore magna aliquyam erat, sed diam voluptua.\n",
      "At vero eos et accusam et justo duo dolores et ea rebum. Stet clita kasd gubergren, no sea takimata sanctus est Lorem ipsum dolor sit amet. Lorem ipsum dolor sit amet, consetetur sadipscing elitr, sed diam nonumy eirmod tempor invidunt ut labore et dolore magna aliquyam erat, sed diam voluptua.\n",
      "At vero eos et accusam et justo duo dolores et ea rebum. Stet clita kasd gubergren, no sea takimata sanctus est Lorem ipsum dolor sit amet.\n"
     ]
    }
   ],
   "source": [
    "## Zeilenweise Ausgabe\n",
    "file = open(\"../Datasets/lorem_ipsum.txt\", \"r\")\n",
    "\n",
    "for line in file:\n",
    "    print(line.rstrip())  ## rstrip entfernt alle Leerzeichen am Ende eines Strings\n",
    "\n",
    "file.close()"
   ]
  },
  {
   "cell_type": "markdown",
   "id": "bc921d29-c0dd-4576-8ddb-d42d2e23c7db",
   "metadata": {},
   "source": [
    "readlines()"
   ]
  },
  {
   "cell_type": "code",
   "execution_count": 9,
   "id": "7b2cd78e-a821-40b7-8e30-11e8af35d8db",
   "metadata": {},
   "outputs": [
    {
     "data": {
      "text/plain": [
       "['Lorem ipsum dolor sit amet, consetetur sadipscing elitr, sed diam nonumy eirmod tempor invidunt ut labore et dolore magna aliquyam erat, sed diam voluptua. \\n',\n",
       " 'At vero eos et accusam et justo duo dolores et ea rebum. Stet clita kasd gubergren, no sea takimata sanctus est Lorem ipsum dolor sit amet. Lorem ipsum dolor sit amet, consetetur sadipscing elitr, sed diam nonumy eirmod tempor invidunt ut labore et dolore magna aliquyam erat, sed diam voluptua. \\n',\n",
       " 'At vero eos et accusam et justo duo dolores et ea rebum. Stet clita kasd gubergren, no sea takimata sanctus est Lorem ipsum dolor sit amet.']"
      ]
     },
     "execution_count": 9,
     "metadata": {},
     "output_type": "execute_result"
    }
   ],
   "source": [
    "text = open(\"../Datasets/lorem_ipsum.txt\", \"r\").readlines()\n",
    "\n",
    "text ##wird als Liste Zeile für Zeile eingelesen"
   ]
  },
  {
   "cell_type": "code",
   "execution_count": 10,
   "id": "ef9d5c9d-72b0-411b-b908-ff66eb4591bb",
   "metadata": {},
   "outputs": [
    {
     "data": {
      "text/plain": [
       "'Lorem ipsum dolor sit amet, consetetur sadipscing elitr, sed diam nonumy eirmod tempor invidunt ut labore et dolore magna aliquyam erat, sed diam voluptua. \\n'"
      ]
     },
     "execution_count": 10,
     "metadata": {},
     "output_type": "execute_result"
    }
   ],
   "source": [
    "text[0] ## erste Zeile"
   ]
  },
  {
   "cell_type": "markdown",
   "id": "1b310f06-b6aa-45e0-ba94-2ea87784cacf",
   "metadata": {},
   "source": [
    "read()"
   ]
  },
  {
   "cell_type": "code",
   "execution_count": 13,
   "id": "5bd7236b-e3a4-4f5e-aac9-add4104347ca",
   "metadata": {},
   "outputs": [
    {
     "data": {
      "text/plain": [
       "'Lo'"
      ]
     },
     "execution_count": 13,
     "metadata": {},
     "output_type": "execute_result"
    }
   ],
   "source": [
    "file = open(\"../Datasets/lorem_ipsum.txt\", \"r\").read()"
   ]
  },
  {
   "cell_type": "code",
   "execution_count": 14,
   "id": "65610a45-3dec-4f27-baa4-78fef0d591dc",
   "metadata": {},
   "outputs": [
    {
     "data": {
      "text/plain": [
       "'Lorem ipsum dolor sit amet, co'"
      ]
     },
     "execution_count": 14,
     "metadata": {},
     "output_type": "execute_result"
    }
   ],
   "source": [
    "file[0:30] ##komplette Datei wird in einen String eingelesen"
   ]
  },
  {
   "cell_type": "code",
   "execution_count": 15,
   "id": "5861bcf0-b7a6-4ea9-b31d-44cc179e4723",
   "metadata": {},
   "outputs": [
    {
     "name": "stdout",
     "output_type": "stream",
     "text": [
      "Lorem ipsum dolor sit amet, consetetur sadipscing elitr, sed diam nonumy eirmod tempor invidunt ut labore et dolore magna aliquyam erat, sed diam voluptua. \n",
      "At vero eos et accusam et justo duo dolores et ea rebum. Stet clita kasd gubergren, no sea takimata sanctus est Lorem ipsum dolor sit amet. Lorem ipsum dolor sit amet, consetetur sadipscing elitr, sed diam nonumy eirmod tempor invidunt ut labore et dolore magna aliquyam erat, sed diam voluptua. \n",
      "At vero eos et accusam et justo duo dolores et ea rebum. Stet clita kasd gubergren, no sea takimata sanctus est Lorem ipsum dolor sit amet.\n"
     ]
    }
   ],
   "source": [
    "print(file)"
   ]
  },
  {
   "cell_type": "markdown",
   "id": "f817bc5b-6354-49d1-86aa-54d6843418cb",
   "metadata": {},
   "source": [
    "with open()"
   ]
  },
  {
   "cell_type": "code",
   "execution_count": 17,
   "id": "8c8ce9ee-6d60-43cc-b6b2-769c0e9b0ddf",
   "metadata": {},
   "outputs": [
    {
     "name": "stdout",
     "output_type": "stream",
     "text": [
      "Lorem ipsum dolor sit amet, consetetur sadipscing elitr, sed diam nonumy eirmod tempor invidunt ut labore et dolore magna aliquyam erat, sed diam voluptua.\n",
      "At vero eos et accusam et justo duo dolores et ea rebum. Stet clita kasd gubergren, no sea takimata sanctus est Lorem ipsum dolor sit amet. Lorem ipsum dolor sit amet, consetetur sadipscing elitr, sed diam nonumy eirmod tempor invidunt ut labore et dolore magna aliquyam erat, sed diam voluptua.\n",
      "At vero eos et accusam et justo duo dolores et ea rebum. Stet clita kasd gubergren, no sea takimata sanctus est Lorem ipsum dolor sit amet.\n"
     ]
    }
   ],
   "source": [
    "with open(\"../Datasets/lorem_ipsum.txt\", \"r\") as f:\n",
    "    for line in f:\n",
    "        print(line.rstrip())\n",
    "\n",
    "#Datei wird nach Beendigung des with-Blocks automatisch geschlossen"
   ]
  },
  {
   "cell_type": "markdown",
   "id": "61ab3eea-0183-49f1-9d8f-51cfaba8d662",
   "metadata": {},
   "source": [
    "write"
   ]
  },
  {
   "cell_type": "code",
   "execution_count": null,
   "id": "7470d5d1-ea43-47d6-ae5a-cd6eced3ac21",
   "metadata": {},
   "outputs": [],
   "source": [
    "## mode a: Text wird am Ende des Textfiles hinzugefügt\n",
    "# mode w: Text im File wird überschrieben"
   ]
  },
  {
   "cell_type": "code",
   "execution_count": 18,
   "id": "e1b205ea-ec80-42b4-8fae-73910e827415",
   "metadata": {},
   "outputs": [
    {
     "name": "stdout",
     "output_type": "stream",
     "text": [
      "\n",
      "See you soon!\n"
     ]
    }
   ],
   "source": [
    "f = open(\"../Datasets/demofile2.txt\", \"a\")  ##erstellt neuen file, falls noch nicht existiert\n",
    "f.write(\"\\nSee you soon!\")\n",
    "f.close()\n",
    "\n",
    "#open and read the file after the appending:\n",
    "f = open(\"../Datasets/demofile2.txt\", \"r\")\n",
    "print(f.read())\n",
    "f.close()"
   ]
  },
  {
   "cell_type": "markdown",
   "id": "8c1069bb-d23c-4a6d-9843-8b3f67e8ba7e",
   "metadata": {},
   "source": [
    "writelines()"
   ]
  },
  {
   "cell_type": "code",
   "execution_count": 22,
   "id": "7a6a0095-f9fd-46a7-aefd-3761e5354ce1",
   "metadata": {},
   "outputs": [
    {
     "name": "stdout",
     "output_type": "stream",
     "text": [
      "See you soon!\n",
      "Over and out.\n"
     ]
    }
   ],
   "source": [
    "f = open(\"demofile3.txt\", \"a\")\n",
    "f.writelines([\"See you soon!\\n\", \"Over and out.\"])\n",
    "f.close()\n",
    "\n",
    "#open and read the file after the appending:\n",
    "f = open(\"demofile3.txt\", \"r\")\n",
    "print(f.read())\n",
    "f.close()"
   ]
  },
  {
   "cell_type": "code",
   "execution_count": null,
   "id": "739ff245-4455-43f5-a091-6115ef406de9",
   "metadata": {},
   "outputs": [],
   "source": [
    "f = open(\"demofile3.txt\", \"w\")\n",
    "f.writelines([\"See you soon!\\n\", \"Over and out.\"])\n",
    "f.close()\n",
    "\n",
    "#open and read the file after the appending:\n",
    "f = open(\"demofile3.txt\", \"r\")\n",
    "print(f.read())\n",
    "f.close()"
   ]
  },
  {
   "cell_type": "markdown",
   "id": "6983f00e-5d2c-46de-8965-e77523bd7b16",
   "metadata": {},
   "source": [
    "pickle-Modul"
   ]
  },
  {
   "cell_type": "code",
   "execution_count": 23,
   "id": "63368f74-fc7c-4797-84d6-5999061c5010",
   "metadata": {},
   "outputs": [],
   "source": [
    "## File speichern\n",
    "\n",
    "import pickle\n",
    "\n",
    "my_list = [1,2,3,4,5,6]\n",
    "\n",
    "file = open(\"../Datasets/list.pkl\", \"wb\") ## wb = write binary\n",
    "\n",
    "pickle.dump(my_list, file)\n",
    "\n",
    "file.close()"
   ]
  },
  {
   "cell_type": "code",
   "execution_count": 24,
   "id": "5a9a8c32-1956-4252-afcc-964ce5230ec5",
   "metadata": {},
   "outputs": [
    {
     "name": "stdout",
     "output_type": "stream",
     "text": [
      "[1, 2, 3, 4, 5, 6]\n"
     ]
    }
   ],
   "source": [
    "## File einlesen\n",
    "\n",
    "file = open(\"../Datasets/list.pkl\", \"rb\") ## rb = read binary\n",
    "\n",
    "alte_liste = pickle.load(file)\n",
    "print(alte_liste)\n",
    "\n",
    "file.close()"
   ]
  },
  {
   "cell_type": "markdown",
   "id": "d6fb9a1b-0e55-40d0-b27f-1b9f9b8428df",
   "metadata": {},
   "source": [
    "shelve Modul"
   ]
  },
  {
   "cell_type": "code",
   "execution_count": 2,
   "id": "c0a6283b-216c-4ed5-986d-1906aac80c38",
   "metadata": {},
   "outputs": [],
   "source": [
    "import shelve"
   ]
  },
  {
   "cell_type": "code",
   "execution_count": 3,
   "id": "3b144241-84fe-4885-8166-d31ee90f28f5",
   "metadata": {},
   "outputs": [],
   "source": [
    "s = shelve.open(\"../Datasets/MyShelve\")"
   ]
  },
  {
   "cell_type": "code",
   "execution_count": 28,
   "id": "96715acd-6331-4ee4-b5fb-027cf4bc9f4e",
   "metadata": {},
   "outputs": [],
   "source": [
    "s[\"schulung\"] =  \"Python Komplett\"\n",
    "s[\"Dozent\"] = \"Timm Gieger\""
   ]
  },
  {
   "cell_type": "code",
   "execution_count": 29,
   "id": "72237336-f36f-4590-b675-879741487cd2",
   "metadata": {},
   "outputs": [],
   "source": [
    "s.close()"
   ]
  },
  {
   "cell_type": "code",
   "execution_count": null,
   "id": "e820f3f0-9093-4353-8314-2d6461ad223f",
   "metadata": {},
   "outputs": [],
   "source": [
    "## Kernel neu starten und erneutes einlesen\n",
    "import shelve\n",
    "s = shelve.open(\"../Datasets/MyShelve\")"
   ]
  },
  {
   "cell_type": "code",
   "execution_count": 4,
   "id": "518037fe-45c0-46d8-8102-f1fded2f5468",
   "metadata": {},
   "outputs": [
    {
     "data": {
      "text/plain": [
       "'Python Komplett'"
      ]
     },
     "execution_count": 4,
     "metadata": {},
     "output_type": "execute_result"
    }
   ],
   "source": [
    "s[\"schulung\"]"
   ]
  },
  {
   "cell_type": "code",
   "execution_count": 5,
   "id": "032e544f-a927-47ac-acd0-bad9b0066f75",
   "metadata": {},
   "outputs": [
    {
     "name": "stdout",
     "output_type": "stream",
     "text": [
      "schulung Python Komplett\n",
      "Dozent Timm Gieger\n"
     ]
    }
   ],
   "source": [
    "for k,v in s.items():\n",
    "    print(k,v)"
   ]
  }
 ],
 "metadata": {
  "kernelspec": {
   "display_name": "Python 3 (ipykernel)",
   "language": "python",
   "name": "python3"
  },
  "language_info": {
   "codemirror_mode": {
    "name": "ipython",
    "version": 3
   },
   "file_extension": ".py",
   "mimetype": "text/x-python",
   "name": "python",
   "nbconvert_exporter": "python",
   "pygments_lexer": "ipython3",
   "version": "3.11.5"
  }
 },
 "nbformat": 4,
 "nbformat_minor": 5
}
