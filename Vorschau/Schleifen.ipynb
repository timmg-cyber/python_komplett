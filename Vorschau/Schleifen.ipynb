{
 "cells": [
  {
   "cell_type": "markdown",
   "id": "7a97110e",
   "metadata": {},
   "source": [
    "Schleifen"
   ]
  },
  {
   "cell_type": "markdown",
   "id": "334bb839",
   "metadata": {},
   "source": [
    "while Schleife"
   ]
  },
  {
   "cell_type": "code",
   "execution_count": 15,
   "id": "d2f4b192",
   "metadata": {},
   "outputs": [
    {
     "name": "stdout",
     "output_type": "stream",
     "text": [
      "du hast die Schleife durchlaufen\n"
     ]
    }
   ],
   "source": [
    "zahl = 0\n",
    "\n",
    "while zahl <= 10:\n",
    "    zahl+=1\n",
    "else:\n",
    "    print(\"du hast die Schleife durchlaufen\")"
   ]
  },
  {
   "cell_type": "markdown",
   "id": "f5ee0eec",
   "metadata": {},
   "source": [
    "For-Schleife"
   ]
  },
  {
   "cell_type": "code",
   "execution_count": 9,
   "id": "5d09a3ae",
   "metadata": {},
   "outputs": [],
   "source": [
    "my_list = [\"null\",\"eins\",\"zwei\",\"drei\",\"vier\",\"fünf\",\"sechs\"]"
   ]
  },
  {
   "cell_type": "code",
   "execution_count": 10,
   "id": "66b5a9d1",
   "metadata": {},
   "outputs": [
    {
     "name": "stdout",
     "output_type": "stream",
     "text": [
      "null\n",
      "eins\n",
      "zwei\n"
     ]
    }
   ],
   "source": [
    "## break\n",
    "\n",
    "for elem in my_list:\n",
    "    if(elem == \"drei\"):\n",
    "        break\n",
    "    print(elem)"
   ]
  },
  {
   "cell_type": "code",
   "execution_count": 11,
   "id": "067dd9d0",
   "metadata": {},
   "outputs": [
    {
     "name": "stdout",
     "output_type": "stream",
     "text": [
      "null\n",
      "eins\n",
      "zwei\n",
      "vier\n",
      "fünf\n",
      "sechs\n"
     ]
    }
   ],
   "source": [
    "## continue\n",
    "\n",
    "for elem in my_list:\n",
    "    if(elem == \"drei\"):\n",
    "        continue\n",
    "    print(elem)   ##wird nach continue nicht ausgeführt"
   ]
  },
  {
   "cell_type": "code",
   "execution_count": 12,
   "id": "0e8b7d8b",
   "metadata": {},
   "outputs": [
    {
     "name": "stdout",
     "output_type": "stream",
     "text": [
      "null\n",
      "eins\n",
      "zwei\n",
      "drei\n",
      "vier\n",
      "fünf\n",
      "sechs\n"
     ]
    }
   ],
   "source": [
    "## pass\n",
    "\n",
    "for elem in my_list:\n",
    "    if(elem == \"drei\"):\n",
    "        pass     ##Platzhalter für Code (hat keinen Effekt)\n",
    "    print(elem)   "
   ]
  },
  {
   "cell_type": "markdown",
   "id": "34a2e063",
   "metadata": {},
   "source": [
    "Enumerator"
   ]
  },
  {
   "cell_type": "code",
   "execution_count": 7,
   "id": "0438467a",
   "metadata": {},
   "outputs": [
    {
     "name": "stdout",
     "output_type": "stream",
     "text": [
      "0\n",
      "null\n",
      "1\n",
      "eins\n",
      "2\n",
      "zwei\n",
      "3\n",
      "drei\n",
      "4\n",
      "vier\n",
      "5\n",
      "fünf\n",
      "6\n",
      "sechs\n"
     ]
    }
   ],
   "source": [
    "for i,elem in enumerate(my_list):\n",
    "    print(i)\n",
    "    print(elem)"
   ]
  },
  {
   "cell_type": "markdown",
   "id": "f46a3328",
   "metadata": {},
   "source": [
    "range"
   ]
  },
  {
   "cell_type": "code",
   "execution_count": 17,
   "id": "47f5393d",
   "metadata": {},
   "outputs": [
    {
     "name": "stdout",
     "output_type": "stream",
     "text": [
      "0\n",
      "1\n",
      "2\n",
      "3\n",
      "4\n",
      "5\n",
      "6\n",
      "7\n",
      "8\n",
      "9\n"
     ]
    }
   ],
   "source": [
    "for i in range(0,10):  #range(start,stop,step)\n",
    "    print(i)"
   ]
  },
  {
   "cell_type": "code",
   "execution_count": 20,
   "id": "c1dfe0cd",
   "metadata": {},
   "outputs": [
    {
     "name": "stdout",
     "output_type": "stream",
     "text": [
      "2\n",
      "4\n",
      "6\n",
      "8\n"
     ]
    }
   ],
   "source": [
    "for i in range(2,10,2):\n",
    "    print(i)"
   ]
  }
 ],
 "metadata": {
  "kernelspec": {
   "display_name": "Python 3 (ipykernel)",
   "language": "python",
   "name": "python3"
  },
  "language_info": {
   "codemirror_mode": {
    "name": "ipython",
    "version": 3
   },
   "file_extension": ".py",
   "mimetype": "text/x-python",
   "name": "python",
   "nbconvert_exporter": "python",
   "pygments_lexer": "ipython3",
   "version": "3.11.5"
  }
 },
 "nbformat": 4,
 "nbformat_minor": 5
}
