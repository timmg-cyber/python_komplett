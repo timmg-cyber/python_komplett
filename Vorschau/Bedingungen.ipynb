{
 "cells": [
  {
   "cell_type": "markdown",
   "id": "da4423b2",
   "metadata": {},
   "source": [
    "Basic Bedingungen"
   ]
  },
  {
   "cell_type": "code",
   "execution_count": 4,
   "id": "6bc50e7a",
   "metadata": {},
   "outputs": [
    {
     "name": "stdout",
     "output_type": "stream",
     "text": [
      "Zahl: 1\n",
      "<class 'str'>\n"
     ]
    }
   ],
   "source": [
    "x = input(\"Zahl: \")\n",
    "\n",
    "print(type(x))"
   ]
  },
  {
   "cell_type": "code",
   "execution_count": 7,
   "id": "f8f54f8e",
   "metadata": {},
   "outputs": [
    {
     "name": "stdout",
     "output_type": "stream",
     "text": [
      "Zahl:150\n"
     ]
    }
   ],
   "source": [
    "x = int(input(\"Zahl:\")) ##funktioniert nur mit Zahlen von Typ int --> Exceptions kommen noch"
   ]
  },
  {
   "cell_type": "code",
   "execution_count": 9,
   "id": "dda21481",
   "metadata": {},
   "outputs": [
    {
     "name": "stdout",
     "output_type": "stream",
     "text": [
      "Zahl:0\n",
      "Die Zahl ist genau null\n"
     ]
    }
   ],
   "source": [
    "x = int(input(\"Zahl:\")) ##funktioniert nur mit Zahlen von Typ int --> Exceptions kommen noch\n",
    "\n",
    "if x > 0:\n",
    "    print(\"Die Zahl ist größer als 0\")\n",
    "elif x < 0:\n",
    "    print(\"Die Zahl ist negativ\")\n",
    "elif x == 0:\n",
    "    print(\"Die Zahl ist genau null\")"
   ]
  },
  {
   "cell_type": "markdown",
   "id": "7286ddaa",
   "metadata": {},
   "source": [
    "Mehrfache Boolsche Bedingung"
   ]
  },
  {
   "cell_type": "code",
   "execution_count": 13,
   "id": "990b852c",
   "metadata": {},
   "outputs": [
    {
     "name": "stdout",
     "output_type": "stream",
     "text": [
      "Zahl:5\n",
      "das ist erlaubter Code\n"
     ]
    }
   ],
   "source": [
    "## Whitelisting besser als Blacklisting (ähnlich wie bei Firewall)\n",
    "\n",
    "zahl = int(input(\"Zahl:\")) ##funktioniert nur mit Zahlen von Typ int --> Exceptions kommen noch\n",
    "\n",
    "## Zahl darf nicht zwischen 5-10 liegen (6,7,8,9 verboten)\n",
    "\n",
    "if (zahl < 6) or (zahl > 9):\n",
    "    print(\"das ist erlaubter Code\")\n",
    "else:\n",
    "    print(\"das ist nicht erlaubter Code\")"
   ]
  },
  {
   "cell_type": "code",
   "execution_count": 14,
   "id": "f4b32ffd",
   "metadata": {},
   "outputs": [
    {
     "name": "stdout",
     "output_type": "stream",
     "text": [
      "das ist erlaubter Code\n"
     ]
    }
   ],
   "source": [
    "## Alternative für or\n",
    "if (zahl < 6) | (zahl > 9):      ## & für and\n",
    "    print(\"das ist erlaubter Code\")\n",
    "else:\n",
    "    print(\"das ist nicht erlaubter Code\")"
   ]
  },
  {
   "cell_type": "code",
   "execution_count": 16,
   "id": "19e4390b",
   "metadata": {},
   "outputs": [
    {
     "name": "stdout",
     "output_type": "stream",
     "text": [
      "Zahl:11\n",
      "das ist nicht erlaubter Code\n"
     ]
    }
   ],
   "source": [
    "## Zahl muss durch 2 teilbar und größer als 10 sein\n",
    "\n",
    "zahl = int(input(\"Zahl:\"))\n",
    "\n",
    "if (zahl % 2 == 0) and (zahl > 10):\n",
    "    print(\"das ist erlaubter Code\")\n",
    "else:\n",
    "    print(\"das ist nicht erlaubter Code\")"
   ]
  },
  {
   "cell_type": "markdown",
   "id": "a43c0906",
   "metadata": {},
   "source": [
    "isdigit, isinstance"
   ]
  },
  {
   "cell_type": "code",
   "execution_count": 20,
   "id": "6ed8dec9",
   "metadata": {},
   "outputs": [
    {
     "name": "stdout",
     "output_type": "stream",
     "text": [
      "Mein Text:10\n",
      "Das ist eine Zahl\n"
     ]
    }
   ],
   "source": [
    "mytext = input(\"Mein Text:\") ##Geht nur für Int --> für Floats brauchen wir Exceptions\n",
    "\n",
    "if mytext.isdigit():\n",
    "    mytext = int(mytext) #<--- wird zuerst ausgfeführt\n",
    "\n",
    "if isinstance(mytext,str):   #<---- Entweder diese\n",
    "    print(\"Das ist ein String\")\n",
    "elif isinstance(mytext,(int,float)):  # <--- oder diese als zweites\n",
    "    print(\"Das ist eine Zahl\")"
   ]
  },
  {
   "cell_type": "code",
   "execution_count": 25,
   "id": "73945b14",
   "metadata": {},
   "outputs": [
    {
     "name": "stdout",
     "output_type": "stream",
     "text": [
      "True\n"
     ]
    }
   ],
   "source": [
    "## Why isinstance\n",
    "\n",
    "class myObj:   ##Man kann eigene Klassen abfragen\n",
    "    name = \"John\"\n",
    "\n",
    "y = myObj()\n",
    "\n",
    "x = isinstance(y, myObj)\n",
    "\n",
    "print(x)"
   ]
  },
  {
   "cell_type": "markdown",
   "id": "b84ef249",
   "metadata": {},
   "source": [
    "Verzweigte Bedingungen"
   ]
  },
  {
   "cell_type": "code",
   "execution_count": 46,
   "id": "70eb06e1",
   "metadata": {},
   "outputs": [
    {
     "name": "stdout",
     "output_type": "stream",
     "text": [
      "Alter verifiziert\n",
      "Kein Rabatt\n"
     ]
    }
   ],
   "source": [
    "## Wir wollen checken ob sich jemand einen Film ab 16 anschauen darf oder nicht und welcher Rabatt angewandt wird oder nicht\n",
    "\n",
    "person = (16,None)\n",
    "person = (16,\"Schüler\")\n",
    "\n",
    "alter, role = person\n",
    "\n",
    "if alter >= 16:\n",
    "    print(\"Alter verifiziert\")\n",
    "    if role == \"Student\":\n",
    "        print(\"Studentenrabatt\")\n",
    "    elif role == \"Schüler\":\n",
    "        print(\"Schülerrabatt\")\n",
    "    else: print(\"Kein Rabatt\")\n",
    "else:\n",
    "    print(\"Alterscheck fehlgeschlagen\")"
   ]
  },
  {
   "cell_type": "markdown",
   "id": "af4aedde",
   "metadata": {},
   "source": [
    "Listenbezogene Boolsche Operatoren"
   ]
  },
  {
   "cell_type": "code",
   "execution_count": 34,
   "id": "0b51329a",
   "metadata": {},
   "outputs": [
    {
     "name": "stdout",
     "output_type": "stream",
     "text": [
      "Timm ist am Start\n"
     ]
    }
   ],
   "source": [
    "my_list = [\"Timm\", \"Max\", \"Thomas\", \"Marco\"]\n",
    "\n",
    "#my_list.remove(\"Timm\")\n",
    "\n",
    "if \"Timm\" in my_list:\n",
    "    print(\"Timm ist am Start\")\n",
    "else:print(\"Timm ist nicht am Start\") # Einzeilige Anweisungen müssen nicht eingerückt werden, ist aber trotzdem besserer Stil"
   ]
  },
  {
   "cell_type": "code",
   "execution_count": 35,
   "id": "88832dfe",
   "metadata": {},
   "outputs": [],
   "source": [
    "my_list = [\"Timm\", \"Max\", \"Thomas\", \"Marco\"]\n",
    "my_new_list = []"
   ]
  },
  {
   "cell_type": "code",
   "execution_count": 43,
   "id": "99992a21",
   "metadata": {},
   "outputs": [
    {
     "name": "stdout",
     "output_type": "stream",
     "text": [
      "liste vollständig transferiert\n",
      "[]\n",
      "['Marco', 'Thomas', 'Max', 'Timm']\n"
     ]
    }
   ],
   "source": [
    "if len(my_list) > 0:\n",
    "    my_new_list.append(my_list.pop())\n",
    "else: print(\"liste vollständig transferiert\")\n",
    "    \n",
    "print(my_list)\n",
    "print(my_new_list)"
   ]
  },
  {
   "cell_type": "code",
   "execution_count": null,
   "id": "d227b13e",
   "metadata": {},
   "outputs": [],
   "source": [
    "## Es gibt noch viel mehr Boolsches Operatoren in der Python-Doku"
   ]
  }
 ],
 "metadata": {
  "kernelspec": {
   "display_name": "Python 3 (ipykernel)",
   "language": "python",
   "name": "python3"
  },
  "language_info": {
   "codemirror_mode": {
    "name": "ipython",
    "version": 3
   },
   "file_extension": ".py",
   "mimetype": "text/x-python",
   "name": "python",
   "nbconvert_exporter": "python",
   "pygments_lexer": "ipython3",
   "version": "3.11.5"
  }
 },
 "nbformat": 4,
 "nbformat_minor": 5
}
