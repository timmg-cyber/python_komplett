{
 "cells": [
  {
   "cell_type": "markdown",
   "id": "b24f4d03",
   "metadata": {},
   "source": [
    "Klasse definieren"
   ]
  },
  {
   "cell_type": "code",
   "execution_count": 1,
   "id": "fbc47d4b",
   "metadata": {},
   "outputs": [
    {
     "data": {
      "text/plain": [
       "__main__.Auto"
      ]
     },
     "execution_count": 1,
     "metadata": {},
     "output_type": "execute_result"
    }
   ],
   "source": [
    "#Definition mit anfangendem Großbustaben\n",
    "class Auto:\n",
    "    pass\n",
    "\n",
    "\n",
    "auto = Auto()\n",
    "\n",
    "type(auto)"
   ]
  },
  {
   "cell_type": "code",
   "execution_count": 4,
   "id": "1caac69a",
   "metadata": {},
   "outputs": [
    {
     "data": {
      "text/plain": [
       "{'reifenmarke': 'Tire X Modell Y', 'reifenanzahl': 4}"
      ]
     },
     "execution_count": 4,
     "metadata": {},
     "output_type": "execute_result"
    }
   ],
   "source": [
    "## Intern wird ein Dictionary aufgebaut mit allen Instanzvariablen\n",
    "auto.__dict__"
   ]
  },
  {
   "cell_type": "markdown",
   "id": "5318f188",
   "metadata": {},
   "source": [
    "Instanz- und Klassenvariablen"
   ]
  },
  {
   "cell_type": "code",
   "execution_count": null,
   "id": "24495670",
   "metadata": {},
   "outputs": [],
   "source": [
    "##Instanzvariablen\n",
    "## Zuweisung möglich, falls nicht deaktiviert\n",
    "auto.reifenmarke = \"Tire X Modell Y\"\n",
    "auto.reifenanzahl = 4\n",
    "\n",
    "print(auto.reifenmarke)\n",
    "print(auto.reifenanzahl)"
   ]
  },
  {
   "cell_type": "code",
   "execution_count": 6,
   "id": "965b475f",
   "metadata": {},
   "outputs": [
    {
     "name": "stdout",
     "output_type": "stream",
     "text": [
      "1\n",
      "1\n"
     ]
    }
   ],
   "source": [
    "## Klassenvariablen\n",
    "Auto.anzahl = 0\n",
    "neuesAuto = Auto()\n",
    "\n",
    "Auto.anzahl +=1\n",
    "\n",
    "print(Auto.anzahl)\n",
    "print(neuesAuto.anzahl)"
   ]
  },
  {
   "cell_type": "code",
   "execution_count": 8,
   "id": "91128d32",
   "metadata": {},
   "outputs": [
    {
     "name": "stdout",
     "output_type": "stream",
     "text": [
      "{}\n",
      "{'marke': 'BMW'}\n",
      "Porsche\n",
      "BMW\n"
     ]
    }
   ],
   "source": [
    "## Klassenatribut ist für jedes Objekt gleich, Instanzvariablen variieren zwischen Objekten\n",
    "Auto.marke = \"Porsche\"\n",
    "\n",
    "weiteresAuto = Auto()\n",
    "\n",
    "print(weiteresAuto.__dict__)\n",
    "\n",
    "weiteresAuto.marke = \"BMW\"\n",
    "\n",
    "print(weiteresAuto.__dict__) ##wenn keine Instanzvariable existiert, wird Klassenvariable genommen\n",
    "\n",
    "nochEinAuto = Auto()\n",
    "\n",
    "print(nochEinAuto.marke)\n",
    "print(weiteresAuto.marke)"
   ]
  },
  {
   "cell_type": "markdown",
   "id": "971e3860",
   "metadata": {},
   "source": [
    "Methoden definieren"
   ]
  },
  {
   "cell_type": "code",
   "execution_count": 9,
   "id": "1d243e1b",
   "metadata": {},
   "outputs": [
    {
     "name": "stdout",
     "output_type": "stream",
     "text": [
      "Das Auto fährt\n"
     ]
    }
   ],
   "source": [
    "##Methoden haben als erstes Argument immer self --> das Objekt mit dem die Methode aufgerufen wird\n",
    "class Auto:\n",
    "    \n",
    "    def auto_fahren(self):\n",
    "        print(\"Das Auto fährt\")\n",
    "        \n",
    "\n",
    "meinAuto = Auto()\n",
    "meinAuto.auto_fahren() ##self muss hier nicht angegeben werden, da das Objekt automatisch übergeben wird"
   ]
  },
  {
   "cell_type": "code",
   "execution_count": 12,
   "id": "7f0a4037",
   "metadata": {},
   "outputs": [
    {
     "name": "stdout",
     "output_type": "stream",
     "text": [
      "Das Fahrzeug hat noch keinen Besitzer.\n",
      "Das Fahrzeug gehört Timm Gieger\n"
     ]
    }
   ],
   "source": [
    "class Auto:\n",
    "    #owner = None ##kann ebenfalls in Klasse definiert werden\n",
    "    \n",
    "    def auto_fahren(self):\n",
    "        print(\"Das Auto fährt\")\n",
    "        \n",
    "    def has_owner(self):\n",
    "        if self.owner:\n",
    "            return f\"Das Fahrzeug gehört {self.owner}\"\n",
    "        else:\n",
    "            return f\"Das Fahrzeug hat noch keinen Besitzer.\"\n",
    "\n",
    "Auto.owner = None # Autos haben erstmal keinen Owner\n",
    "meinAuto = Auto()\n",
    "print(meinAuto.has_owner())\n",
    "meinAuto.owner = \"Timm Gieger\"\n",
    "\n",
    "print(meinAuto.has_owner())"
   ]
  },
  {
   "cell_type": "code",
   "execution_count": 13,
   "id": "689443d9",
   "metadata": {},
   "outputs": [
    {
     "name": "stdout",
     "output_type": "stream",
     "text": [
      "Das Fahrzeug hat noch keinen Besitzer.\n"
     ]
    }
   ],
   "source": [
    "anderesAuto = Auto()\n",
    "print(anderesAuto.has_owner())"
   ]
  },
  {
   "cell_type": "markdown",
   "id": "4954dda5",
   "metadata": {},
   "source": [
    "Init-Methode"
   ]
  },
  {
   "cell_type": "code",
   "execution_count": 14,
   "id": "b44eee33",
   "metadata": {},
   "outputs": [
    {
     "data": {
      "text/plain": [
       "'Porsche'"
      ]
     },
     "execution_count": 14,
     "metadata": {},
     "output_type": "execute_result"
    }
   ],
   "source": [
    "## Auch Konstruktor genannt\n",
    "class Auto:\n",
    "    def __init__(self,owner, marke, baujahr):\n",
    "        self.owner = owner\n",
    "        self.marke = marke\n",
    "        self.baujahr = baujahr\n",
    "    \n",
    "    def auto_fahren(self):\n",
    "        print(\"Das Auto fährt\")\n",
    "        \n",
    "    def has_owner(self):\n",
    "        if self.owner:\n",
    "            return f\"Das Fahrzeug gehört {self.owner}\"\n",
    "        else:\n",
    "            return f\"Das Fahrzeug hat noch keinen Besitzer.\"\n",
    "\n",
    "        \n",
    "meinAuto = Auto(None,\"Porsche\",2020)\n",
    "\n",
    "meinAuto.marke\n"
   ]
  },
  {
   "cell_type": "code",
   "execution_count": 15,
   "id": "f50db686",
   "metadata": {},
   "outputs": [
    {
     "data": {
      "text/plain": [
       "'Das Fahrzeug hat noch keinen Besitzer.'"
      ]
     },
     "execution_count": 15,
     "metadata": {},
     "output_type": "execute_result"
    }
   ],
   "source": [
    "meinAuto.has_owner()"
   ]
  },
  {
   "cell_type": "markdown",
   "id": "f8f92f38",
   "metadata": {},
   "source": [
    "Destruktor"
   ]
  },
  {
   "cell_type": "code",
   "execution_count": 16,
   "id": "39e9ed01",
   "metadata": {},
   "outputs": [],
   "source": [
    "class Auto:\n",
    "    def __init__(self,owner, marke, baujahr):\n",
    "        self.owner = owner\n",
    "        self.marke = marke\n",
    "        self.baujahr = baujahr\n",
    "        print(f\"Auto mit owner {self.owner}, marke {self.marke} und baujahr {self.baujahr} wurde erstellt\")\n",
    "    \n",
    "    def __del__(self):\n",
    "        print(f\"Auto mit owner {self.owner}, marke {self.marke} und baujahr {self.baujahr} wurde gelöscht\")\n",
    "    \n",
    "    def auto_fahren(self):\n",
    "        print(\"Das Auto fährt\")\n",
    "        \n",
    "    def has_owner(self):\n",
    "        if self.owner:\n",
    "            return f\"Das Fahrzeug gehört {self.owner}\"\n",
    "        else:\n",
    "            return f\"Das Fahrzeug hat noch keinen Besitzer.\""
   ]
  },
  {
   "cell_type": "code",
   "execution_count": 18,
   "id": "bfb3341f",
   "metadata": {},
   "outputs": [
    {
     "name": "stdout",
     "output_type": "stream",
     "text": [
      "Auto mit owner Timm Gieger, marke Porsche und baujahr 2020 wurde erstellt\n",
      "Auto mit owner Timm Gieger, marke Porsche und baujahr 2020 wurde gelöscht\n"
     ]
    }
   ],
   "source": [
    "meinAuto = Auto(\"Timm Gieger\", \"Porsche\", 2020)\n",
    "del meinAuto"
   ]
  },
  {
   "cell_type": "markdown",
   "id": "d0b6b1ab",
   "metadata": {},
   "source": [
    "Getter / Setter"
   ]
  },
  {
   "cell_type": "code",
   "execution_count": null,
   "id": "b0dd1fdd",
   "metadata": {},
   "outputs": [],
   "source": [
    "## Problem jede Instanz kann lesend und schreibend nach dem Konstruktor auf die Methoden zugreifen"
   ]
  },
  {
   "cell_type": "code",
   "execution_count": 26,
   "id": "d20d9ef1",
   "metadata": {},
   "outputs": [
    {
     "name": "stdout",
     "output_type": "stream",
     "text": [
      "Auto mit owner Timm Gieger, marke Porsche und baujahr 2020 wurde erstellt\n"
     ]
    }
   ],
   "source": [
    "class Auto:\n",
    "    \n",
    "    def __init__(self,owner, marke, baujahr):\n",
    "        self.set_owner(owner)\n",
    "        self.set_marke(marke)\n",
    "        self.set_baujahr(baujahr)\n",
    "        print(f\"Auto mit owner {self.__owner}, marke {self.__marke} und baujahr {self.__baujahr} wurde erstellt\")\n",
    "    \n",
    "    def __del__(self):\n",
    "        print(f\"Auto mit owner {self.__owner}, marke {self.__marke} und baujahr {self.__baujahr} wurde gelöscht\")\n",
    "        \n",
    "    \n",
    "    def get_marke(self):\n",
    "        return self.__marke\n",
    "        \n",
    "    \n",
    "    def set_marke(self,marke):\n",
    "        self.__marke = marke\n",
    "        \n",
    "    \n",
    "    def get_owner(self):\n",
    "        return self.__owner\n",
    "    \n",
    "    def set_owner(self,owner):\n",
    "        self.__owner = owner  \n",
    "        \n",
    "    def get_baujahr(self):\n",
    "        return self.baujahr\n",
    "    \n",
    "    def set_baujahr(self,baujahr):\n",
    "        self.__baujahr = baujahr\n",
    "\n",
    "        \n",
    "meinAuto = Auto(\"Timm Gieger\", \"Porsche\", 2020)"
   ]
  },
  {
   "cell_type": "code",
   "execution_count": 28,
   "id": "583a5014",
   "metadata": {},
   "outputs": [
    {
     "name": "stdout",
     "output_type": "stream",
     "text": [
      "Porsche\n"
     ]
    }
   ],
   "source": [
    "#meinAuto.__marke ## Es kann nicht darauf zugegriffen werden\n",
    "\n",
    "print(meinAuto.get_marke()) ## Über getter ist Zugriff möglich"
   ]
  },
  {
   "cell_type": "markdown",
   "id": "9d5d4a34",
   "metadata": {},
   "source": [
    "Sichtbarkeiten"
   ]
  },
  {
   "cell_type": "code",
   "execution_count": null,
   "id": "907b9580",
   "metadata": {},
   "outputs": [],
   "source": [
    "## Alle Sichtbarkeiten und Zugriffsmechanismen sind \"umgehbar\". Der reine default in Python ist public und es kann nur durch\n",
    "## gewisses Codedesign simuliert werden"
   ]
  },
  {
   "cell_type": "code",
   "execution_count": 31,
   "id": "86536d19",
   "metadata": {},
   "outputs": [],
   "source": [
    "class Auto:\n",
    "    def __init__(self,owner, marke, baujahr):\n",
    "        self.__owner = owner  ##Sollte verborgen bleiben\n",
    "        self._baujahr = baujahr ##nicht so schütenswert\n",
    "        self.marke = marke ##für alle ersichtlich\n",
    "\n",
    "        \n",
    "meinAuto = Auto(\"Timm Gieger\", \"Porsche\",2020)"
   ]
  },
  {
   "cell_type": "code",
   "execution_count": 34,
   "id": "cfaea00a",
   "metadata": {},
   "outputs": [
    {
     "ename": "AttributeError",
     "evalue": "'Auto' object has no attribute '__owner'",
     "output_type": "error",
     "traceback": [
      "\u001b[1;31m---------------------------------------------------------------------------\u001b[0m",
      "\u001b[1;31mAttributeError\u001b[0m                            Traceback (most recent call last)",
      "Cell \u001b[1;32mIn[34], line 1\u001b[0m\n\u001b[1;32m----> 1\u001b[0m meinAuto\u001b[38;5;241m.\u001b[39m__owner\n",
      "\u001b[1;31mAttributeError\u001b[0m: 'Auto' object has no attribute '__owner'"
     ]
    }
   ],
   "source": [
    "meinAuto.__owner ##Exception weil private"
   ]
  },
  {
   "cell_type": "code",
   "execution_count": 39,
   "id": "4a838e6c",
   "metadata": {},
   "outputs": [
    {
     "data": {
      "text/plain": [
       "'Timm Gieger'"
      ]
     },
     "execution_count": 39,
     "metadata": {},
     "output_type": "execute_result"
    }
   ],
   "source": [
    "meinAuto._Auto__owner ##Kann aber trotzdem aufgerufen und zugewiesen werden"
   ]
  },
  {
   "cell_type": "code",
   "execution_count": 38,
   "id": "c88b0527",
   "metadata": {},
   "outputs": [
    {
     "data": {
      "text/plain": [
       "{'_Auto__owner': 'Timm Gieger', '_baujahr': 2021, 'marke': 'Porsche'}"
      ]
     },
     "execution_count": 38,
     "metadata": {},
     "output_type": "execute_result"
    }
   ],
   "source": [
    "meinAuto.__dict__"
   ]
  },
  {
   "cell_type": "code",
   "execution_count": 36,
   "id": "31c7b1ad",
   "metadata": {},
   "outputs": [],
   "source": [
    "meinAuto._baujahr ##kann trotzdem aufgerufen werden\n",
    "\n",
    "meinAuto._baujahr = 2021"
   ]
  },
  {
   "cell_type": "code",
   "execution_count": 37,
   "id": "b7add9f4",
   "metadata": {},
   "outputs": [
    {
     "data": {
      "text/plain": [
       "2021"
      ]
     },
     "execution_count": 37,
     "metadata": {},
     "output_type": "execute_result"
    }
   ],
   "source": [
    "meinAuto._baujahr"
   ]
  },
  {
   "cell_type": "markdown",
   "id": "2884ab2a",
   "metadata": {},
   "source": [
    "Properties"
   ]
  },
  {
   "cell_type": "code",
   "execution_count": 29,
   "id": "8acbc4d5",
   "metadata": {
    "scrolled": true
   },
   "outputs": [
    {
     "name": "stdout",
     "output_type": "stream",
     "text": [
      "Auto mit owner Timm Gieger, marke Porsche und baujahr 2020 wurde erstellt\n"
     ]
    },
    {
     "data": {
      "text/plain": [
       "'Porsche'"
      ]
     },
     "execution_count": 29,
     "metadata": {},
     "output_type": "execute_result"
    }
   ],
   "source": [
    "## Get- und Setter Schreibweise ist nicht ganz eingängig, außerdem etwas schwierig zu versionieren\n",
    "## Abhilfe schaffen properties\n",
    "\n",
    "class Auto:\n",
    "    \n",
    "    def __init__(self,owner, marke, baujahr):\n",
    "        self.set_owner(owner)\n",
    "        self.set_marke(marke)\n",
    "        self.set_baujahr(baujahr)\n",
    "        print(f\"Auto mit owner {self.__owner}, marke {self.__marke} und baujahr {self.__baujahr} wurde erstellt\")\n",
    "    \n",
    "    def __del__(self):\n",
    "        print(f\"Auto mit owner {self.__owner}, marke {self.__marke} und baujahr {self.__baujahr} wurde gelöscht\")\n",
    "        \n",
    "    \n",
    "    def get_marke(self):\n",
    "        return self.__marke\n",
    "        \n",
    "    \n",
    "    def set_marke(self,marke):\n",
    "        self.__marke = marke\n",
    "        \n",
    "    \n",
    "    def get_owner(self):\n",
    "        return self.__owner\n",
    "    \n",
    "    def set_owner(self,owner):\n",
    "        self.__owner = owner  \n",
    "        \n",
    "    def get_baujahr(self):\n",
    "        return self.baujahr\n",
    "    \n",
    "    def set_baujahr(self,baujahr):\n",
    "        self.__baujahr = baujahr\n",
    "    \n",
    "    marke = property(get_marke, set_marke)\n",
    "    baujahr = property(get_baujahr, set_baujahr)\n",
    "    owner = property(get_owner, set_owner)\n",
    "        \n",
    "meinAuto = Auto(\"Timm Gieger\", \"Porsche\", 2020)\n",
    "\n",
    "meinAuto.marke"
   ]
  },
  {
   "cell_type": "code",
   "execution_count": 2,
   "id": "57555cf7-128e-422e-beaa-273ab64521e8",
   "metadata": {},
   "outputs": [
    {
     "name": "stdout",
     "output_type": "stream",
     "text": [
      "Auto mit owner Timm Gieger, marke Porsche und baujahr 2020 wurde erstellt\n"
     ]
    },
    {
     "data": {
      "text/plain": [
       "'Timm Gieger'"
      ]
     },
     "execution_count": 2,
     "metadata": {},
     "output_type": "execute_result"
    }
   ],
   "source": [
    "##Properties mit Dekorateuren\n",
    "class Auto:\n",
    "    def __init__(self,owner, marke, baujahr):\n",
    "        self.owner = owner\n",
    "        self.marke = marke\n",
    "        self.baujahr = baujahr\n",
    "        print(f\"Auto mit owner {self.owner}, marke {self.marke} und baujahr {self.baujahr} wurde erstellt\")\n",
    "    \n",
    "    def __del__(self):\n",
    "        print(f\"Auto mit owner {self.owner}, marke {self.marke} und baujahr {self.baujahr} wurde gelöscht\")\n",
    "\n",
    "    @property\n",
    "    def marke(self):\n",
    "        return self.__marke\n",
    "\n",
    "    @marke.setter\n",
    "    def marke(self,marke):\n",
    "        self.__marke = marke\n",
    "\n",
    "    @property\n",
    "    def owner(self):\n",
    "        return self.__owner\n",
    "\n",
    "    @owner.setter\n",
    "    def owner(self,owner):\n",
    "        self.__owner = owner\n",
    "\n",
    "    @property\n",
    "    def baujahr(self):\n",
    "        return self.__baujahr\n",
    "\n",
    "    @baujahr.setter\n",
    "    def baujahr(self,baujahr):\n",
    "        self.__baujahr = baujahr\n",
    "\n",
    "\n",
    "my_Auto = Auto(\"Timm Gieger\", \"Porsche\", 2020)\n",
    "\n",
    "my_Auto.owner\n",
    "        \n",
    "    "
   ]
  },
  {
   "cell_type": "code",
   "execution_count": null,
   "id": "40abf0e0",
   "metadata": {},
   "outputs": [],
   "source": [
    "## Properties ermöglichen trotz Kapselung den einfachen Zugriff auf die Variablen"
   ]
  },
  {
   "cell_type": "markdown",
   "id": "edcc661d",
   "metadata": {},
   "source": [
    "Print-Methode"
   ]
  },
  {
   "cell_type": "code",
   "execution_count": 3,
   "id": "88321453",
   "metadata": {},
   "outputs": [
    {
     "data": {
      "text/plain": [
       "<__main__.Auto at 0x280324880d0>"
      ]
     },
     "execution_count": 3,
     "metadata": {},
     "output_type": "execute_result"
    }
   ],
   "source": [
    "my_Auto ## Keine String-Repräsentation für Auto vorhanden"
   ]
  },
  {
   "cell_type": "code",
   "execution_count": 10,
   "id": "01419b06-3dd9-419d-bab5-a0332190dffc",
   "metadata": {},
   "outputs": [],
   "source": [
    "class Auto:\n",
    "    def __str__(self):\n",
    "        return \"Du versuchst gerade eine Instanz vom Typ Auto zu printen\""
   ]
  },
  {
   "cell_type": "code",
   "execution_count": 11,
   "id": "2bd7d582-f483-4fc3-9b20-414a9f8bc94d",
   "metadata": {},
   "outputs": [
    {
     "name": "stdout",
     "output_type": "stream",
     "text": [
      "Du versuchst gerade eine Instanz vom Typ Auto zu printen\n"
     ]
    }
   ],
   "source": [
    "my_Auto = Auto()\n",
    "print(my_Auto)"
   ]
  },
  {
   "cell_type": "code",
   "execution_count": 12,
   "id": "6a177bba-8c4f-42c3-ab48-ec622b9ebe5d",
   "metadata": {},
   "outputs": [
    {
     "data": {
      "text/plain": [
       "'Du versuchst gerade eine Instanz vom Typ Auto zu printen'"
      ]
     },
     "execution_count": 12,
     "metadata": {},
     "output_type": "execute_result"
    }
   ],
   "source": [
    "str(my_Auto)"
   ]
  },
  {
   "cell_type": "markdown",
   "id": "056a5b2f",
   "metadata": {},
   "source": [
    "Vererbung"
   ]
  },
  {
   "cell_type": "code",
   "execution_count": 14,
   "id": "f5e73454",
   "metadata": {},
   "outputs": [
    {
     "name": "stdout",
     "output_type": "stream",
     "text": [
      "Logging In\n",
      "True\n",
      "Logging Out\n",
      "False\n"
     ]
    }
   ],
   "source": [
    "class User:\n",
    "    def __init__(self, vorname, nachname, email):\n",
    "        self.vorname = vorname\n",
    "        self.nachname = nachname\n",
    "        self.email = email\n",
    "        self.logged_in = False\n",
    "        \n",
    "        \n",
    "\n",
    "    def login(self):\n",
    "        print(\"Logging In\")\n",
    "        self.logged_in = True\n",
    "\n",
    "    def logout(self):\n",
    "        print(\"Logging Out\")\n",
    "        self.logged_in = False\n",
    "\n",
    "\n",
    "class Mitarbeiter(User):\n",
    "    def __init__(self, personalnummer, abteilung, vorname, nachname, email):\n",
    "        self.personalnummer = personalnummer\n",
    "        self.abteilung = abteilung\n",
    "        self.isworking = False\n",
    "        super().__init__(vorname,nachname,email)\n",
    "\n",
    "    def arbeiten(self):\n",
    "        print(\"Arbeit läuft\")\n",
    "        self.isworking = True\n",
    "\n",
    "    def feierabend(self):\n",
    "        print(\"Arbeit wird beendet\")\n",
    "        self.isworking = False\n",
    "\n",
    "simple_User = User(\"Timm\",\"Gieger\",\"timmgieger@abc.de\")\n",
    "\n",
    "simple_User.login()\n",
    "print(simple_User.logged_in)\n",
    "simple_User.logout()\n",
    "print(simple_User.logged_in)"
   ]
  },
  {
   "cell_type": "code",
   "execution_count": 16,
   "id": "617d64f9-76bd-46e1-842f-a7e2c7e13b29",
   "metadata": {},
   "outputs": [
    {
     "name": "stdout",
     "output_type": "stream",
     "text": [
      "Logging In\n",
      "True\n",
      "Arbeit läuft\n",
      "True\n",
      "Arbeit wird beendet\n",
      "Logging Out\n",
      "False\n"
     ]
    }
   ],
   "source": [
    "worker = Mitarbeiter(1234,\"IT\", \"Timm\", \"Gieger\", \"timmgieger@workmail.de\")\n",
    "\n",
    "worker.login()\n",
    "print(worker.logged_in)\n",
    "worker.arbeiten()\n",
    "print(worker.isworking)\n",
    "worker.feierabend()\n",
    "worker.logout()\n",
    "print(worker.logged_in)"
   ]
  },
  {
   "cell_type": "markdown",
   "id": "8dac484e",
   "metadata": {},
   "source": [
    "Statische Methoden vs. Klassenmethoden"
   ]
  },
  {
   "cell_type": "code",
   "execution_count": 17,
   "id": "a7c904fc",
   "metadata": {},
   "outputs": [
    {
     "name": "stdout",
     "output_type": "stream",
     "text": [
      "Auto 10\n"
     ]
    }
   ],
   "source": [
    "#Klassenmethoden - nicht an Instanz, aber an Klasse gebunden\n",
    "\n",
    "class Auto:\n",
    "    klassenvariablenwert = 10\n",
    "    def __init__(self,owner, marke, baujahr):\n",
    "        self.owner = owner\n",
    "        self.marke = marke\n",
    "        self.baujahr = baujahr\n",
    "        print(f\"Auto mit owner {self.owner}, marke {self.marke} und baujahr {self.baujahr} wurde erstellt\")\n",
    "\n",
    "    @classmethod\n",
    "    def meineKlassenMethode(cls):\n",
    "        print(f\"{cls.__name__} {cls.klassenvariablenwert}\")\n",
    "\n",
    "\n",
    "Auto.meineKlassenMethode()"
   ]
  },
  {
   "cell_type": "code",
   "execution_count": 22,
   "id": "ecd13dd3-f830-45b6-ba99-7e99ce47fa6e",
   "metadata": {},
   "outputs": [
    {
     "name": "stdout",
     "output_type": "stream",
     "text": [
      "Auto mit owner Timm Gieger, marke Porsche und baujahr 2020 wurde erstellt\n",
      "Diese Info habe ich nicht\n",
      "Diese Info habe ich auch nicht\n"
     ]
    }
   ],
   "source": [
    "#Statische Methode\n",
    "\n",
    "class Auto:\n",
    "    klassenvariablenwert = 10\n",
    "    \n",
    "    def __init__(self,owner, marke, baujahr):\n",
    "        self.owner = owner\n",
    "        self.marke = marke\n",
    "        self.baujahr = baujahr\n",
    "        print(f\"Auto mit owner {self.owner}, marke {self.marke} und baujahr {self.baujahr} wurde erstellt\")\n",
    "\n",
    "    @classmethod\n",
    "    def meineKlassenMethode(cls):\n",
    "        print(f\"{cls.__name__} {cls.klassenvariablenwert}\")\n",
    "\n",
    "    @staticmethod ##weder an Instanz, noch an Klasse gebunden\n",
    "    def statisch():\n",
    "        try:\n",
    "            print(klassenvariablenwert)\n",
    "        except:\n",
    "            print(\"Diese Info habe ich nicht\")\n",
    "        try:\n",
    "            print(self.owner)\n",
    "        except:\n",
    "            print(\"Diese Info habe ich auch nicht\")\n",
    "\n",
    "\n",
    "my_Auto = Auto(\"Timm Gieger\", \"Porsche\", 2020)\n",
    "\n",
    "my_Auto.statisch()"
   ]
  },
  {
   "cell_type": "markdown",
   "id": "935d7ae0",
   "metadata": {},
   "source": [
    "Slots"
   ]
  },
  {
   "cell_type": "code",
   "execution_count": 23,
   "id": "392f87bf",
   "metadata": {},
   "outputs": [
    {
     "name": "stdout",
     "output_type": "stream",
     "text": [
      "Auto mit owner Timm Gieger, marke Porsche und baujahr 2020 wurde erstellt\n"
     ]
    },
    {
     "ename": "AttributeError",
     "evalue": "'Auto' object has no attribute 'x'",
     "output_type": "error",
     "traceback": [
      "\u001b[1;31m---------------------------------------------------------------------------\u001b[0m",
      "\u001b[1;31mAttributeError\u001b[0m                            Traceback (most recent call last)",
      "Cell \u001b[1;32mIn[23], line 13\u001b[0m\n\u001b[0;32m      8\u001b[0m         \u001b[38;5;28mprint\u001b[39m(\u001b[38;5;124mf\u001b[39m\u001b[38;5;124m\"\u001b[39m\u001b[38;5;124mAuto mit owner \u001b[39m\u001b[38;5;132;01m{\u001b[39;00m\u001b[38;5;28mself\u001b[39m\u001b[38;5;241m.\u001b[39mowner\u001b[38;5;132;01m}\u001b[39;00m\u001b[38;5;124m, marke \u001b[39m\u001b[38;5;132;01m{\u001b[39;00m\u001b[38;5;28mself\u001b[39m\u001b[38;5;241m.\u001b[39mmarke\u001b[38;5;132;01m}\u001b[39;00m\u001b[38;5;124m und baujahr \u001b[39m\u001b[38;5;132;01m{\u001b[39;00m\u001b[38;5;28mself\u001b[39m\u001b[38;5;241m.\u001b[39mbaujahr\u001b[38;5;132;01m}\u001b[39;00m\u001b[38;5;124m wurde erstellt\u001b[39m\u001b[38;5;124m\"\u001b[39m)\n\u001b[0;32m     11\u001b[0m my_Auto \u001b[38;5;241m=\u001b[39m Auto(\u001b[38;5;124m\"\u001b[39m\u001b[38;5;124mTimm Gieger\u001b[39m\u001b[38;5;124m\"\u001b[39m, \u001b[38;5;124m\"\u001b[39m\u001b[38;5;124mPorsche\u001b[39m\u001b[38;5;124m\"\u001b[39m, \u001b[38;5;241m2020\u001b[39m)\n\u001b[1;32m---> 13\u001b[0m my_Auto\u001b[38;5;241m.\u001b[39mx \u001b[38;5;241m=\u001b[39m \u001b[38;5;241m2\u001b[39m\n",
      "\u001b[1;31mAttributeError\u001b[0m: 'Auto' object has no attribute 'x'"
     ]
    }
   ],
   "source": [
    "class Auto:\n",
    "    __slots__ = [\"owner\",\"marke\",\"baujahr\"]\n",
    "    \n",
    "    def __init__(self,owner, marke, baujahr):\n",
    "        self.owner = owner\n",
    "        self.marke = marke\n",
    "        self.baujahr = baujahr\n",
    "        print(f\"Auto mit owner {self.owner}, marke {self.marke} und baujahr {self.baujahr} wurde erstellt\")\n",
    "\n",
    "\n",
    "my_Auto = Auto(\"Timm Gieger\", \"Porsche\", 2020)\n",
    "\n",
    "my_Auto.x = 2"
   ]
  },
  {
   "cell_type": "code",
   "execution_count": 24,
   "id": "017e297f-3537-4fa7-b18c-62c1953f39c1",
   "metadata": {},
   "outputs": [
    {
     "data": {
      "text/plain": [
       "'Timm Gieger'"
      ]
     },
     "execution_count": 24,
     "metadata": {},
     "output_type": "execute_result"
    }
   ],
   "source": [
    "my_Auto.owner"
   ]
  },
  {
   "cell_type": "markdown",
   "id": "231e1221",
   "metadata": {},
   "source": [
    "Abstrakte Klassen"
   ]
  },
  {
   "cell_type": "code",
   "execution_count": 26,
   "id": "effd3c99",
   "metadata": {},
   "outputs": [
    {
     "ename": "TypeError",
     "evalue": "Can't instantiate abstract class my_class with abstract method you_have_to_implement_this",
     "output_type": "error",
     "traceback": [
      "\u001b[1;31m---------------------------------------------------------------------------\u001b[0m",
      "\u001b[1;31mTypeError\u001b[0m                                 Traceback (most recent call last)",
      "Cell \u001b[1;32mIn[26], line 20\u001b[0m\n\u001b[0;32m     16\u001b[0m \u001b[38;5;28;01mclass\u001b[39;00m \u001b[38;5;21;01mmy_class\u001b[39;00m(example):\n\u001b[0;32m     17\u001b[0m     \u001b[38;5;28;01mpass\u001b[39;00m\n\u001b[1;32m---> 20\u001b[0m x \u001b[38;5;241m=\u001b[39m my_class()\n",
      "\u001b[1;31mTypeError\u001b[0m: Can't instantiate abstract class my_class with abstract method you_have_to_implement_this"
     ]
    }
   ],
   "source": [
    "## Eine Klasse gilt dann als Abstrakt wenn sich keine Objekte daraus instanziieren lassen\n",
    "## eigentlich gibt es keine Abstrakten Klassen in Python, jedoch gibt es ein Modul abc (Abstract Base Classes) mit der man \n",
    "## abstrakte Klassen erstellen kann\n",
    "from abc import ABC, abstractmethod\n",
    "\n",
    "class example(ABC):\n",
    "    def __init__(self):\n",
    "        super().__init__()\n",
    "\n",
    "\n",
    "    @abstractmethod\n",
    "    def you_have_to_implement_this(self):\n",
    "        pass\n",
    "\n",
    "\n",
    "class my_class(example):\n",
    "    pass\n",
    "\n",
    "\n",
    "x = my_class() ## Gibt Fehlermeldung, da abstrakte Methode nicht implementiert wurde"
   ]
  },
  {
   "cell_type": "code",
   "execution_count": null,
   "id": "4c6100ec-fbcc-4fa3-9b02-5d615d6c583d",
   "metadata": {},
   "outputs": [],
   "source": [
    "## Abstrakte Klassen können sehr gut als Vorlagen für erbende Klassen benutzt werden"
   ]
  },
  {
   "cell_type": "code",
   "execution_count": 28,
   "id": "a2656a4c-b23d-4a40-8d53-dd6e79c53702",
   "metadata": {},
   "outputs": [
    {
     "name": "stdout",
     "output_type": "stream",
     "text": [
      "chill dude!\n"
     ]
    }
   ],
   "source": [
    "from abc import ABC, abstractmethod\n",
    "\n",
    "class example(ABC):\n",
    "    def __init__(self):\n",
    "        super().__init__()\n",
    "\n",
    "\n",
    "    @abstractmethod\n",
    "    def you_have_to_implement_this(self):\n",
    "        pass\n",
    "\n",
    "\n",
    "class my_class(example):\n",
    "\n",
    "    def you_have_to_implement_this(self):\n",
    "        print(\"chill dude!\")\n",
    "\n",
    "\n",
    "x = my_class() ## Gibt Fehlermeldung, da abstrakte Methode nicht implementiert wurde\n",
    "x.you_have_to_implement_this()"
   ]
  }
 ],
 "metadata": {
  "kernelspec": {
   "display_name": "Python 3 (ipykernel)",
   "language": "python",
   "name": "python3"
  },
  "language_info": {
   "codemirror_mode": {
    "name": "ipython",
    "version": 3
   },
   "file_extension": ".py",
   "mimetype": "text/x-python",
   "name": "python",
   "nbconvert_exporter": "python",
   "pygments_lexer": "ipython3",
   "version": "3.11.5"
  }
 },
 "nbformat": 4,
 "nbformat_minor": 5
}
