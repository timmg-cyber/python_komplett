{
 "cells": [
  {
   "cell_type": "markdown",
   "id": "6775764c",
   "metadata": {},
   "source": [
    "Basic Syntax"
   ]
  },
  {
   "cell_type": "code",
   "execution_count": 6,
   "id": "28082c7a",
   "metadata": {},
   "outputs": [
    {
     "data": {
      "text/plain": [
       "{'key': 'value', 'key2': 1, 'key3': ['value1', 2, (1, 2, 3)]}"
      ]
     },
     "execution_count": 6,
     "metadata": {},
     "output_type": "execute_result"
    }
   ],
   "source": [
    "my_dict = {\n",
    "    \"key\": \"value\",\n",
    "    \"key2\": 1,\n",
    "    \"key3\": [\"value1\",2,(1,2,3)]\n",
    "}\n",
    "\n",
    "my_dict"
   ]
  },
  {
   "cell_type": "code",
   "execution_count": 26,
   "id": "9f4c1ff5",
   "metadata": {},
   "outputs": [
    {
     "data": {
      "text/plain": [
       "4"
      ]
     },
     "execution_count": 26,
     "metadata": {},
     "output_type": "execute_result"
    }
   ],
   "source": [
    "## Ebenfalls sequentieller Datentyp\n",
    "len(my_dict)"
   ]
  },
  {
   "cell_type": "code",
   "execution_count": 5,
   "id": "62dc678f",
   "metadata": {},
   "outputs": [
    {
     "data": {
      "text/plain": [
       "{'key': 'value', 'key2': '1', 'key3': ['value1', 2, (1, 2, 3)]}"
      ]
     },
     "execution_count": 5,
     "metadata": {},
     "output_type": "execute_result"
    }
   ],
   "source": [
    "## oder\n",
    "my_dict = dict(key=\"value\",key2=\"1\", key3=[\"value1\",2,(1,2,3)])\n",
    "my_dict"
   ]
  },
  {
   "cell_type": "markdown",
   "id": "b13ea097",
   "metadata": {},
   "source": [
    "dict in Liste umwandeln"
   ]
  },
  {
   "cell_type": "code",
   "execution_count": 15,
   "id": "fcac77f4",
   "metadata": {},
   "outputs": [
    {
     "data": {
      "text/plain": [
       "['key', 'key2', 'key3', 'neuer_key']"
      ]
     },
     "execution_count": 15,
     "metadata": {},
     "output_type": "execute_result"
    }
   ],
   "source": [
    "list(my_dict)"
   ]
  },
  {
   "cell_type": "code",
   "execution_count": 16,
   "id": "e18ea469",
   "metadata": {},
   "outputs": [
    {
     "data": {
      "text/plain": [
       "['key', 'key2', 'key3', 'neuer_key']"
      ]
     },
     "execution_count": 16,
     "metadata": {},
     "output_type": "execute_result"
    }
   ],
   "source": [
    "list(my_dict.keys())"
   ]
  },
  {
   "cell_type": "code",
   "execution_count": 17,
   "id": "df74e0cd",
   "metadata": {},
   "outputs": [
    {
     "data": {
      "text/plain": [
       "['value', 1, ['value1', 2, (1, 2, 3)], 5]"
      ]
     },
     "execution_count": 17,
     "metadata": {},
     "output_type": "execute_result"
    }
   ],
   "source": [
    "list(my_dict.values())"
   ]
  },
  {
   "cell_type": "code",
   "execution_count": 18,
   "id": "2713fbd9",
   "metadata": {},
   "outputs": [
    {
     "data": {
      "text/plain": [
       "[('key', 'value'),\n",
       " ('key2', 1),\n",
       " ('key3', ['value1', 2, (1, 2, 3)]),\n",
       " ('neuer_key', 5)]"
      ]
     },
     "execution_count": 18,
     "metadata": {},
     "output_type": "execute_result"
    }
   ],
   "source": [
    "list(my_dict.items()) ##mit am nützlichsten um Daten in Schleife zu entpacken"
   ]
  },
  {
   "cell_type": "markdown",
   "id": "8cd7064f",
   "metadata": {},
   "source": [
    "Liste in dict umwandeln"
   ]
  },
  {
   "cell_type": "code",
   "execution_count": 20,
   "id": "d4304453",
   "metadata": {},
   "outputs": [
    {
     "data": {
      "text/plain": [
       "{'Berlin': None, 'Hamburg': None, 'München': None, 'Mannheim': None}"
      ]
     },
     "execution_count": 20,
     "metadata": {},
     "output_type": "execute_result"
    }
   ],
   "source": [
    "cities = [\"Berlin\", \"Hamburg\",\"München\",\"Mannheim\"]\n",
    "\n",
    "city_dict = dict.fromkeys(cities)\n",
    "\n",
    "city_dict"
   ]
  },
  {
   "cell_type": "markdown",
   "id": "3b89149e",
   "metadata": {},
   "source": [
    "Elemente hinzufügen"
   ]
  },
  {
   "cell_type": "code",
   "execution_count": 8,
   "id": "cd25c155",
   "metadata": {},
   "outputs": [
    {
     "data": {
      "text/plain": [
       "{'key': 'value', 'key2': 1, 'key3': ['value1', 2, (1, 2, 3)], 'neuer_key': 5}"
      ]
     },
     "execution_count": 8,
     "metadata": {},
     "output_type": "execute_result"
    }
   ],
   "source": [
    "my_dict[\"neuer_key\"] = 5\n",
    "my_dict"
   ]
  },
  {
   "cell_type": "markdown",
   "id": "3dadf347",
   "metadata": {},
   "source": [
    "Daten abrufen"
   ]
  },
  {
   "cell_type": "code",
   "execution_count": 9,
   "id": "3e147ee1",
   "metadata": {},
   "outputs": [
    {
     "data": {
      "text/plain": [
       "5"
      ]
     },
     "execution_count": 9,
     "metadata": {},
     "output_type": "execute_result"
    }
   ],
   "source": [
    "my_dict[\"neuer_key\"]"
   ]
  },
  {
   "cell_type": "code",
   "execution_count": 10,
   "id": "64f8666c",
   "metadata": {},
   "outputs": [
    {
     "data": {
      "text/plain": [
       "5"
      ]
     },
     "execution_count": 10,
     "metadata": {},
     "output_type": "execute_result"
    }
   ],
   "source": [
    "my_dict.get(\"neuer_key\")"
   ]
  },
  {
   "cell_type": "code",
   "execution_count": 14,
   "id": "c2adea01",
   "metadata": {},
   "outputs": [
    {
     "name": "stdout",
     "output_type": "stream",
     "text": [
      "None\n",
      "Diesen Key gibt es nicht\n",
      "Diesen Key gibt es\n"
     ]
    }
   ],
   "source": [
    "ret = my_dict.get(\"nicht existierender Key\")\n",
    "print(ret) ##gibt None zurück\n",
    "\n",
    "if not ret:  ##ret == False wenn Key nicht vorhanden\n",
    "    print(\"Diesen Key gibt es nicht\")\n",
    "    \n",
    "##oder\n",
    "\n",
    "if \"key\" in my_dict:\n",
    "    print(\"Diesen Key gibt es\")"
   ]
  },
  {
   "cell_type": "markdown",
   "id": "a7b164c3",
   "metadata": {},
   "source": [
    "Datentypen von Keys"
   ]
  },
  {
   "cell_type": "code",
   "execution_count": null,
   "id": "44e68baf",
   "metadata": {},
   "outputs": [],
   "source": [
    "## Alle immutable Datentypen Integer/Floats/Strings/Tupel\n",
    "\n",
    "my_gps = {\n",
    "    (52.231154, 12.903143) : \"Mein Ort\",\n",
    "    (51.231154, 11.903143) : \"noch ein Ort\"\n",
    "}\n",
    "\n",
    "my_guests = {\n",
    "    \"Timm\": {\"mobile\": 123456, \"adress\": \"ABC-Straße2\"}\n",
    "}\n",
    "\n",
    "##Hinweis: Lists können kein Datentyp sein"
   ]
  },
  {
   "cell_type": "markdown",
   "id": "ad28735e",
   "metadata": {},
   "source": [
    "Löschen von Einträgen"
   ]
  },
  {
   "cell_type": "code",
   "execution_count": 22,
   "id": "fd5e4aa2",
   "metadata": {},
   "outputs": [
    {
     "name": "stdout",
     "output_type": "stream",
     "text": [
      "{'key': 'value', 'key2': 1, 'key3': ['value1', 2, (1, 2, 3)], 'neuer_key': 5, 'unnötiger Eintrag': 2}\n",
      "2\n",
      "{'key': 'value', 'key2': 1, 'key3': ['value1', 2, (1, 2, 3)], 'neuer_key': 5}\n"
     ]
    }
   ],
   "source": [
    "my_dict[\"unnötiger Eintrag\"] = 2\n",
    "\n",
    "print(my_dict)\n",
    "\n",
    "x = my_dict.pop(\"unnötiger Eintrag\")\n",
    "\n",
    "print(x) ##enthält value von gelöschtem Key\n",
    "\n",
    "print(my_dict)"
   ]
  },
  {
   "cell_type": "markdown",
   "id": "9138a6ba",
   "metadata": {},
   "source": [
    "Ändern von Einträgen"
   ]
  },
  {
   "cell_type": "code",
   "execution_count": 23,
   "id": "c2f3f5ab",
   "metadata": {},
   "outputs": [
    {
     "name": "stdout",
     "output_type": "stream",
     "text": [
      "{'key': 'value2', 'key2': 1, 'key3': ['value1', 2, (1, 2, 3)], 'neuer_key': 5}\n"
     ]
    }
   ],
   "source": [
    "## Durch normale Zuweisung\n",
    "my_dict[\"key\"] = \"value2\"\n",
    "\n",
    "print(my_dict)"
   ]
  },
  {
   "cell_type": "code",
   "execution_count": 25,
   "id": "7031448a",
   "metadata": {},
   "outputs": [
    {
     "data": {
      "text/plain": [
       "{'key': 'value3', 'key2': 2, 'key3': ['value1', 2, (1, 2, 3)], 'neuer_key': 5}"
      ]
     },
     "execution_count": 25,
     "metadata": {},
     "output_type": "execute_result"
    }
   ],
   "source": [
    "##oder\n",
    "my_dict.update({\"key\":\"value3\",\"key2\":2}) ## muss vom Typ dict sein --> Vorteil: Es können mehrere Einträge gleichzeitig geupdatet werden\n",
    "my_dict"
   ]
  }
 ],
 "metadata": {
  "kernelspec": {
   "display_name": "Python 3 (ipykernel)",
   "language": "python",
   "name": "python3"
  },
  "language_info": {
   "codemirror_mode": {
    "name": "ipython",
    "version": 3
   },
   "file_extension": ".py",
   "mimetype": "text/x-python",
   "name": "python",
   "nbconvert_exporter": "python",
   "pygments_lexer": "ipython3",
   "version": "3.11.5"
  }
 },
 "nbformat": 4,
 "nbformat_minor": 5
}
