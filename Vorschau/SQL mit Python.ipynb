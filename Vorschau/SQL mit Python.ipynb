{
 "cells": [
  {
   "cell_type": "markdown",
   "id": "1060bbab",
   "metadata": {},
   "source": [
    "Mit Datenbank verbinden"
   ]
  },
  {
   "cell_type": "code",
   "execution_count": 1,
   "id": "4df5d96a",
   "metadata": {},
   "outputs": [],
   "source": [
    "from sqlalchemy import create_engine\n",
    "import json\n",
    "\n",
    "f = open(\"credentials.txt\")\n",
    "data = json.load(f)\n",
    "\n",
    "f.close()"
   ]
  },
  {
   "cell_type": "code",
   "execution_count": 2,
   "id": "5665c05f",
   "metadata": {},
   "outputs": [],
   "source": [
    "database = data['database']\n",
    "username = data['username']\n",
    "password = data['password']\n",
    "host = data['host']\n",
    "\n",
    "engine = create_engine(f'postgresql+psycopg2://{username}:{password}@{host}:5432/{database}')"
   ]
  },
  {
   "cell_type": "code",
   "execution_count": 3,
   "id": "a3a5f176",
   "metadata": {},
   "outputs": [],
   "source": [
    "connection = engine.connect()"
   ]
  },
  {
   "cell_type": "markdown",
   "id": "0a923131-caad-427f-bc8f-3e25c10fb3a4",
   "metadata": {},
   "source": [
    "Tabelle anlegen"
   ]
  },
  {
   "cell_type": "code",
   "execution_count": 4,
   "id": "910784e4-deae-4e0a-81d3-61a6f782c7ca",
   "metadata": {},
   "outputs": [
    {
     "name": "stderr",
     "output_type": "stream",
     "text": [
      "C:\\Users\\timm.gieger\\AppData\\Local\\Temp\\ipykernel_17016\\3350511582.py:5: MovedIn20Warning: The ``declarative_base()`` function is now available as sqlalchemy.orm.declarative_base(). (deprecated since: 2.0) (Background on SQLAlchemy 2.0 at: https://sqlalche.me/e/b8d9)\n",
      "  Base = declarative_base()\n"
     ]
    },
    {
     "name": "stdout",
     "output_type": "stream",
     "text": [
      "Alle Professoren:\n",
      "1: Dr. Müller\n",
      "2: Prof. Schmidt\n",
      "\n",
      "Vorlesungen mit zugehörigen Professoren:\n",
      "1: Mathematik I - Professor: Dr. Müller\n",
      "2: Physik I - Professor: Dr. Müller\n",
      "3: Informatik II - Professor: Prof. Schmidt\n"
     ]
    }
   ],
   "source": [
    "from sqlalchemy import Column, Integer, String, ForeignKey #weitere Datentypen: Date, Boolean\n",
    "from sqlalchemy.ext.declarative import declarative_base\n",
    "from sqlalchemy.orm import relationship, sessionmaker\n",
    "\n",
    "Base = declarative_base()\n",
    "\n",
    "# Definition der Professor-Tabelle\n",
    "class Professor(Base):\n",
    "    __tablename__ = 'professor'\n",
    "    id = Column(Integer, primary_key=True)  #Alternativen unique=True und default=Defaultwert\n",
    "    name = Column(String(50)) ## Länge auf 50 Zeichen festgelegt\n",
    "    vorlesungen = relationship(\"Vorlesung\", back_populates=\"professor\") ##Fremdschlüsselbeziehung --> sorgt dafür dass Änderungen an der einen Seite automatisch auf die andere Seite reflektiert wird wenn die Objekte in einer Session benutzt werden\n",
    "    ##Bei 1:1 Beziehung könnte man in der relationship-Methode noch den uselist Parameter auf False setzen (Beziehung enthält dann nur 1 einziges Objekt)\n",
    "\n",
    "# Definition der Vorlesung-Tabelle\n",
    "class Vorlesung(Base):\n",
    "    __tablename__ = 'vorlesung'\n",
    "    id = Column(Integer, primary_key=True)\n",
    "    titel = Column(String)\n",
    "    professor_id = Column(Integer, ForeignKey('professor.id'))\n",
    "    professor = relationship(\"Professor\", back_populates=\"vorlesungen\")\n",
    "\n",
    "# Erstellen der Tabellen in der Datenbank, falls sie noch nicht existieren\n",
    "Base.metadata.create_all(engine)"
   ]
  },
  {
   "cell_type": "markdown",
   "id": "52cc6ad4-a5d5-4b29-aa8b-ea20ca4ab13f",
   "metadata": {},
   "source": [
    "Einträge einfügen und abfragen"
   ]
  },
  {
   "cell_type": "code",
   "execution_count": null,
   "id": "aa65c199-3e97-49ea-bcc4-8053da7afcd0",
   "metadata": {},
   "outputs": [],
   "source": [
    "## Einträge einfügen\n",
    "if __name__ == \"__main__\":\n",
    "    # Erstellen einer Session\n",
    "    Session = sessionmaker(bind=engine)\n",
    "    session = Session()\n",
    "\n",
    "    # Erstellen von Beispiel-Datensätzen\n",
    "    professor1 = Professor(name='Dr. Müller')\n",
    "    professor2 = Professor(name='Prof. Schmidt')\n",
    "\n",
    "    vorlesung1 = Vorlesung(titel='Mathematik I', professor=professor1)\n",
    "    vorlesung2 = Vorlesung(titel='Informatik II', professor=professor2)\n",
    "    vorlesung3 = Vorlesung(titel='Physik I', professor=professor1)\n",
    "\n",
    "    # Hinzufügen der Datensätze zur Session\n",
    "    session.add_all([professor1, professor2, vorlesung1, vorlesung2, vorlesung3])\n",
    "    session.commit()\n",
    "\n",
    "    # Beispielabfragen\n",
    "    print(\"Alle Professoren:\")\n",
    "    for professor in session.query(Professor):\n",
    "        print(f\"{professor.id}: {professor.name}\")\n",
    "\n",
    "    print(\"\\nVorlesungen mit zugehörigen Professoren:\")\n",
    "    for vorlesung in session.query(Vorlesung):\n",
    "        print(f\"{vorlesung.id}: {vorlesung.titel} - Professor: {vorlesung.professor.name}\")\n",
    "\n",
    "    # Session schließen\n",
    "    session.close()"
   ]
  },
  {
   "cell_type": "code",
   "execution_count": 5,
   "id": "8b9c74df-b9cf-4f4b-a510-23cb79b98c2f",
   "metadata": {},
   "outputs": [
    {
     "name": "stdout",
     "output_type": "stream",
     "text": [
      "Vorlesung 'Mathematik I' gelöscht.\n",
      "Neuer Professor 'Prof. Schneider' für die Vorlesung 'Physik I' eingetragen.\n"
     ]
    }
   ],
   "source": [
    "## Erstellen eines neuen Profs, Löschen einer Vorlesung und ändern eines Eintrags\n",
    "if __name__ == \"__main__\":\n",
    "    # Erstellen einer Session\n",
    "    Session = sessionmaker(bind=engine)\n",
    "    session = Session()\n",
    "\n",
    "    try:\n",
    "        # Vorlesung \"Mathematik I\" löschen\n",
    "        mathematik_vorlesung = session.query(Vorlesung).filter_by(titel='Mathematik I').first() ##ebenfalls .all(), one() - löst Exception aus falls mehrere zurückkommen\n",
    "        if mathematik_vorlesung:\n",
    "            session.delete(mathematik_vorlesung)\n",
    "            session.commit()\n",
    "            print(f\"Vorlesung '{mathematik_vorlesung.titel}' gelöscht.\")\n",
    "\n",
    "        # Neuen Professor für die Vorlesung \"Physik I\" erstellen\n",
    "        physik_vorlesung = session.query(Vorlesung).filter_by(titel='Physik I').first()\n",
    "        if physik_vorlesung:\n",
    "            neuer_professor = Professor(name='Prof. Schneider')\n",
    "            physik_vorlesung.professor = neuer_professor\n",
    "            session.add(neuer_professor)\n",
    "            session.commit()\n",
    "            print(f\"Neuer Professor '{neuer_professor.name}' für die Vorlesung '{physik_vorlesung.titel}' eingetragen.\")\n",
    "    \n",
    "    except Exception as e:\n",
    "        session.rollback()\n",
    "        print(f\"Fehler beim Bearbeiten der Datenbank: {e}\")\n",
    "\n",
    "    finally:\n",
    "        # Session schließen\n",
    "        session.close()"
   ]
  },
  {
   "cell_type": "markdown",
   "id": "f3ab60b1-33bc-4d9c-b29b-48ecbd23ab22",
   "metadata": {},
   "source": [
    "Filtering mit or / and"
   ]
  },
  {
   "cell_type": "code",
   "execution_count": 8,
   "id": "590d6c6a-d752-4a9c-9cfd-5c34f472c667",
   "metadata": {},
   "outputs": [
    {
     "name": "stdout",
     "output_type": "stream",
     "text": [
      "Ergebnisse der OR-Abfrage:\n",
      "Vorlesung: Informatik II, Professor: Prof. Schmidt\n",
      "Vorlesung: Mathematik I, Professor: Dr. Müller\n",
      "\n",
      "Ergebnisse der AND-Abfrage:\n",
      "Vorlesung: Mathematik I, Professor: Dr. Müller\n"
     ]
    }
   ],
   "source": [
    "from sqlalchemy import or_ , and_\n",
    "\n",
    "if __name__ == \"__main__\":\n",
    "    # Erstellen einer Session\n",
    "    Session = sessionmaker(bind=engine)\n",
    "    session = Session()\n",
    "\n",
    "    try:\n",
    "        # Beispielabfrage mit or_()\n",
    "        vorlesung_math1 = Vorlesung(titel=\"Mathematik I\", professor=professor1)\n",
    "        # Hinzufügen der Datensätze zur Session\n",
    "        session.add_all([vorlesung_math1])\n",
    "        session.commit()\n",
    "\n",
    "        # Alle Vorlesungen von Professor Dr. Müller oder Prof. Schmidt\n",
    "        results_or = session.query(Vorlesung).join(Vorlesung.professor).filter(or_(Professor.name == 'Dr. Müller', Professor.name == 'Prof. Schmidt')).all() #Verwendung von join ist optional\n",
    "        print(\"Ergebnisse der OR-Abfrage:\")\n",
    "        for vorlesung in results_or:\n",
    "            print(f\"Vorlesung: {vorlesung.titel}, Professor: {vorlesung.professor.name}\")\n",
    "\n",
    "        # Beispielabfrage mit and_()\n",
    "\n",
    "        # Alle Vorlesungen von Professor Dr. Müller, die Mathematik I oder Physik I sind\n",
    "        results_and = session.query(Vorlesung).join(Vorlesung.professor).filter(and_(Professor.name == 'Dr. Müller', or_(Vorlesung.titel == 'Mathematik I', Vorlesung.titel == 'Physik I'))).all()\n",
    "        print(\"\\nErgebnisse der AND-Abfrage:\")\n",
    "        for vorlesung in results_and:\n",
    "            print(f\"Vorlesung: {vorlesung.titel}, Professor: {vorlesung.professor.name}\")\n",
    "\n",
    "    except Exception as e:\n",
    "        session.rollback()\n",
    "        print(f\"Fehler beim Bearbeiten der Datenbank: {e}\")\n",
    "\n",
    "    finally:\n",
    "        # Session schließen\n",
    "        session.close()"
   ]
  }
 ],
 "metadata": {
  "kernelspec": {
   "display_name": "Python 3 (ipykernel)",
   "language": "python",
   "name": "python3"
  },
  "language_info": {
   "codemirror_mode": {
    "name": "ipython",
    "version": 3
   },
   "file_extension": ".py",
   "mimetype": "text/x-python",
   "name": "python",
   "nbconvert_exporter": "python",
   "pygments_lexer": "ipython3",
   "version": "3.11.5"
  }
 },
 "nbformat": 4,
 "nbformat_minor": 5
}
