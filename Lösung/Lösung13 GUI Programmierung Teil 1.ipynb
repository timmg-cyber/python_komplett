{
 "cells": [
  {
   "cell_type": "markdown",
   "id": "60996599-7196-41a8-a6c7-3c663f857763",
   "metadata": {},
   "source": [
    "## Aufgabe 1"
   ]
  },
  {
   "cell_type": "markdown",
   "id": "cf5eb632-1326-4ba5-9d9e-f8ae8a7ec4ea",
   "metadata": {},
   "source": [
    "Erstellen Sie eine GUI mit dem tkinter-Modul, indem Sie folgende Schritte umsetzen:\n",
    "- Importieren Sie das tkinter-Modul.\n",
    "- Erstellen Sie das Hauptfenster mit dem Titel \"Einfache GUI-Anwendung\".\n",
    "- Fügen Sie ein Label mit der Beschriftung \"Einfache GUI-Anwendung\" hinzu.\n",
    "- Erstellen Sie zwei Textboxen für den Vornamen und den Nachnamen und positionieren Sie diese in einem Frame.\n",
    "- Erstellen Sie zwei Checkboxes mit den Beschriftungen \"Option 1\" und \"Option 2\" und positionieren Sie diese in einem Frame.\n",
    "- Fügen Sie einen Button hinzu, der beim Klicken eine Funktion aufruft, um den Inhalt der Textboxen und den Status der Checkboxes in einem Label anzuzeigen.\n",
    "- Lassen Sie sich den Vornamen und Nachnamen, sowie den Status der Checkboxen auf der Konsole anzeigen\n",
    "- Starten Sie die Hauptschleife der GUI."
   ]
  },
  {
   "cell_type": "code",
   "execution_count": 2,
   "id": "1f660dba-ad44-4200-b880-6d78ba801352",
   "metadata": {},
   "outputs": [],
   "source": [
    "import tkinter as tk\n",
    "\n",
    "class GUI:\n",
    "    def __init__(self, root):\n",
    "        self.root = root\n",
    "        self.root.title(\"Einfache GUI-Anwendung\")\n",
    "        \n",
    "        # Label\n",
    "        self.label_titel = tk.Label(root, text=\"Einfache GUI-Anwendung\", font=(\"Helvetica\", 16))\n",
    "        self.label_titel.pack(pady=10)\n",
    "        \n",
    "        # Textboxen für Vorname und Nachname\n",
    "        self.frame_textboxen = tk.Frame(root)\n",
    "        self.frame_textboxen.pack(pady=10)\n",
    "        \n",
    "        self.label_vorname = tk.Label(self.frame_textboxen, text=\"Vorname:\")\n",
    "        self.label_vorname.grid(row=0, column=0, padx=5, pady=5)\n",
    "        self.entry_vorname = tk.Entry(self.frame_textboxen)\n",
    "        self.entry_vorname.grid(row=0, column=1, padx=5, pady=5)\n",
    "        \n",
    "        self.label_nachname = tk.Label(self.frame_textboxen, text=\"Nachname:\")\n",
    "        self.label_nachname.grid(row=1, column=0, padx=5, pady=5)\n",
    "        self.entry_nachname = tk.Entry(self.frame_textboxen)\n",
    "        self.entry_nachname.grid(row=1, column=1, padx=5, pady=5)\n",
    "        \n",
    "        # Checkboxes\n",
    "        self.frame_checkboxes = tk.Frame(root)\n",
    "        self.frame_checkboxes.pack(pady=10)\n",
    "        \n",
    "        self.var_option1 = tk.BooleanVar()\n",
    "        self.checkbox_option1 = tk.Checkbutton(self.frame_checkboxes, text=\"Option 1\", variable=self.var_option1)\n",
    "        self.checkbox_option1.grid(row=0, column=0, padx=5, pady=5)\n",
    "        \n",
    "        self.var_option2 = tk.BooleanVar()\n",
    "        self.checkbox_option2 = tk.Checkbutton(self.frame_checkboxes, text=\"Option 2\", variable=self.var_option2)\n",
    "        self.checkbox_option2.grid(row=0, column=1, padx=5, pady=5)\n",
    "        \n",
    "        # Button\n",
    "        self.button_anzeigen = tk.Button(root, text=\"Anzeigen\", command=self.anzeigen)\n",
    "        self.button_anzeigen.pack(pady=10)\n",
    "        \n",
    "    \n",
    "    def anzeigen(self):\n",
    "        vorname = self.entry_vorname.get()\n",
    "        nachname = self.entry_nachname.get()\n",
    "        option1 = self.var_option1.get()\n",
    "        option2 = self.var_option2.get()\n",
    "        \n",
    "        if vorname and nachname:\n",
    "            info = f\"Name: {vorname} {nachname}\\nOption 1: {'Aktiviert' if option1 else 'Deaktiviert'}\\nOption 2: {'Aktiviert' if option2 else 'Deaktiviert'}\"\n",
    "        else:\n",
    "            info = \"Bitte beide Textfelder ausfüllen.\"\n",
    "        \n",
    "        print(info)\n",
    "\n",
    "if __name__ == \"__main__\":\n",
    "    root = tk.Tk()\n",
    "    app = GUI(root)\n",
    "    root.mainloop()"
   ]
  }
 ],
 "metadata": {
  "kernelspec": {
   "display_name": "Python 3 (ipykernel)",
   "language": "python",
   "name": "python3"
  },
  "language_info": {
   "codemirror_mode": {
    "name": "ipython",
    "version": 3
   },
   "file_extension": ".py",
   "mimetype": "text/x-python",
   "name": "python",
   "nbconvert_exporter": "python",
   "pygments_lexer": "ipython3",
   "version": "3.11.5"
  }
 },
 "nbformat": 4,
 "nbformat_minor": 5
}
