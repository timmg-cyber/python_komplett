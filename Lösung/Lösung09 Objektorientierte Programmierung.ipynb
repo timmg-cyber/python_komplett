{
 "cells": [
  {
   "cell_type": "markdown",
   "id": "d2f1ce37-7e42-444d-979b-40a76695f4b8",
   "metadata": {},
   "source": [
    "## Aufgabe 1"
   ]
  },
  {
   "cell_type": "markdown",
   "id": "5543b6d7-3df6-4a8b-a852-136e0604a961",
   "metadata": {},
   "source": [
    "In dieser Aufgabe müssen Sie die Grundlagen der Objektorientierten Programmierung anwenden. Erstellen Sie hierfür zunächst eine Klasse für folgendes Klassendiagramm:"
   ]
  },
  {
   "cell_type": "markdown",
   "id": "a30cb1f4-beaf-4fc5-8a6b-3287a7f233b1",
   "metadata": {},
   "source": [
    "![Book](Book.png)"
   ]
  },
  {
   "cell_type": "code",
   "execution_count": 4,
   "id": "473732dd-e5ea-4924-a07d-bd099c08b2ae",
   "metadata": {},
   "outputs": [],
   "source": [
    "class Book:\n",
    "    def __init__(self, titel, autor, isbn):\n",
    "        self.titel = titel\n",
    "        self.autor = autor\n",
    "        self.isbn = isbn\n",
    "        self.verfügbar = True\n",
    "\n",
    "    def ausleihen(self):\n",
    "        if self.verfügbar:\n",
    "            self.verfügbar = False\n",
    "            print(f\"Das Buch '{self.titel}' wurde ausgeliehen.\")\n",
    "        else:\n",
    "            print(f\"Das Buch '{self.titel}' ist bereits ausgeliehen.\")\n",
    "\n",
    "    def zurückgeben(self):\n",
    "        if self.verfügbar:\n",
    "            print(f\"Das Buch {self.titel} ist noch nicht ausgeliehen\")\n",
    "        else:\n",
    "            self.verfügbar = True\n",
    "            print(f\"Das Buch '{self.titel}' wurde zurückgegeben.\")\n",
    "\n",
    "    def zeige_info(self):\n",
    "        verf_status = \"verfügbar\" if self.verfügbar else \"nicht verfügbar\"\n",
    "        print(f\"Titel: {self.titel}\\nAutor: {self.autor}\\nISBN: {self.isbn}\\nVerfügbarkeit: {verf_status}\")\n"
   ]
  },
  {
   "cell_type": "markdown",
   "id": "28e2bb77-04b3-4a9b-b0c7-a7096ce8aae7",
   "metadata": {},
   "source": [
    "Führen Sie nun folgende Schritte durch:\n",
    "- Erstellen Sie zwei Instanzen Ihrer Klasse\n",
    "- leihen Sie ein Buch aus\n",
    "- lassen Sie sich die Info ausgeben\n",
    "- versuchen Sie ein Buch zurückzugeben, das noch nicht ausgeliehen ist\n",
    "- geben Sie ein ausgeliehenes Buch zurück\n",
    "- Versuchen Sie ein ausgeliehens Buch auszuleihen"
   ]
  },
  {
   "cell_type": "code",
   "execution_count": 5,
   "id": "b27eb3bc-208a-4944-a20d-802bd26fca67",
   "metadata": {},
   "outputs": [
    {
     "name": "stdout",
     "output_type": "stream",
     "text": [
      "Das Buch '1984' wurde ausgeliehen.\n",
      "Titel: 1984\n",
      "Autor: George Orwell\n",
      "ISBN: 1234567890\n",
      "Verfügbarkeit: nicht verfügbar\n",
      "Das Buch Die Zwerge ist noch nicht ausgeliehen\n",
      "Das Buch '1984' wurde zurückgegeben.\n",
      "Das Buch 'Die Zwerge' wurde ausgeliehen.\n",
      "Das Buch 'Die Zwerge' ist bereits ausgeliehen.\n"
     ]
    }
   ],
   "source": [
    "buch1 = Book(\"1984\", \"George Orwell\", \"1234567890\")\n",
    "buch2 = Book(\"Die Zwerge\", \"Markus Heitz\", \"5678910111\")\n",
    "buch1.ausleihen()\n",
    "buch1.zeige_info()\n",
    "buch2.zurückgeben()\n",
    "buch1.zurückgeben()\n",
    "buch2.ausleihen()\n",
    "buch2.ausleihen()\n"
   ]
  },
  {
   "cell_type": "markdown",
   "id": "f95dfe48-d939-47cd-87c0-dbbe0aada528",
   "metadata": {},
   "source": [
    "## Aufgabe 2"
   ]
  },
  {
   "cell_type": "markdown",
   "id": "a7fcde0e-cfac-42c6-bd83-3345f1802d14",
   "metadata": {},
   "source": [
    "Erstellen Sie nun die Klassen aus dem nachfolgendem Klassendiagramm (Quelle: https://oer-informatik.de/):"
   ]
  },
  {
   "cell_type": "markdown",
   "id": "ffe844d7-32fe-4f68-89e4-8784ff79e537",
   "metadata": {},
   "source": [
    "![Konto](Konto.png)"
   ]
  },
  {
   "cell_type": "markdown",
   "id": "fd3c3413-e514-45c3-89bb-d4b65c47c90d",
   "metadata": {},
   "source": [
    "Achten Sie bei der Erstellung auf korrekte Vererbung und setzen Sie ggf. Properties und Slots ein. Beachten Sie ebenfalls die visibility (auch wenn diese in Python nur ein Designcharakter hat. "
   ]
  },
  {
   "cell_type": "code",
   "execution_count": 15,
   "id": "8e0aaf3b-f562-4c26-98bb-a0aa8bb48770",
   "metadata": {},
   "outputs": [],
   "source": [
    "class Konto:\n",
    "    def __init__(self, iban: str) -> None:\n",
    "        self.__iban: str \n",
    "        self.__iban = iban\n",
    "        self.__kontostand: float \n",
    "        self.__kontostand = 0\n",
    "    \n",
    "    @property\n",
    "    def kontostand(self) -> float:\n",
    "        return self.__kontostand\n",
    "\n",
    "    def einzahlen(self, betrag: float) -> None:\n",
    "        self.__kontostand += betrag\n",
    "\n",
    "    def auszahlen(self, betrag: float) -> bool:\n",
    "        if (self.__kontostand-betrag) >= 0:\n",
    "            self.__kontostand -= betrag\n",
    "            return True\n",
    "        else:\n",
    "            return False\n",
    "\n",
    "class Privatkonto(Konto):\n",
    "\n",
    "    def __init__(self, iban, vorname: str, nachname: str) -> None:\n",
    "        super().__init__(iban)\n",
    "        self.__vorname: str \n",
    "        self.__vorname = vorname\n",
    "        self.__nachname: str \n",
    "        self.__nachname = nachname\n",
    "    \n",
    "    @property\n",
    "    def privatkundenname(self) ->str:\n",
    "        return self.__vorname + \" \" + self.__nachname\n",
    "        \n",
    "\n",
    "class Geschaeftskonto(Konto):\n",
    "    def __init__(self, iban, firmenname: str, verfuegungsrahmen: float) -> None:\n",
    "        super().__init__(iban)\n",
    "        self.__firmenname: str \n",
    "        self.__firmenname = firmenname\n",
    "        self.__verfuegungsrahmen: float\n",
    "        self.__verfuegungsrahmen = verfuegungsrahmen\n",
    "    \n",
    "    @property\n",
    "    def verfuegungsrahmen(self) ->float:\n",
    "        return self.__verfuegungsrahmen\n",
    "    \n",
    "    @verfuegungsrahmen.setter\n",
    "    def verfuegungsrahmen(self, verfuegungsrahmen):\n",
    "        self.__verfuegungsrahmen = verfuegungsrahmen\n",
    "\n",
    "    def auszahlen(self, betrag: float) -> bool:\n",
    "        if (betrag) > self.__verfuegungsrahmen:\n",
    "            print(\"Verfügungsrahmen reicht nicht aus\")\n",
    "            return False\n",
    "        else:\n",
    "            return super().auszahlen(betrag)"
   ]
  },
  {
   "cell_type": "markdown",
   "id": "91740559-dabc-4e07-8b3a-8d3849e7f46c",
   "metadata": {},
   "source": [
    "Führen Sie nun folgende Schritte durch:\n",
    "- Erstellen Sie ein Privatkonto und ein Geschäftskonto (das Geschäftskonto soll einen verfuegungsrahmen von 5000 € haben)\n",
    "- Zahlen Sie jeweils 5000 und 100000 Euro in die Konten ein\n",
    "- Lassen Sie sich den Kontostand ausgeben\n",
    "- lassen Sie sich 2000 und 10000 Euro auszahlen (Was fehlt eventuell noch in der Klasse Konto?)\n",
    "- Ändern Sie den Firmennamen des Geschäftskontos"
   ]
  },
  {
   "cell_type": "code",
   "execution_count": 16,
   "id": "bcb993db-a058-4b5b-8125-29f896d01991",
   "metadata": {},
   "outputs": [
    {
     "name": "stdout",
     "output_type": "stream",
     "text": [
      "privater Kontostand: 5000.0\n",
      "Geschäftskontostand: 100000.0\n",
      "Verfügungsrahmen reicht nicht aus\n",
      "privater Kontostand: 3000.0\n",
      "Geschäftskontostand: 100000.0\n"
     ]
    }
   ],
   "source": [
    "Konto1 = Privatkonto(12345, \"Timm\", \"Gieger\")\n",
    "Konto2 = Geschaeftskonto(23456, \"GeekIT Data Solutions\", 5000.0)\n",
    "\n",
    "Konto1.einzahlen(5000.0)\n",
    "Konto2.einzahlen(100000.0)\n",
    "\n",
    "print(f\"privater Kontostand: {Konto1.kontostand}\")\n",
    "print(f\"Geschäftskontostand: {Konto2.kontostand}\")\n",
    "\n",
    "Konto1.auszahlen(2000)\n",
    "Konto2.auszahlen(10000)\n",
    "\n",
    "Konto2.firmenname = \"GeekIT\"\n",
    "\n",
    "print(f\"privater Kontostand: {Konto1.kontostand}\")\n",
    "print(f\"Geschäftskontostand: {Konto2.kontostand}\")\n",
    "\n"
   ]
  }
 ],
 "metadata": {
  "kernelspec": {
   "display_name": "Python 3 (ipykernel)",
   "language": "python",
   "name": "python3"
  },
  "language_info": {
   "codemirror_mode": {
    "name": "ipython",
    "version": 3
   },
   "file_extension": ".py",
   "mimetype": "text/x-python",
   "name": "python",
   "nbconvert_exporter": "python",
   "pygments_lexer": "ipython3",
   "version": "3.11.5"
  }
 },
 "nbformat": 4,
 "nbformat_minor": 5
}
