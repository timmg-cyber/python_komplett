{
 "cells": [
  {
   "cell_type": "markdown",
   "id": "88d59b96",
   "metadata": {},
   "source": [
    "Bitte bearbeiten Sie folgende Übungen zum Thema Schleifen. Sie dürfen gerne alle gelernten Inhalte aus den vorherigen Übungen mit einfließen lassen"
   ]
  },
  {
   "cell_type": "markdown",
   "id": "d761597b",
   "metadata": {},
   "source": [
    "## Aufgabe 1"
   ]
  },
  {
   "cell_type": "markdown",
   "id": "93462d6c",
   "metadata": {},
   "source": [
    "Sie haben eine Einkaufsliste und möchten sicherstellen, dass alle benötigten Artikel im Einkaufswagen sind. Schreiben Sie ein Python-Programm, das die Artikel auf der Einkaufsliste mit den Artikeln im Einkaufswagen vergleicht und anzeigt, welche Artikel noch fehlen und welche zusätzlich im Einkaufswagen sind.\n",
    "\n",
    "Vorgaben:\n",
    "- Sie haben zwei Listen: eine Einkaufsliste (einkaufsliste) und eine Liste der Artikel im Einkaufswagen (einkaufswagen).\n",
    "- Das Programm soll durch die Listen iterieren und die Artikel vergleichen.\n",
    "\n",
    "Am Ende soll das Programm zwei Listen ausgeben:\n",
    "- Eine Liste mit Artikeln, die auf der Einkaufsliste stehen, aber nicht im Einkaufswagen sind.\n",
    "- Eine Liste mit Artikeln, die im Einkaufswagen sind, aber nicht auf der Einkaufsliste stehen."
   ]
  },
  {
   "cell_type": "code",
   "execution_count": 1,
   "id": "27ffdef6",
   "metadata": {},
   "outputs": [
    {
     "name": "stdout",
     "output_type": "stream",
     "text": [
      "Fehlende Artikel: ['Brot', 'Apfel']\n",
      "Zusätzliche Artikel: ['Banane', 'Saft']\n"
     ]
    }
   ],
   "source": [
    "# Gegebene Listen\n",
    "einkaufsliste = [\"Brot\", \"Milch\", \"Eier\", \"Butter\", \"Apfel\"]\n",
    "einkaufswagen = [\"Milch\", \"Eier\", \"Butter\", \"Banane\", \"Saft\"]\n",
    "\n",
    "# Listen für fehlende und zusätzliche Artikel initialisieren\n",
    "##Ihr Code\n",
    "fehlende_artikel = []\n",
    "zusätzliche_artikel = []\n",
    "\n",
    "\n",
    "# Überprüfen, welche Artikel auf der Einkaufsliste fehlen\n",
    "##Ihr Code\n",
    "for artikel in einkaufsliste:\n",
    "    if artikel not in einkaufswagen:\n",
    "        fehlende_artikel.append(artikel)\n",
    "\n",
    "\n",
    "# Überprüfen, welche Artikel zusätzlich im Einkaufswagen sind\n",
    "##Ihr Code\n",
    "for artikel in einkaufswagen:\n",
    "    if artikel not in einkaufsliste:\n",
    "        zusätzliche_artikel.append(artikel)\n",
    "\n",
    "\n",
    "# Ergebnisse ausgeben\n",
    "##Ihr Code\n",
    "print(\"Fehlende Artikel:\", fehlende_artikel)\n",
    "print(\"Zusätzliche Artikel:\", zusätzliche_artikel)"
   ]
  },
  {
   "cell_type": "markdown",
   "id": "86a6ba86",
   "metadata": {},
   "source": [
    "## Aufgabe 2"
   ]
  },
  {
   "cell_type": "markdown",
   "id": "078858e9",
   "metadata": {},
   "source": [
    "Sie arbeiten in einem Lager und möchten den Bestand der Artikel überprüfen. Sie haben eine Liste der aktuellen Bestände und eine Liste der verkauften Artikel. Schreiben Sie ein Python-Programm, das den aktuellen Bestand nach dem Verkauf der Artikel berechnet und anzeigt, welche Artikel nachbestellt werden müssen, falls ihr Bestand unter einen bestimmten Schwellenwert fällt.\n",
    "\n",
    "Vorgaben:\n",
    "- Sie haben zwei Listen: eine Liste der aktuellen Bestände (bestände) und eine Liste der verkauften Artikel (verkäufe).\n",
    "- Jedes Element in der Liste bestände ist ein Tupel bestehend aus dem Artikelnamen und der Anzahl der verfügbaren Artikel.\n",
    "- Jedes Element in der Liste verkäufe ist ein Tupel bestehend aus dem Artikelnamen und der Anzahl der verkauften Artikel.\n",
    "- Der Schwellenwert, unter dem Artikel nachbestellt werden müssen, beträgt 5 Stück.\n",
    "- Das Programm soll durch die Listen iterieren und den neuen Bestand berechnen.\n",
    "- Am Ende soll das Programm eine Liste der Artikel ausgeben, die nachbestellt werden müssen."
   ]
  },
  {
   "cell_type": "code",
   "execution_count": 3,
   "id": "3e31b606",
   "metadata": {},
   "outputs": [
    {
     "name": "stdout",
     "output_type": "stream",
     "text": [
      "[('Brot', 0), ('Milch', 15), ('Eier', 5), ('Butter', 3), ('Apfel', 3)]\n",
      "[('Milch', 5), ('Eier', 25), ('Butter', 2), ('Apfel', 12), ('Brot', 10)]\n",
      "Aktuelle Bestände: [('Brot', 0), ('Milch', 15), ('Eier', 5), ('Butter', 3), ('Apfel', 3)]\n",
      "Nachzubestellende Artikel: ['Brot', 'Butter', 'Apfel']\n"
     ]
    }
   ],
   "source": [
    "## Listen\n",
    "bestände = [(\"Brot\", 10), (\"Milch\", 20), (\"Eier\", 30), (\"Butter\", 5), (\"Apfel\", 15)]\n",
    "verkäufe = [(\"Milch\", 5), (\"Eier\", 25), (\"Butter\", 2), (\"Apfel\", 12), (\"Brot\", 10)]\n",
    "\n",
    "schwellenwert = 5\n",
    "\n",
    "# Aktualisierung der Bestände nach Verkäufen\n",
    "## Ihr Code\n",
    "for verkauf in verkäufe:\n",
    "    artikel_name, verkaufte_menge = verkauf\n",
    "    for i in range(len(bestände)):\n",
    "        if bestände[i][0] == artikel_name:\n",
    "            bestände[i] = (bestände[i][0], bestände[i][1] - verkaufte_menge)\n",
    "            \n",
    "print(bestände)\n",
    "print(verkäufe)\n",
    "\n",
    "# Liste für nachzubestellende Artikel initialisieren\n",
    "## Ihr Code\n",
    "nachzubestellen = []\n",
    "\n",
    "# Überprüfen, welche Artikel nachbestellt werden müssen\n",
    "## Ihr Code\n",
    "for bestand in bestände:\n",
    "    artikel_name, menge = bestand\n",
    "    if menge < schwellenwert:\n",
    "        nachzubestellen.append(artikel_name)\n",
    "\n",
    "# Ergebnisse ausgeben\n",
    "print(\"Aktuelle Bestände:\", bestände)\n",
    "print(\"Nachzubestellende Artikel:\", nachzubestellen)"
   ]
  }
 ],
 "metadata": {
  "kernelspec": {
   "display_name": "Python 3 (ipykernel)",
   "language": "python",
   "name": "python3"
  },
  "language_info": {
   "codemirror_mode": {
    "name": "ipython",
    "version": 3
   },
   "file_extension": ".py",
   "mimetype": "text/x-python",
   "name": "python",
   "nbconvert_exporter": "python",
   "pygments_lexer": "ipython3",
   "version": "3.11.5"
  }
 },
 "nbformat": 4,
 "nbformat_minor": 5
}
