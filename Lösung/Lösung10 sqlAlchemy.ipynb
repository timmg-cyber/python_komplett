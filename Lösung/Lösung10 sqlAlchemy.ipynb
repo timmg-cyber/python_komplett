{
 "cells": [
  {
   "cell_type": "markdown",
   "id": "b4f402f2-f59f-4190-bed2-eea677d6b40c",
   "metadata": {},
   "source": [
    "## Aufgabe 1"
   ]
  },
  {
   "cell_type": "markdown",
   "id": "28bc5b2e-f5e4-43c4-a332-e620f9531edc",
   "metadata": {},
   "source": [
    "Erstellen Sie das engine-Objekt für die Datenbank:"
   ]
  },
  {
   "cell_type": "code",
   "execution_count": null,
   "id": "2a141e6f-8e82-4c14-8a90-ad4570ab4006",
   "metadata": {},
   "outputs": [],
   "source": [
    "## Imports\n",
    "from sqlalchemy import create_engine\n",
    "from sqlalchemy import Column, Integer, String, ForeignKey #weitere Datentypen: Date, Boolean\n",
    "from sqlalchemy.ext.declarative import declarative_base\n",
    "from sqlalchemy.orm import relationship, sessionmaker\n",
    "import json\n",
    "from sqlalchemy import create_engine\n",
    "import json\n",
    "\n",
    "f = open(\"credentials.txt\")\n",
    "data = json.load(f)\n",
    "\n",
    "f.close()"
   ]
  },
  {
   "cell_type": "code",
   "execution_count": null,
   "id": "5d45b6b6-40c6-457b-bac1-225f9899e0ee",
   "metadata": {},
   "outputs": [],
   "source": [
    "database = data['database']\n",
    "username = data['username']\n",
    "password = data['password']\n",
    "host = data['host']\n",
    "\n",
    "engine = create_engine(f'postgresql+psycopg2://{username}:{password}@{host}:5432/{database}')"
   ]
  },
  {
   "cell_type": "markdown",
   "id": "4b6144d3-a673-4ba3-a3d7-cbd6f7f20f8b",
   "metadata": {},
   "source": [
    "Implementieren Sie folgendes ERM als Datenbankschema mit sqlAlchemy:"
   ]
  },
  {
   "cell_type": "markdown",
   "id": "1aad11ab-9f0f-4a86-ad5a-df082557e90f",
   "metadata": {},
   "source": [
    "![ERM](erm.png)"
   ]
  },
  {
   "cell_type": "code",
   "execution_count": null,
   "id": "9c81509a-45c8-42a9-a757-5261c247fe2e",
   "metadata": {},
   "outputs": [],
   "source": [
    "# Basisdeklaration\n",
    "Base = declarative_base()\n",
    "\n",
    "# Tabellenklassen\n",
    "class Author(Base):\n",
    "    __tablename__ = 'authors'\n",
    "    id = Column(Integer, primary_key=True)\n",
    "    name = Column(String, nullable=False)\n",
    "    books = relationship('Book', back_populates='author')\n",
    "\n",
    "class Book(Base):\n",
    "    __tablename__ = 'books'\n",
    "    id = Column(Integer, primary_key=True)\n",
    "    title = Column(String, nullable=False)\n",
    "    author_id = Column(Integer, ForeignKey('authors.id'))\n",
    "    author = relationship('Author', back_populates='books')\n",
    "\n",
    "# Tabellen erstellen\n",
    "Base.metadata.create_all(engine)"
   ]
  },
  {
   "cell_type": "markdown",
   "id": "55620ab9-dbf2-4ff7-b7a6-e4b3fa18a929",
   "metadata": {},
   "source": [
    "- Erstellen Sie mindestens 3 Bücher und fügen diese der Datenbank hinzu\n",
    "- Fragen Sie alle Bücher aus der Datenbank ab und lassen Sie sich diese ausgeben\n",
    "- Fragen Sie alle Autoren aus der Datenbank ab und lassen Sie sich diese ausgeben"
   ]
  },
  {
   "cell_type": "code",
   "execution_count": null,
   "id": "4041f5f2-f656-4afe-b1a7-0b37683c7eb6",
   "metadata": {},
   "outputs": [],
   "source": [
    "# Session erstellen\n",
    "Session = sessionmaker(bind=engine)\n",
    "session = Session()\n",
    "\n",
    "# Daten einfügen\n",
    "def add_data():\n",
    "    # Autoren erstellen\n",
    "    author1 = Author(name='George Orwell')\n",
    "    author2 = Author(name='J.K. Rowling')\n",
    "    author3 = Author(name='J.R.R. Tolkien')\n",
    "\n",
    "    # Bücher erstellen\n",
    "    book1 = Book(title='1984', author=author1)\n",
    "    book2 = Book(title='Harry Potter and the Philosopher\\'s Stone', author=author2)\n",
    "    book3 = Book(title='The Hobbit', author=author3)\n",
    "\n",
    "    # Daten zur Session hinzufügen\n",
    "    session.add_all([author1, author2, author3, book1, book2, book3])\n",
    "    session.commit()\n",
    "\n",
    "# Funktion aufrufen, um Daten hinzuzufügen\n",
    "add_data()\n",
    "\n",
    "# Daten abfragen und anzeigen\n",
    "def query_data():\n",
    "    books = session.query(Book).all()\n",
    "    for book in books:\n",
    "        print(f'Book: {book.title}, Author: {book.author.name}')\n",
    "\n",
    "query_data()"
   ]
  }
 ],
 "metadata": {
  "kernelspec": {
   "display_name": "Python 3 (ipykernel)",
   "language": "python",
   "name": "python3"
  },
  "language_info": {
   "codemirror_mode": {
    "name": "ipython",
    "version": 3
   },
   "file_extension": ".py",
   "mimetype": "text/x-python",
   "name": "python",
   "nbconvert_exporter": "python",
   "pygments_lexer": "ipython3",
   "version": "3.11.5"
  }
 },
 "nbformat": 4,
 "nbformat_minor": 5
}
