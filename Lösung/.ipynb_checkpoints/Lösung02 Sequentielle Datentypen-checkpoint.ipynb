{
 "cells": [
  {
   "cell_type": "markdown",
   "id": "81ec84bd",
   "metadata": {},
   "source": [
    "Im folgenden finden Sie zwei Aufgaben zu Sequentiellen Datentypen dargestellt. Achten Sie bei der Bearbeitung besonders auf folgende Punkte:\n",
    "- Verwenden Sie sequentielle Datentypen wie Listen und Tupel.\n",
    "- Zeige Sie, wie man Elemente hinzufügt und entfernt.\n",
    "- Zeigen Sie die Verwendung von Indizes zur Manipulation der Listen."
   ]
  },
  {
   "cell_type": "markdown",
   "id": "2083b5be",
   "metadata": {},
   "source": [
    "## Aufgabe 1"
   ]
  },
  {
   "cell_type": "markdown",
   "id": "ba44881f",
   "metadata": {},
   "source": [
    "Du arbeitest als Entwickler für einen Veranstaltungsplaner. Deine Aufgabe ist es, ein kleines Programm in Python zu schreiben, das grundlegende Funktionen zur Verwaltung einer Liste von Gästen und einer Liste von Veranstaltungen bietet. Die Gäste und Veranstaltungen werden als Tupel und Strings dargestellt."
   ]
  },
  {
   "cell_type": "markdown",
   "id": "5f6337ad",
   "metadata": {},
   "source": [
    "1. Gästeliste verwalten"
   ]
  },
  {
   "cell_type": "markdown",
   "id": "e55f99fe",
   "metadata": {},
   "source": [
    "- Erstelle eine leere Liste namens gaeste.\n",
    "- Füge drei Gäste zur Liste hinzu. Jeder Gast wird durch ein Tupel dargestellt, das den Namen und die E-Mail-Adresse des Gastes enthält. Beispiel: (\"Max Mustermann\", \"max@beispiel.de\").\n",
    "- Entferne einen Gast aus der Liste.\n",
    "- Zeige die aktuelle Liste der Gäste an."
   ]
  },
  {
   "cell_type": "code",
   "execution_count": 2,
   "id": "c5b4b5c5",
   "metadata": {},
   "outputs": [
    {
     "name": "stdout",
     "output_type": "stream",
     "text": [
      "Aktuelle Gästeliste: [('Max Mustermann', 'max@beispiel.de'), ('Erika Musterfrau', 'erika@beispiel.de')]\n"
     ]
    }
   ],
   "source": [
    "# Erstellen der leeren Gästeliste\n",
    "gaeste = []\n",
    "\n",
    "# Hinzufügen von Gästen\n",
    "gaeste.append((\"Max Mustermann\", \"max@beispiel.de\"))\n",
    "gaeste.append((\"Erika Musterfrau\", \"erika@beispiel.de\"))\n",
    "gaeste.append((\"Hans Beispiel\", \"hans@beispiel.de\"))\n",
    "\n",
    "# Entfernen eines Gastes\n",
    "gaeste.remove((\"Hans Beispiel\", \"hans@beispiel.de\"))\n",
    "\n",
    "# Anzeige der aktuellen Gästeliste\n",
    "print(\"Aktuelle Gästeliste:\", gaeste)"
   ]
  },
  {
   "cell_type": "markdown",
   "id": "74716102",
   "metadata": {},
   "source": [
    "2. Veranstaltungsliste verwalten"
   ]
  },
  {
   "cell_type": "markdown",
   "id": "8927af40",
   "metadata": {},
   "source": [
    "- Erstelle eine Liste namens 'veranstaltungen' mit drei Veranstaltungen. Jede Veranstaltung wird als String dargestellt.- \n",
    "- Füge eine neue Veranstaltung zur Liste hinzu.\n",
    "- Entferne eine Veranstaltung aus der Liste.\n",
    "- Zeige die aktuelle Liste der Veranstaltungen an."
   ]
  },
  {
   "cell_type": "code",
   "execution_count": 3,
   "id": "197d8e33",
   "metadata": {},
   "outputs": [
    {
     "name": "stdout",
     "output_type": "stream",
     "text": [
      "Aktuelle Veranstaltungsliste: ['Weihnachtsfeier', 'Jahreshauptversammlung', 'Oktoberfest']\n"
     ]
    }
   ],
   "source": [
    "# Erstellen der Veranstaltungsliste\n",
    "veranstaltungen = [\"Weihnachtsfeier\", \"Sommerfest\", \"Jahreshauptversammlung\"]\n",
    "\n",
    "# Hinzufügen einer neuen Veranstaltung\n",
    "veranstaltungen.append(\"Oktoberfest\")\n",
    "\n",
    "# Entfernen einer Veranstaltung\n",
    "veranstaltungen.remove(\"Sommerfest\")\n",
    "\n",
    "# Anzeige der aktuellen Veranstaltungsliste\n",
    "print(\"Aktuelle Veranstaltungsliste:\", veranstaltungen)"
   ]
  },
  {
   "cell_type": "markdown",
   "id": "69a821a9",
   "metadata": {},
   "source": [
    "3. Gästeliste und Veranstaltungsliste kombinieren:\n",
    "- Erstelle eine Liste namens 'einladungen', die für jede Veranstaltung eine Liste von eingeladenen Gästen enthält.\n",
    "- Weise für jede Veranstaltung zwei Gäste zu und füge die entsprechenden Tupel zur Liste einladungen hinzu.\n",
    "- Zeige die Liste der Einladungen an."
   ]
  },
  {
   "cell_type": "code",
   "execution_count": 4,
   "id": "eb96403c",
   "metadata": {},
   "outputs": [
    {
     "name": "stdout",
     "output_type": "stream",
     "text": [
      "Einladungen für Weihnachtsfeier: [('Max Mustermann', 'max@beispiel.de'), ('Erika Musterfrau', 'erika@beispiel.de')]\n",
      "Einladungen für Jahreshauptversammlung: [('Erika Musterfrau', 'erika@beispiel.de'), ('Max Mustermann', 'max@beispiel.de')]\n",
      "Einladungen für Oktoberfest: [('Max Mustermann', 'max@beispiel.de'), ('Erika Musterfrau', 'erika@beispiel.de')]\n"
     ]
    }
   ],
   "source": [
    "# Erstellen der Einladungen-Liste\n",
    "einladungen = []\n",
    "\n",
    "# Einladen der Gäste zu den Veranstaltungen\n",
    "einladungen.append([gaeste[0], gaeste[1]])  # Einladungen für Weihnachtsfeier\n",
    "einladungen.append([gaeste[1], gaeste[0]])  # Einladungen für Jahreshauptversammlung\n",
    "einladungen.append([gaeste[0], gaeste[1]])  # Einladungen für Oktoberfest\n",
    "\n",
    "# Anzeige der Einladungen\n",
    "print(\"Einladungen für Weihnachtsfeier:\", einladungen[0])\n",
    "print(\"Einladungen für Jahreshauptversammlung:\", einladungen[1])\n",
    "print(\"Einladungen für Oktoberfest:\", einladungen[2])"
   ]
  },
  {
   "cell_type": "markdown",
   "id": "6bb1d73a",
   "metadata": {},
   "source": [
    "4. Gästeliste verwalten:\n",
    "- Entfernen Sie den letzten Gast aus der Gästeliste mit pop und geben diesen und die aktualisierte Gästeliste mit print() aus\n",
    "- Fügen Sie einen neuen Gast an der zweiten Position ein. Geben Sie ebenfalls die neue Gästeliste aus.\n",
    "- Erweitern Sie die Veranstaltungsliste durch ein 'Frühlingsfest' und einen 'Herbstmarkt' mit extend. Geben Sie die aktualisierte Veranstaltungsliste aus"
   ]
  },
  {
   "cell_type": "code",
   "execution_count": 5,
   "id": "7fc90369",
   "metadata": {},
   "outputs": [
    {
     "name": "stdout",
     "output_type": "stream",
     "text": [
      "Entfernter Gast: ('Erika Musterfrau', 'erika@beispiel.de')\n",
      "Aktualisierte Gästeliste nach pop: [('Max Mustermann', 'max@beispiel.de')]\n",
      "Aktualisierte Gästeliste nach insert: [('Max Mustermann', 'max@beispiel.de'), ('Lena Beispiel', 'lena@beispiel.de')]\n",
      "Aktualisierte Veranstaltungsliste nach extend: ['Weihnachtsfeier', 'Jahreshauptversammlung', 'Oktoberfest', 'Frühlingsfest', 'Herbstmarkt']\n"
     ]
    }
   ],
   "source": [
    "# Entfernen des letzten Gastes aus der Gästeliste mit pop\n",
    "letzter_gast = gaeste.pop()\n",
    "print(\"Entfernter Gast:\", letzter_gast)\n",
    "print(\"Aktualisierte Gästeliste nach pop:\", gaeste)\n",
    "\n",
    "# Einfügen eines neuen Gastes an der zweiten Position mit insert\n",
    "gaeste.insert(1, (\"Lena Beispiel\", \"lena@beispiel.de\"))\n",
    "print(\"Aktualisierte Gästeliste nach insert:\", gaeste)\n",
    "\n",
    "# Erweitern der Veranstaltungsliste mit extend\n",
    "veranstaltungen.extend([\"Frühlingsfest\", \"Herbstmarkt\"])\n",
    "print(\"Aktualisierte Veranstaltungsliste nach extend:\", veranstaltungen)"
   ]
  }
 ],
 "metadata": {
  "kernelspec": {
   "display_name": "Python 3 (ipykernel)",
   "language": "python",
   "name": "python3"
  },
  "language_info": {
   "codemirror_mode": {
    "name": "ipython",
    "version": 3
   },
   "file_extension": ".py",
   "mimetype": "text/x-python",
   "name": "python",
   "nbconvert_exporter": "python",
   "pygments_lexer": "ipython3",
   "version": "3.11.5"
  }
 },
 "nbformat": 4,
 "nbformat_minor": 5
}
