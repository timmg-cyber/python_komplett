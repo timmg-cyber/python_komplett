{
 "cells": [
  {
   "cell_type": "markdown",
   "id": "dc577284",
   "metadata": {},
   "source": [
    "Bearbeiten Sie die folgende Aufgabe mit den vorhandenen Dictionary-Methoden"
   ]
  },
  {
   "cell_type": "markdown",
   "id": "2be2e5f4",
   "metadata": {},
   "source": [
    "## Aufgabe 1"
   ]
  },
  {
   "cell_type": "markdown",
   "id": "3d750c30",
   "metadata": {},
   "source": [
    "Stellen Sie sich vor, Sie arbeiten für ein kleines Einzelhandelsunternehmen, das eine Vielzahl von Produkten verkauft. Ihr Unternehmen möchte ein einfaches System zur Verwaltung des Produktinventars implementieren. Ihre Aufgabe ist es, ein Python-Programm zu schreiben, das bestimmte Anforderungen erfüllt:"
   ]
  },
  {
   "cell_type": "markdown",
   "id": "607bd1c4",
   "metadata": {},
   "source": [
    "Inventarinitialisierung"
   ]
  },
  {
   "cell_type": "markdown",
   "id": "5440d4eb",
   "metadata": {},
   "source": [
    "- Erstellen Sie ein Dictionary namens inventory, das die Produktnamen als Schlüssel und die Anzahl der auf Lager befindlichen Einheiten als Werte enthält."
   ]
  },
  {
   "cell_type": "code",
   "execution_count": 1,
   "id": "73390d30",
   "metadata": {},
   "outputs": [],
   "source": [
    "inventory = {'Apfel': 50, 'Banane': 30, 'Orange': 20, 'Birne': 15}"
   ]
  },
  {
   "cell_type": "markdown",
   "id": "1b952f07",
   "metadata": {},
   "source": [
    "Produktabfrage\n",
    "- Geben Sie den Bestand eines beispielhaften Produkts zurück\n",
    "- Wenn das Produkt nicht mehr vorhanden ist, soll eine Ausgabe erstellt werden, welche sagt, dass das Produkt nicht mehr verfügbar ist"
   ]
  },
  {
   "cell_type": "code",
   "execution_count": 8,
   "id": "45350c70",
   "metadata": {},
   "outputs": [
    {
     "name": "stdout",
     "output_type": "stream",
     "text": [
      "Es sind noch 50 Apfel verfügbar\n"
     ]
    }
   ],
   "source": [
    "artikel = \"Apfel\"\n",
    "\n",
    "if artikel in inventory:\n",
    "    if inventory.get(artikel) == 0:\n",
    "        print(\"Das Produkt ist nicht mehr verfügbar\")\n",
    "    else: print(f\"Es sind noch {(inventory.get(artikel))} {str(artikel)} verfügbar\")\n",
    "else:\n",
    "    print(\"Das Produkt ist nicht mehr verfügbar\")"
   ]
  },
  {
   "cell_type": "markdown",
   "id": "3433ed45",
   "metadata": {},
   "source": [
    "Produktaktualisierung\n",
    "\n",
    "- Aktualisieren Sie die Menge eines bestimmten Artikels\n",
    "- Löschen Sie den Bestand eines Artikels\n",
    "- Fügen Sie neue Produkte der Artikelliste hinzu"
   ]
  },
  {
   "cell_type": "code",
   "execution_count": 9,
   "id": "fe4177af",
   "metadata": {},
   "outputs": [
    {
     "data": {
      "text/plain": [
       "{'Banane': 30, 'Orange': 20, 'Birne': 15}"
      ]
     },
     "execution_count": 9,
     "metadata": {},
     "output_type": "execute_result"
    }
   ],
   "source": [
    "artikel = \"Apfel\"\n",
    "\n",
    "inventory.pop(\"Apfel\")\n",
    "inventory"
   ]
  },
  {
   "cell_type": "code",
   "execution_count": 11,
   "id": "684ee372",
   "metadata": {},
   "outputs": [
    {
     "data": {
      "text/plain": [
       "{'Banane': 40, 'Orange': 20, 'Birne': 15}"
      ]
     },
     "execution_count": 11,
     "metadata": {},
     "output_type": "execute_result"
    }
   ],
   "source": [
    "inventory.update({\"Banane\": 40})\n",
    "inventory"
   ]
  },
  {
   "cell_type": "code",
   "execution_count": 12,
   "id": "0754726d",
   "metadata": {},
   "outputs": [
    {
     "data": {
      "text/plain": [
       "{'Banane': 40, 'Orange': 20, 'Birne': 15, 'Erdbeere': 20}"
      ]
     },
     "execution_count": 12,
     "metadata": {},
     "output_type": "execute_result"
    }
   ],
   "source": [
    "inventory[\"Erdbeere\"] = 20\n",
    "inventory"
   ]
  }
 ],
 "metadata": {
  "kernelspec": {
   "display_name": "Python 3 (ipykernel)",
   "language": "python",
   "name": "python3"
  },
  "language_info": {
   "codemirror_mode": {
    "name": "ipython",
    "version": 3
   },
   "file_extension": ".py",
   "mimetype": "text/x-python",
   "name": "python",
   "nbconvert_exporter": "python",
   "pygments_lexer": "ipython3",
   "version": "3.11.5"
  }
 },
 "nbformat": 4,
 "nbformat_minor": 5
}
