{
 "cells": [
  {
   "cell_type": "markdown",
   "id": "66914f8c",
   "metadata": {},
   "source": [
    "Im Folgenden Notebook sind zwei Aufgabenstellungen enthalten. Versuchen Sie für beide passenende Bedingungen zu entwickeln."
   ]
  },
  {
   "cell_type": "markdown",
   "id": "f3b4e737",
   "metadata": {},
   "source": [
    "## Aufgabe 1"
   ]
  },
  {
   "cell_type": "markdown",
   "id": "be80b11c",
   "metadata": {},
   "source": [
    "Ein Online-Shop möchte eine einfache Bewertung für den Einkaufskorb eines Kunden implementieren. Jeder Einkaufskorb besteht aus 3 Listen, wobei jeder Index ein Produkt darstellt. Die Listen enthalten den Namen des Produkts (artikel), die Menge (menge) und den Preis (preis) pro Einheit.\n",
    "\n",
    "Deine Aufgabe ist es, ein Python-Programm zu schreiben, das die folgenden Funktionen bietet:\n",
    "\n",
    "- Überprüfen, ob der Kunde Milch gekauft hat.\n",
    "- Den Gesamtpreis des Einkaufswagens berechnen.\n",
    "- Überprüfen, ob der Einkaufswagen die Mindestanforderung für kostenlosen Versand erfüllt (>10€)."
   ]
  },
  {
   "cell_type": "code",
   "execution_count": 8,
   "id": "f097deaf",
   "metadata": {},
   "outputs": [],
   "source": [
    "# Listen\n",
    "\n",
    "artikel = [\"Äpfel\",\"Brot\",\"Milch\",\"Eier\"]\n",
    "menge = [2,1,1,12]\n",
    "preis = [1.50,2.00,1.20,0.10]"
   ]
  },
  {
   "cell_type": "markdown",
   "id": "0e69ff18",
   "metadata": {},
   "source": [
    "Für den Einkaufskorb, sollte das Programm folgende Ausgabe geben:\n",
    "\n",
    "- Milch ist im Einkaufswagen.\n",
    "- Gesamtpreis: 7.40 Euro\n",
    "- Kostenloser Versand nicht verfügbar."
   ]
  },
  {
   "cell_type": "code",
   "execution_count": 9,
   "id": "bc7e1272",
   "metadata": {},
   "outputs": [
    {
     "name": "stdout",
     "output_type": "stream",
     "text": [
      "Milch ist im Einkaufswagen.\n",
      "Gesamtpreis: 7.40 Euro\n",
      "Kostenloser Versand nicht verfügbar.\n"
     ]
    }
   ],
   "source": [
    "# Überprüfen, ob \"Milk\" im Einkaufswagen ist\n",
    "item_check = \"Milch\" in artikel\n",
    "\n",
    "if item_check:\n",
    "    print(\"Milch ist im Einkaufswagen.\")\n",
    "else:\n",
    "    print(\"Milch ist nicht im Einkaufswagen.\")\n",
    "\n",
    "# Gesamtpreis des Einkaufswagens berechnen\n",
    "total_price = sum([menge[0]*preis[0],menge[1]*preis[1],menge[2]*preis[2],menge[3]*preis[3]])\n",
    "print(f\"Gesamtpreis: {total_price:.2f} Euro\")\n",
    "\n",
    "# Überprüfen der Mindestanforderung für kostenlosen Versand\n",
    "if total_price > 10:\n",
    "    print(\"Kostenloser Versand verfügbar.\")\n",
    "else:\n",
    "    print(\"Kostenloser Versand nicht verfügbar.\")"
   ]
  },
  {
   "cell_type": "markdown",
   "id": "ba57de5f",
   "metadata": {},
   "source": [
    "## Aufgabe 2"
   ]
  },
  {
   "cell_type": "markdown",
   "id": "2972c2d5",
   "metadata": {},
   "source": [
    "Sie sind für den Wareneingang eines Logistik-Unternehmens zuständig und müssen die Daten, welches das System erfasst, richtig zuordnen.\n",
    "Die Daten werden immer als Liste übergeben. Leider sind die Daten nicht sortiert. Das heißt Sie können nicht immer sagen an welcher Stelle\n",
    "sich welche Information befindet.\n",
    "Die Daten die übermittel werden sind: Gewicht (float), id(int) und Produkt(str)\n",
    "\n",
    "Bringen Sie die Liste in folgende Reihenfolge: (id,gewicht,produkt)\n",
    "und geben Sie den Artikel aus.\n",
    "\n",
    "Hinweis: Benutzen Sie die isinstance()-Methode"
   ]
  },
  {
   "cell_type": "code",
   "execution_count": null,
   "id": "3ad08cbf",
   "metadata": {},
   "outputs": [],
   "source": [
    "ware = (\"Lebensmittel\",1594, 20.0)\n",
    "#ware = (1594,\"Lebensmittel\", 20.0)\n",
    "#ware = (20.0,1594, \"Lebensmittel\")\n",
    "#ware = (\"Lebensmittel\",20.0, 1594)\n",
    "\n",
    "\n",
    "## Ihr Code\n",
    "\n",
    "new_ware = [None,None,None]\n",
    "\n",
    "if isinstance(ware[0],int):\n",
    "    new_ware[0] = ware[0]\n",
    "    \n",
    "    if isinstance(ware[1],float):\n",
    "        new_ware[1] = ware[1]\n",
    "        new_ware[2]  = ware[2]\n",
    "    else:\n",
    "        new_ware[2] = ware[1]\n",
    "        new_ware[1] = ware[2]\n",
    "\n",
    "if isinstance(ware[0],float):\n",
    "    new_ware[1] = ware[0]\n",
    "\n",
    "    if isinstance(ware[1],int):\n",
    "        new_ware[0] = ware[1]\n",
    "        new_ware[2] = ware[2]\n",
    "    else:\n",
    "        new_ware[2] = ware[1]\n",
    "        new_ware[0] = ware[2]\n",
    "\n",
    "elif isinstance(ware[0],str):\n",
    "    new_ware[2] = ware[0]\n",
    "    \n",
    "    if isinstance(ware[1],float):\n",
    "        new_ware[1] = ware[1]\n",
    "        new_ware[0] = ware[2]\n",
    "    else:\n",
    "        new_ware[0] = ware[1]\n",
    "        new_ware[1] = ware[2]\n",
    "    \n",
    "\n",
    "## Ausgabe\n",
    "print(new_ware)"
   ]
  }
 ],
 "metadata": {
  "kernelspec": {
   "display_name": "Python 3 (ipykernel)",
   "language": "python",
   "name": "python3"
  },
  "language_info": {
   "codemirror_mode": {
    "name": "ipython",
    "version": 3
   },
   "file_extension": ".py",
   "mimetype": "text/x-python",
   "name": "python",
   "nbconvert_exporter": "python",
   "pygments_lexer": "ipython3",
   "version": "3.11.5"
  }
 },
 "nbformat": 4,
 "nbformat_minor": 5
}
